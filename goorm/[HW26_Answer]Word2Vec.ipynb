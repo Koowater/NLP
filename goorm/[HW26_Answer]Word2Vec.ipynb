{
  "cells": [
    {
      "cell_type": "markdown",
      "metadata": {
        "id": "h3FAK0fz1kOr"
      },
      "source": [
        "## **3. Word2Vec**\n",
        "1. 주어진 단어들을 word2vec 모델에 들어갈 수 있는 형태로 만듭니다.\n",
        "2. CBOW, Skip-gram 모델을 각각 구현합니다.\n",
        "3. 모델을 실제로 학습해보고 결과를 확인합니다.\n",
        "4. 산점도를 그려 단어들의 대략적인 위치를 확인해봅니다"
      ]
    },
    {
      "cell_type": "markdown",
      "metadata": {
        "id": "u9FrxTPWIsct"
      },
      "source": [
        "### **필요 패키지 import**"
      ]
    },
    {
      "cell_type": "code",
      "execution_count": 2,
      "metadata": {
        "colab": {
          "base_uri": "https://localhost:8080/"
        },
        "id": "utBdiiW499DI",
        "outputId": "157a37ab-d041-4f5b-9c5b-1225a0bd67fa"
      },
      "outputs": [],
      "source": [
        "# !sudo apt-get install -y fonts-nanum\n",
        "# !sudo fc-cache -fv\n",
        "# !rm ~/.cache/matplotlib -rf"
      ]
    },
    {
      "cell_type": "code",
      "execution_count": 3,
      "metadata": {
        "colab": {
          "base_uri": "https://localhost:8080/"
        },
        "id": "QjroCdtwI9Rz",
        "outputId": "3b155469-22ae-4351-cdf6-8dd45d4b570b"
      },
      "outputs": [
        {
          "name": "stdout",
          "output_type": "stream",
          "text": [
            "Requirement already satisfied: konlpy in /home/koowater/.local/lib/python3.8/site-packages (0.6.0)\n",
            "Requirement already satisfied: JPype1>=0.7.0 in /home/koowater/.local/lib/python3.8/site-packages (from konlpy) (1.4.0)\n",
            "Requirement already satisfied: numpy>=1.6 in /home/koowater/.local/lib/python3.8/site-packages (from konlpy) (1.22.3)\n",
            "Requirement already satisfied: lxml>=4.1.0 in /home/koowater/.local/lib/python3.8/site-packages (from konlpy) (4.8.0)\n"
          ]
        }
      ],
      "source": [
        "# !pip install konlpy"
      ]
    },
    {
      "cell_type": "code",
      "execution_count": 1,
      "metadata": {
        "id": "nSP7aXfJIr3i"
      },
      "outputs": [],
      "source": [
        "from tqdm import tqdm\n",
        "from konlpy.tag import Mecab,Twitter,Okt,Kkma\n",
        "from torch import nn\n",
        "from torch.nn import functional as F\n",
        "from torch.utils.data import Dataset, DataLoader\n",
        "from collections import defaultdict\n",
        "\n",
        "import torch\n",
        "import copy\n",
        "import numpy as np"
      ]
    },
    {
      "cell_type": "markdown",
      "metadata": {
        "id": "qugro74yJASr"
      },
      "source": [
        "### **데이터 전처리**"
      ]
    },
    {
      "cell_type": "markdown",
      "metadata": {
        "id": "Q36dfSRRJDtX"
      },
      "source": [
        "\n",
        "\n",
        "데이터를 확인하고 Word2Vec 형식에 맞게 전처리합니다."
      ]
    },
    {
      "cell_type": "code",
      "execution_count": 2,
      "metadata": {
        "id": "CLZ2f-lRJSus"
      },
      "outputs": [],
      "source": [
        "train_data = [\n",
        "  \"정말 맛있습니다. 추천합니다.\",\n",
        "  \"기대했던 것보단 별로였네요.\",\n",
        "  \"다 좋은데 가격이 너무 비싸서 다시 가고 싶다는 생각이 안 드네요.\",\n",
        "  \"완전 최고입니다! 재방문 의사 있습니다.\",\n",
        "  \"음식도 서비스도 다 만족스러웠습니다.\",\n",
        "  \"위생 상태가 좀 별로였습니다. 좀 더 개선되기를 바랍니다.\",\n",
        "  \"맛도 좋았고 직원분들 서비스도 너무 친절했습니다.\",\n",
        "  \"기념일에 방문했는데 음식도 분위기도 서비스도 다 좋았습니다.\",\n",
        "  \"전반적으로 음식이 너무 짰습니다. 저는 별로였네요.\",\n",
        "  \"위생에 조금 더 신경 썼으면 좋겠습니다. 조금 불쾌했습니다.\"       \n",
        "]\n",
        "\n",
        "test_words = [\"음식\", \"맛\", \"서비스\", \"위생\", \"가격\"]"
      ]
    },
    {
      "cell_type": "markdown",
      "metadata": {
        "id": "vReElaFSLBYL"
      },
      "source": [
        "Tokenization과 vocab을 만드는 과정은 이전 실습과 유사합니다."
      ]
    },
    {
      "cell_type": "code",
      "execution_count": 3,
      "metadata": {
        "id": "dTjlRzmWMDK_"
      },
      "outputs": [],
      "source": [
        "tokenizer = Okt()"
      ]
    },
    {
      "cell_type": "code",
      "execution_count": 4,
      "metadata": {
        "id": "0DTUsX672icp"
      },
      "outputs": [],
      "source": [
        "def make_tokenized(data):\n",
        "  tokenized = []\n",
        "  for sent in tqdm(data):\n",
        "    tokens = tokenizer.morphs(sent, stem=True)\n",
        "    tokenized.append(tokens)\n",
        "\n",
        "  return tokenized"
      ]
    },
    {
      "cell_type": "code",
      "execution_count": 5,
      "metadata": {
        "colab": {
          "base_uri": "https://localhost:8080/"
        },
        "id": "C-z0z6HD2rrX",
        "outputId": "c9db53ef-6b61-4fb6-95ad-a87963f25978"
      },
      "outputs": [
        {
          "name": "stderr",
          "output_type": "stream",
          "text": [
            "100%|██████████| 10/10 [00:02<00:00,  3.68it/s]\n"
          ]
        }
      ],
      "source": [
        "train_tokenized = make_tokenized(train_data)"
      ]
    },
    {
      "cell_type": "code",
      "execution_count": 6,
      "metadata": {
        "colab": {
          "base_uri": "https://localhost:8080/"
        },
        "id": "51exEpI0Mc3l",
        "outputId": "aff941ff-a4e4-4d64-804e-835071f2df39"
      },
      "outputs": [
        {
          "name": "stderr",
          "output_type": "stream",
          "text": [
            "100%|██████████| 10/10 [00:00<00:00, 170500.16it/s]\n"
          ]
        }
      ],
      "source": [
        "word_count = defaultdict(int)\n",
        "\n",
        "for tokens in tqdm(train_tokenized):\n",
        "  for token in tokens:\n",
        "    word_count[token] += 1"
      ]
    },
    {
      "cell_type": "code",
      "execution_count": 7,
      "metadata": {
        "colab": {
          "base_uri": "https://localhost:8080/"
        },
        "id": "gyvHAMAnMh1D",
        "outputId": "2cd3844f-5b3a-4ce6-f920-231ab6b46057"
      },
      "outputs": [
        {
          "name": "stdout",
          "output_type": "stream",
          "text": [
            "[('.', 14), ('도', 7), ('이다', 4), ('좋다', 4), ('별로', 3), ('다', 3), ('이', 3), ('너무', 3), ('음식', 3), ('서비스', 3), ('하다', 2), ('방문', 2), ('위생', 2), ('좀', 2), ('더', 2), ('에', 2), ('조금', 2), ('정말', 1), ('맛있다', 1), ('추천', 1), ('기대하다', 1), ('것', 1), ('보단', 1), ('가격', 1), ('비싸다', 1), ('다시', 1), ('가다', 1), ('싶다', 1), ('생각', 1), ('안', 1), ('드네', 1), ('요', 1), ('완전', 1), ('최고', 1), ('!', 1), ('재', 1), ('의사', 1), ('있다', 1), ('만족스럽다', 1), ('상태', 1), ('가', 1), ('개선', 1), ('되다', 1), ('기르다', 1), ('바라다', 1), ('맛', 1), ('직원', 1), ('분들', 1), ('친절하다', 1), ('기념일', 1), ('분위기', 1), ('전반', 1), ('적', 1), ('으로', 1), ('짜다', 1), ('저', 1), ('는', 1), ('신경', 1), ('써다', 1), ('불쾌하다', 1)]\n"
          ]
        }
      ],
      "source": [
        "word_count = sorted(word_count.items(), key=lambda x: x[1], reverse=True)\n",
        "print(list(word_count))"
      ]
    },
    {
      "cell_type": "code",
      "execution_count": 8,
      "metadata": {
        "colab": {
          "base_uri": "https://localhost:8080/"
        },
        "id": "DaK_i3zL2vO3",
        "outputId": "74a47b5c-6e99-4468-d874-8f277d41041b"
      },
      "outputs": [
        {
          "name": "stderr",
          "output_type": "stream",
          "text": [
            "100%|██████████| 60/60 [00:00<00:00, 1098944.28it/s]\n"
          ]
        }
      ],
      "source": [
        "w2i = {}\n",
        "for pair in tqdm(word_count):\n",
        "  if pair[0] not in w2i:\n",
        "    w2i[pair[0]] = len(w2i)\n",
        "\n",
        "i2w={v:k for k,v in w2i.items()}"
      ]
    },
    {
      "cell_type": "code",
      "execution_count": 9,
      "metadata": {
        "colab": {
          "base_uri": "https://localhost:8080/"
        },
        "id": "LiGqiEGDL5B_",
        "outputId": "781850df-c09f-4f27-90f8-4aea2932f596"
      },
      "outputs": [
        {
          "name": "stdout",
          "output_type": "stream",
          "text": [
            "[['정말', '맛있다', '.', '추천', '하다', '.'], ['기대하다', '것', '보단', '별로', '이다', '.'], ['다', '좋다', '가격', '이', '너무', '비싸다', '다시', '가다', '싶다', '생각', '이', '안', '드네', '요', '.'], ['완전', '최고', '이다', '!', '재', '방문', '의사', '있다', '.'], ['음식', '도', '서비스', '도', '다', '만족스럽다', '.'], ['위생', '상태', '가', '좀', '별로', '이다', '.', '좀', '더', '개선', '되다', '기르다', '바라다', '.'], ['맛', '도', '좋다', '직원', '분들', '서비스', '도', '너무', '친절하다', '.'], ['기념일', '에', '방문', '하다', '음식', '도', '분위기', '도', '서비스', '도', '다', '좋다', '.'], ['전반', '적', '으로', '음식', '이', '너무', '짜다', '.', '저', '는', '별로', '이다', '.'], ['위생', '에', '조금', '더', '신경', '써다', '좋다', '.', '조금', '불쾌하다', '.']]\n",
            "{'.': 0, '도': 1, '이다': 2, '좋다': 3, '별로': 4, '다': 5, '이': 6, '너무': 7, '음식': 8, '서비스': 9, '하다': 10, '방문': 11, '위생': 12, '좀': 13, '더': 14, '에': 15, '조금': 16, '정말': 17, '맛있다': 18, '추천': 19, '기대하다': 20, '것': 21, '보단': 22, '가격': 23, '비싸다': 24, '다시': 25, '가다': 26, '싶다': 27, '생각': 28, '안': 29, '드네': 30, '요': 31, '완전': 32, '최고': 33, '!': 34, '재': 35, '의사': 36, '있다': 37, '만족스럽다': 38, '상태': 39, '가': 40, '개선': 41, '되다': 42, '기르다': 43, '바라다': 44, '맛': 45, '직원': 46, '분들': 47, '친절하다': 48, '기념일': 49, '분위기': 50, '전반': 51, '적': 52, '으로': 53, '짜다': 54, '저': 55, '는': 56, '신경': 57, '써다': 58, '불쾌하다': 59}\n"
          ]
        }
      ],
      "source": [
        "print(train_tokenized)\n",
        "print(w2i)"
      ]
    },
    {
      "cell_type": "code",
      "execution_count": null,
      "metadata": {
        "id": "Ttr52nB__q7r"
      },
      "outputs": [],
      "source": []
    },
    {
      "cell_type": "markdown",
      "metadata": {
        "id": "Rcm_L4iJBufO"
      },
      "source": [
        "### 다음은 Word2Vec을 학습시키는 대표적인 방법인 Skipgram과 CBow를 다룹니다. \n",
        "\n",
        "* Cbow는 주변단어를 이용해, 주어진 단어를 예측하는 방법입니다.\n",
        "* Skipgram은 중심 단어를 이용하여 주변 단어를 예측하는 방법입니다.\n",
        "* 즉 데이터셋을 구성할때, input x 와 target y를 어떻게 설정하는지에 차이가 있습니다.\n",
        "\n",
        "참고자료 \n",
        "\n",
        "* https://simonezz.tistory.com/35 \n",
        "\n",
        "* https://towardsdatascience.com/nlp-101-word2vec-skip-gram-and-cbow-93512ee24314 \n",
        "\n"
      ]
    },
    {
      "cell_type": "markdown",
      "metadata": {
        "id": "vXA5zaPPM3Wd"
      },
      "source": [
        "실제 모델에 들어가기 위한 input을 만들기 위해 `Dataset` 클래스를 정의합니다."
      ]
    },
    {
      "cell_type": "code",
      "execution_count": 10,
      "metadata": {
        "id": "s47ssyVt89t1"
      },
      "outputs": [],
      "source": [
        "class CBOWDataset(Dataset):\n",
        "  def __init__(self, train_tokenized, window_size=2):\n",
        "    self.x = [] # input word\n",
        "    self.y = [] # target word\n",
        "\n",
        "    for tokens in tqdm(train_tokenized):\n",
        "      token_ids = [w2i[token] for token in tokens]\n",
        "      for i, id in enumerate(token_ids):\n",
        "        if i-window_size >= 0 and i+window_size < len(token_ids):\n",
        "          self.x.append(token_ids[i-window_size:i] + token_ids[i+1:i+window_size+1])\n",
        "          self.y.append(id)\n",
        "\n",
        "    self.x = torch.LongTensor(self.x)  # (전체 데이터 개수, 2 * window_size)\n",
        "    self.y = torch.LongTensor(self.y)  # (전체 데이터 개수)\n",
        "\n",
        "  def __len__(self):\n",
        "    return self.x.shape[0]\n",
        "\n",
        "  def __getitem__(self, idx):\n",
        "    return self.x[idx], self.y[idx]"
      ]
    },
    {
      "cell_type": "code",
      "execution_count": 11,
      "metadata": {
        "id": "kvInhQ33AMJv"
      },
      "outputs": [],
      "source": [
        "class SkipGramDataset(Dataset):\n",
        "  def __init__(self, train_tokenized, window_size=2):\n",
        "    self.x = []\n",
        "    self.y = []\n",
        "\n",
        "    for tokens in tqdm(train_tokenized):\n",
        "      token_ids = [w2i[token] for token in tokens]\n",
        "      for i, id in enumerate(token_ids):\n",
        "        if i-window_size >= 0 and i+window_size < len(token_ids):\n",
        "          self.y += (token_ids[i-window_size:i] + token_ids[i+1:i+window_size+1])\n",
        "          self.x += [id] * 2 * window_size \n",
        "\n",
        "    self.x = torch.LongTensor(self.x)  # (전체 데이터 개수)\n",
        "    self.y = torch.LongTensor(self.y)  # (전체 데이터 개수)\n",
        "\n",
        "  def __len__(self):\n",
        "    return self.x.shape[0]\n",
        "\n",
        "  def __getitem__(self, idx):\n",
        "    return self.x[idx], self.y[idx]"
      ]
    },
    {
      "cell_type": "markdown",
      "metadata": {
        "id": "JyAGV5IUUba0"
      },
      "source": [
        "각 모델에 맞는 `Dataset` 객체를 생성합니다."
      ]
    },
    {
      "cell_type": "code",
      "execution_count": 12,
      "metadata": {
        "colab": {
          "base_uri": "https://localhost:8080/"
        },
        "id": "5ep7Hm6oBWyy",
        "outputId": "72b38ac7-ffd9-4ae3-b80d-0040b343597f"
      },
      "outputs": [
        {
          "name": "stderr",
          "output_type": "stream",
          "text": [
            "100%|██████████| 10/10 [00:00<00:00, 51212.50it/s]\n",
            "100%|██████████| 10/10 [00:00<00:00, 104335.92it/s]"
          ]
        },
        {
          "name": "stdout",
          "output_type": "stream",
          "text": [
            "[(tensor(0), tensor(17)), (tensor(0), tensor(18)), (tensor(0), tensor(19)), (tensor(0), tensor(10)), (tensor(19), tensor(18)), (tensor(19), tensor(0)), (tensor(19), tensor(10)), (tensor(19), tensor(0)), (tensor(22), tensor(20)), (tensor(22), tensor(21)), (tensor(22), tensor(4)), (tensor(22), tensor(2)), (tensor(4), tensor(21)), (tensor(4), tensor(22)), (tensor(4), tensor(2)), (tensor(4), tensor(0)), (tensor(23), tensor(5)), (tensor(23), tensor(3)), (tensor(23), tensor(6)), (tensor(23), tensor(7)), (tensor(6), tensor(3)), (tensor(6), tensor(23)), (tensor(6), tensor(7)), (tensor(6), tensor(24)), (tensor(7), tensor(23)), (tensor(7), tensor(6)), (tensor(7), tensor(24)), (tensor(7), tensor(25)), (tensor(24), tensor(6)), (tensor(24), tensor(7)), (tensor(24), tensor(25)), (tensor(24), tensor(26)), (tensor(25), tensor(7)), (tensor(25), tensor(24)), (tensor(25), tensor(26)), (tensor(25), tensor(27)), (tensor(26), tensor(24)), (tensor(26), tensor(25)), (tensor(26), tensor(27)), (tensor(26), tensor(28)), (tensor(27), tensor(25)), (tensor(27), tensor(26)), (tensor(27), tensor(28)), (tensor(27), tensor(6)), (tensor(28), tensor(26)), (tensor(28), tensor(27)), (tensor(28), tensor(6)), (tensor(28), tensor(29)), (tensor(6), tensor(27)), (tensor(6), tensor(28)), (tensor(6), tensor(29)), (tensor(6), tensor(30)), (tensor(29), tensor(28)), (tensor(29), tensor(6)), (tensor(29), tensor(30)), (tensor(29), tensor(31)), (tensor(30), tensor(6)), (tensor(30), tensor(29)), (tensor(30), tensor(31)), (tensor(30), tensor(0)), (tensor(2), tensor(32)), (tensor(2), tensor(33)), (tensor(2), tensor(34)), (tensor(2), tensor(35)), (tensor(34), tensor(33)), (tensor(34), tensor(2)), (tensor(34), tensor(35)), (tensor(34), tensor(11)), (tensor(35), tensor(2)), (tensor(35), tensor(34)), (tensor(35), tensor(11)), (tensor(35), tensor(36)), (tensor(11), tensor(34)), (tensor(11), tensor(35)), (tensor(11), tensor(36)), (tensor(11), tensor(37)), (tensor(36), tensor(35)), (tensor(36), tensor(11)), (tensor(36), tensor(37)), (tensor(36), tensor(0)), (tensor(9), tensor(8)), (tensor(9), tensor(1)), (tensor(9), tensor(1)), (tensor(9), tensor(5)), (tensor(1), tensor(1)), (tensor(1), tensor(9)), (tensor(1), tensor(5)), (tensor(1), tensor(38)), (tensor(5), tensor(9)), (tensor(5), tensor(1)), (tensor(5), tensor(38)), (tensor(5), tensor(0)), (tensor(40), tensor(12)), (tensor(40), tensor(39)), (tensor(40), tensor(13)), (tensor(40), tensor(4)), (tensor(13), tensor(39)), (tensor(13), tensor(40)), (tensor(13), tensor(4)), (tensor(13), tensor(2)), (tensor(4), tensor(40)), (tensor(4), tensor(13)), (tensor(4), tensor(2)), (tensor(4), tensor(0)), (tensor(2), tensor(13)), (tensor(2), tensor(4)), (tensor(2), tensor(0)), (tensor(2), tensor(13)), (tensor(0), tensor(4)), (tensor(0), tensor(2)), (tensor(0), tensor(13)), (tensor(0), tensor(14)), (tensor(13), tensor(2)), (tensor(13), tensor(0)), (tensor(13), tensor(14)), (tensor(13), tensor(41)), (tensor(14), tensor(0)), (tensor(14), tensor(13)), (tensor(14), tensor(41)), (tensor(14), tensor(42)), (tensor(41), tensor(13)), (tensor(41), tensor(14)), (tensor(41), tensor(42)), (tensor(41), tensor(43)), (tensor(42), tensor(14)), (tensor(42), tensor(41)), (tensor(42), tensor(43)), (tensor(42), tensor(44)), (tensor(43), tensor(41)), (tensor(43), tensor(42)), (tensor(43), tensor(44)), (tensor(43), tensor(0)), (tensor(3), tensor(45)), (tensor(3), tensor(1)), (tensor(3), tensor(46)), (tensor(3), tensor(47)), (tensor(46), tensor(1)), (tensor(46), tensor(3)), (tensor(46), tensor(47)), (tensor(46), tensor(9)), (tensor(47), tensor(3)), (tensor(47), tensor(46)), (tensor(47), tensor(9)), (tensor(47), tensor(1)), (tensor(9), tensor(46)), (tensor(9), tensor(47)), (tensor(9), tensor(1)), (tensor(9), tensor(7)), (tensor(1), tensor(47)), (tensor(1), tensor(9)), (tensor(1), tensor(7)), (tensor(1), tensor(48)), (tensor(7), tensor(9)), (tensor(7), tensor(1)), (tensor(7), tensor(48)), (tensor(7), tensor(0)), (tensor(11), tensor(49)), (tensor(11), tensor(15)), (tensor(11), tensor(10)), (tensor(11), tensor(8)), (tensor(10), tensor(15)), (tensor(10), tensor(11)), (tensor(10), tensor(8)), (tensor(10), tensor(1)), (tensor(8), tensor(11)), (tensor(8), tensor(10)), (tensor(8), tensor(1)), (tensor(8), tensor(50)), (tensor(1), tensor(10)), (tensor(1), tensor(8)), (tensor(1), tensor(50)), (tensor(1), tensor(1)), (tensor(50), tensor(8)), (tensor(50), tensor(1)), (tensor(50), tensor(1)), (tensor(50), tensor(9)), (tensor(1), tensor(1)), (tensor(1), tensor(50)), (tensor(1), tensor(9)), (tensor(1), tensor(1)), (tensor(9), tensor(50)), (tensor(9), tensor(1)), (tensor(9), tensor(1)), (tensor(9), tensor(5)), (tensor(1), tensor(1)), (tensor(1), tensor(9)), (tensor(1), tensor(5)), (tensor(1), tensor(3)), (tensor(5), tensor(9)), (tensor(5), tensor(1)), (tensor(5), tensor(3)), (tensor(5), tensor(0)), (tensor(53), tensor(51)), (tensor(53), tensor(52)), (tensor(53), tensor(8)), (tensor(53), tensor(6)), (tensor(8), tensor(52)), (tensor(8), tensor(53)), (tensor(8), tensor(6)), (tensor(8), tensor(7)), (tensor(6), tensor(53)), (tensor(6), tensor(8)), (tensor(6), tensor(7)), (tensor(6), tensor(54)), (tensor(7), tensor(8)), (tensor(7), tensor(6)), (tensor(7), tensor(54)), (tensor(7), tensor(0)), (tensor(54), tensor(6)), (tensor(54), tensor(7)), (tensor(54), tensor(0)), (tensor(54), tensor(55)), (tensor(0), tensor(7)), (tensor(0), tensor(54)), (tensor(0), tensor(55)), (tensor(0), tensor(56)), (tensor(55), tensor(54)), (tensor(55), tensor(0)), (tensor(55), tensor(56)), (tensor(55), tensor(4)), (tensor(56), tensor(0)), (tensor(56), tensor(55)), (tensor(56), tensor(4)), (tensor(56), tensor(2)), (tensor(4), tensor(55)), (tensor(4), tensor(56)), (tensor(4), tensor(2)), (tensor(4), tensor(0)), (tensor(16), tensor(12)), (tensor(16), tensor(15)), (tensor(16), tensor(14)), (tensor(16), tensor(57)), (tensor(14), tensor(15)), (tensor(14), tensor(16)), (tensor(14), tensor(57)), (tensor(14), tensor(58)), (tensor(57), tensor(16)), (tensor(57), tensor(14)), (tensor(57), tensor(58)), (tensor(57), tensor(3)), (tensor(58), tensor(14)), (tensor(58), tensor(57)), (tensor(58), tensor(3)), (tensor(58), tensor(0)), (tensor(3), tensor(57)), (tensor(3), tensor(58)), (tensor(3), tensor(0)), (tensor(3), tensor(16)), (tensor(0), tensor(58)), (tensor(0), tensor(3)), (tensor(0), tensor(16)), (tensor(0), tensor(59)), (tensor(16), tensor(3)), (tensor(16), tensor(0)), (tensor(16), tensor(59)), (tensor(16), tensor(0))]\n"
          ]
        },
        {
          "name": "stderr",
          "output_type": "stream",
          "text": [
            "\n"
          ]
        }
      ],
      "source": [
        "cbow_set = CBOWDataset(train_tokenized)\n",
        "skipgram_set = SkipGramDataset(train_tokenized)\n",
        "print(list(skipgram_set))"
      ]
    },
    {
      "cell_type": "markdown",
      "metadata": {
        "id": "1QSo73PoRyd9"
      },
      "source": [
        "### **모델 Class 구현**"
      ]
    },
    {
      "cell_type": "markdown",
      "metadata": {
        "id": "jnnk44R6R28x"
      },
      "source": [
        "차례대로 두 가지 Word2Vec 모델을 구현합니다.  \n",
        "\n",
        "\n",
        "*   `self.embedding`: `vocab_size` 크기의 one-hot vector를 특정 크기의 `dim` 차원으로 embedding 시키는 layer.\n",
        "*   `self.linear`: 변환된 embedding vector를 다시 원래 `vocab_size`로 바꾸는 layer.\n"
      ]
    },
    {
      "cell_type": "code",
      "execution_count": 13,
      "metadata": {
        "id": "b_HP1ISq5CWv"
      },
      "outputs": [],
      "source": [
        "class CBOW(nn.Module):\n",
        "  def __init__(self, vocab_size, dim):\n",
        "    super(CBOW, self).__init__()\n",
        "    self.embedding = nn.Embedding(vocab_size, dim, sparse=True)\n",
        "    self.linear = nn.Linear(dim, vocab_size)\n",
        "\n",
        "  # B: batch size, W: window size, d_w: word embedding size, V: vocab size\n",
        "  def forward(self, x):  # x: (B, 2W)\n",
        "    embeddings = self.embedding(x)  # (B, 2W, d_w)\n",
        "    embeddings = torch.sum(embeddings, dim=1)  # (B, d_w)\n",
        "    output = self.linear(embeddings)  # (B, V)\n",
        "    return output"
      ]
    },
    {
      "cell_type": "code",
      "execution_count": 14,
      "metadata": {
        "id": "yQAUApww68MJ"
      },
      "outputs": [],
      "source": [
        "class SkipGram(nn.Module):\n",
        "  def __init__(self, vocab_size, dim):\n",
        "    super(SkipGram, self).__init__()\n",
        "    self.embedding = nn.Embedding(vocab_size, dim, sparse=True)\n",
        "    self.linear = nn.Linear(dim, vocab_size)\n",
        "\n",
        "  # B: batch size, W: window size, d_w: word embedding size, V: vocab size\n",
        "  def forward(self, x): # x: (B)\n",
        "    embeddings = self.embedding(x)  # (B, d_w)\n",
        "    output = self.linear(embeddings)  # (B, V)\n",
        "    return output"
      ]
    },
    {
      "cell_type": "markdown",
      "metadata": {
        "id": "58cJalkDWYMT"
      },
      "source": [
        "두 가지 모델을 생성합니다."
      ]
    },
    {
      "cell_type": "code",
      "execution_count": 15,
      "metadata": {
        "id": "8vWUXEi8WeM-"
      },
      "outputs": [],
      "source": [
        "cbow = CBOW(vocab_size=len(w2i), dim=256)\n",
        "skipgram = SkipGram(vocab_size=len(w2i), dim=256)"
      ]
    },
    {
      "cell_type": "markdown",
      "metadata": {
        "id": "xxP7qdtNWil1"
      },
      "source": [
        "### **모델 학습**"
      ]
    },
    {
      "cell_type": "markdown",
      "metadata": {
        "id": "QVggZrQ4WpBS"
      },
      "source": [
        "다음과 같이 hyperparamter를 세팅하고 `DataLoader` 객체를 만듭니다."
      ]
    },
    {
      "cell_type": "code",
      "execution_count": 16,
      "metadata": {
        "id": "ygVdz5rSBeNu"
      },
      "outputs": [],
      "source": [
        "batch_size=4\n",
        "learning_rate = 5e-4\n",
        "num_epochs = 5\n",
        "device = torch.device('cuda') if torch.cuda.is_available() else torch.device('cpu')\n",
        "\n",
        "cbow_loader = DataLoader(cbow_set, batch_size=batch_size)\n",
        "skipgram_loader = DataLoader(skipgram_set, batch_size=batch_size)"
      ]
    },
    {
      "cell_type": "markdown",
      "metadata": {
        "id": "ekixqKB3X5C1"
      },
      "source": [
        "첫번째로 CBOW 모델 학습입니다."
      ]
    },
    {
      "cell_type": "code",
      "execution_count": 17,
      "metadata": {
        "colab": {
          "base_uri": "https://localhost:8080/"
        },
        "id": "-d95qR7oC822",
        "outputId": "447d8a84-9c04-4dd5-dabb-611363420de7"
      },
      "outputs": [
        {
          "name": "stdout",
          "output_type": "stream",
          "text": [
            "##################################################\n",
            "Epoch: 1\n"
          ]
        },
        {
          "name": "stderr",
          "output_type": "stream",
          "text": [
            "100%|██████████| 16/16 [00:00<00:00, 1184.04it/s]\n"
          ]
        },
        {
          "name": "stdout",
          "output_type": "stream",
          "text": [
            "Train loss: 4.40976619720459\n",
            "Train loss: 4.415567398071289\n",
            "Train loss: 4.338253974914551\n",
            "Train loss: 5.680306434631348\n",
            "Train loss: 4.763406276702881\n",
            "Train loss: 5.894295692443848\n",
            "Train loss: 5.201074123382568\n",
            "Train loss: 4.261260986328125\n",
            "Train loss: 5.874040603637695\n",
            "Train loss: 5.418522834777832\n",
            "Train loss: 4.026804447174072\n",
            "Train loss: 4.265014171600342\n",
            "Train loss: 4.852517604827881\n",
            "Train loss: 5.16031551361084\n",
            "Train loss: 4.881328582763672\n",
            "Train loss: 4.657773017883301\n",
            "##################################################\n",
            "Epoch: 2\n"
          ]
        },
        {
          "name": "stderr",
          "output_type": "stream",
          "text": [
            "100%|██████████| 16/16 [00:00<00:00, 1153.43it/s]\n"
          ]
        },
        {
          "name": "stdout",
          "output_type": "stream",
          "text": [
            "Train loss: 4.2219061851501465\n",
            "Train loss: 4.294800758361816\n",
            "Train loss: 4.213722229003906\n",
            "Train loss: 5.555177688598633\n",
            "Train loss: 4.638892650604248\n",
            "Train loss: 5.5531392097473145\n",
            "Train loss: 5.005362033843994\n",
            "Train loss: 4.1373372077941895\n",
            "Train loss: 5.719050407409668\n",
            "Train loss: 5.220565319061279\n",
            "Train loss: 3.8512392044067383\n",
            "Train loss: 3.8403773307800293\n",
            "Train loss: 4.71230411529541\n",
            "Train loss: 5.020578384399414\n",
            "Train loss: 4.738704204559326\n",
            "Train loss: 4.527922630310059\n",
            "##################################################\n",
            "Epoch: 3\n"
          ]
        },
        {
          "name": "stderr",
          "output_type": "stream",
          "text": [
            "100%|██████████| 16/16 [00:00<00:00, 1076.86it/s]\n"
          ]
        },
        {
          "name": "stdout",
          "output_type": "stream",
          "text": [
            "Train loss: 4.038446426391602\n",
            "Train loss: 4.176576614379883\n",
            "Train loss: 4.091212272644043\n",
            "Train loss: 5.431587219238281\n",
            "Train loss: 4.515759468078613\n",
            "Train loss: 5.222558498382568\n",
            "Train loss: 4.813680648803711\n",
            "Train loss: 4.015572547912598\n",
            "Train loss: 5.570950031280518\n",
            "Train loss: 5.027252674102783\n",
            "Train loss: 3.6874353885650635\n",
            "Train loss: 3.440314769744873\n",
            "Train loss: 4.57423210144043\n",
            "Train loss: 4.883872032165527\n",
            "Train loss: 4.598729133605957\n",
            "Train loss: 4.402041435241699\n",
            "##################################################\n",
            "Epoch: 4\n"
          ]
        },
        {
          "name": "stderr",
          "output_type": "stream",
          "text": [
            "100%|██████████| 16/16 [00:00<00:00, 785.53it/s]\n"
          ]
        },
        {
          "name": "stdout",
          "output_type": "stream",
          "text": [
            "Train loss: 3.85941219329834\n",
            "Train loss: 4.060912132263184\n",
            "Train loss: 3.9706802368164062\n",
            "Train loss: 5.309515953063965\n",
            "Train loss: 4.393987655639648\n",
            "Train loss: 4.904763221740723\n",
            "Train loss: 4.626138687133789\n",
            "Train loss: 3.8959567546844482\n",
            "Train loss: 5.429975986480713\n",
            "Train loss: 4.839028358459473\n",
            "Train loss: 3.536722421646118\n",
            "Train loss: 3.070622444152832\n",
            "Train loss: 4.438327312469482\n",
            "Train loss: 4.750084400177002\n",
            "Train loss: 4.461556434631348\n",
            "Train loss: 4.279784202575684\n",
            "##################################################\n",
            "Epoch: 5\n"
          ]
        },
        {
          "name": "stderr",
          "output_type": "stream",
          "text": [
            "100%|██████████| 16/16 [00:00<00:00, 781.49it/s]"
          ]
        },
        {
          "name": "stdout",
          "output_type": "stream",
          "text": [
            "Train loss: 3.6848716735839844\n",
            "Train loss: 3.947815179824829\n",
            "Train loss: 3.852093458175659\n",
            "Train loss: 5.188943862915039\n",
            "Train loss: 4.273569583892822\n",
            "Train loss: 4.602234363555908\n",
            "Train loss: 4.4428791999816895\n",
            "Train loss: 3.778489351272583\n",
            "Train loss: 5.296177864074707\n",
            "Train loss: 4.6563615798950195\n",
            "Train loss: 3.400045156478882\n",
            "Train loss: 2.736830949783325\n",
            "Train loss: 4.30461311340332\n",
            "Train loss: 4.619123458862305\n",
            "Train loss: 4.327345848083496\n",
            "Train loss: 4.160867691040039\n",
            "Finished.\n"
          ]
        },
        {
          "name": "stderr",
          "output_type": "stream",
          "text": [
            "\n"
          ]
        }
      ],
      "source": [
        "cbow.train()\n",
        "cbow = cbow.to(device)\n",
        "optim = torch.optim.SGD(cbow.parameters(), lr=learning_rate)\n",
        "loss_function = nn.CrossEntropyLoss()\n",
        "\n",
        "for e in range(1, num_epochs+1):\n",
        "  print(\"#\" * 50)\n",
        "  print(f\"Epoch: {e}\")\n",
        "  for batch in tqdm(cbow_loader):\n",
        "    x, y = batch\n",
        "    x, y = x.to(device), y.to(device) # (B, W), (B)\n",
        "    output = cbow(x)  # (B, V)\n",
        " \n",
        "    optim.zero_grad()\n",
        "    loss = loss_function(output, y)\n",
        "    loss.backward()\n",
        "    optim.step()\n",
        "\n",
        "    print(f\"Train loss: {loss.item()}\")\n",
        "\n",
        "print(\"Finished.\")"
      ]
    },
    {
      "cell_type": "markdown",
      "metadata": {
        "id": "FDahBf6IX4py"
      },
      "source": [
        "다음으로 Skip-gram 모델 학습입니다."
      ]
    },
    {
      "cell_type": "code",
      "execution_count": 18,
      "metadata": {
        "colab": {
          "base_uri": "https://localhost:8080/"
        },
        "id": "jJxGEusqFV5r",
        "outputId": "338a930c-95db-4c68-a10a-003dcdd06325"
      },
      "outputs": [
        {
          "name": "stdout",
          "output_type": "stream",
          "text": [
            "##################################################\n",
            "Epoch: 1\n"
          ]
        },
        {
          "name": "stderr",
          "output_type": "stream",
          "text": [
            "100%|██████████| 64/64 [00:00<00:00, 1508.30it/s]\n"
          ]
        },
        {
          "name": "stdout",
          "output_type": "stream",
          "text": [
            "Train loss: 3.915479898452759\n",
            "##################################################\n",
            "Epoch: 2\n"
          ]
        },
        {
          "name": "stderr",
          "output_type": "stream",
          "text": [
            "100%|██████████| 64/64 [00:00<00:00, 1452.85it/s]\n"
          ]
        },
        {
          "name": "stdout",
          "output_type": "stream",
          "text": [
            "Train loss: 3.8685827255249023\n",
            "##################################################\n",
            "Epoch: 3\n"
          ]
        },
        {
          "name": "stderr",
          "output_type": "stream",
          "text": [
            "100%|██████████| 64/64 [00:00<00:00, 1369.36it/s]\n"
          ]
        },
        {
          "name": "stdout",
          "output_type": "stream",
          "text": [
            "Train loss: 3.822357177734375\n",
            "##################################################\n",
            "Epoch: 4\n"
          ]
        },
        {
          "name": "stderr",
          "output_type": "stream",
          "text": [
            "100%|██████████| 64/64 [00:00<00:00, 1608.06it/s]\n"
          ]
        },
        {
          "name": "stdout",
          "output_type": "stream",
          "text": [
            "Train loss: 3.776815891265869\n",
            "##################################################\n",
            "Epoch: 5\n"
          ]
        },
        {
          "name": "stderr",
          "output_type": "stream",
          "text": [
            "100%|██████████| 64/64 [00:00<00:00, 1454.48it/s]"
          ]
        },
        {
          "name": "stdout",
          "output_type": "stream",
          "text": [
            "Train loss: 3.7319726943969727\n",
            "Finished.\n"
          ]
        },
        {
          "name": "stderr",
          "output_type": "stream",
          "text": [
            "\n"
          ]
        }
      ],
      "source": [
        "skipgram.train()\n",
        "skipgram = skipgram.to(device)\n",
        "optim = torch.optim.SGD(skipgram.parameters(), lr=learning_rate)\n",
        "loss_function = nn.CrossEntropyLoss()\n",
        "\n",
        "for e in range(1, num_epochs+1):\n",
        "  print(\"#\" * 50)\n",
        "  print(f\"Epoch: {e}\")\n",
        "  for batch in tqdm(skipgram_loader):\n",
        "    x, y = batch\n",
        "    x, y = x.to(device), y.to(device) # (B, W), (B)\n",
        "    output = skipgram(x)  # (B, V)\n",
        "    optim.zero_grad()\n",
        "    loss = loss_function(output, y)\n",
        "    loss.backward()\n",
        "    optim.step()\n",
        "\n",
        "  print(f\"Train loss: {loss.item()}\")\n",
        "\n",
        "print(\"Finished.\")"
      ]
    },
    {
      "cell_type": "markdown",
      "metadata": {
        "id": "Pi0sbHV6dEOR"
      },
      "source": [
        "### **테스트**"
      ]
    },
    {
      "cell_type": "markdown",
      "metadata": {
        "id": "WGarLWxXeJvz"
      },
      "source": [
        "학습된 각 모델을 이용하여 test 단어들의 word embedding을 확인합니다."
      ]
    },
    {
      "cell_type": "code",
      "execution_count": 22,
      "metadata": {
        "colab": {
          "base_uri": "https://localhost:8080/"
        },
        "id": "4A1wrl-L_RjF",
        "outputId": "307cbe98-9f00-4c65-bda5-6c8e0c242eb2"
      },
      "outputs": [
        {
          "name": "stdout",
          "output_type": "stream",
          "text": [
            "Word: 음식\n",
            "tensor([-2.5919e+00, -5.1517e-02,  4.4170e-01,  2.6121e+00, -3.0596e-01,\n",
            "         5.2140e-01, -6.0310e-01, -4.3818e-01,  2.6526e-01,  5.4113e-02,\n",
            "         1.4067e+00,  1.4971e+00, -1.2142e-02,  5.3837e-04,  1.7756e+00,\n",
            "        -7.9063e-01, -4.7063e-01, -6.6985e-02,  1.0845e+00,  6.2861e-01,\n",
            "        -2.5274e-01, -9.3847e-01,  5.7041e-01,  5.3263e-01, -1.3303e+00,\n",
            "         5.3138e-01,  3.2355e-01,  4.7539e-01,  5.7376e-01,  2.9128e-01,\n",
            "         4.0515e-01, -4.2417e-01,  3.2990e-01,  5.1310e-01, -1.6019e+00,\n",
            "        -1.2424e+00,  7.7413e-01, -1.5508e+00,  2.0683e+00,  1.2796e+00,\n",
            "        -1.3024e+00, -9.6391e-01,  7.6843e-01,  1.3567e-01, -3.9841e-01,\n",
            "         6.9675e-01,  1.4179e-01,  6.8027e-01,  1.8396e+00,  1.5221e+00,\n",
            "         3.1373e-01,  8.2663e-01, -1.2789e+00,  3.9679e-01, -1.9822e-01,\n",
            "         7.0988e-01, -1.2917e+00,  1.6007e+00, -1.1449e-01, -1.1365e-01,\n",
            "        -1.8264e+00,  2.6982e-01, -3.6902e-01,  1.0568e+00,  7.2093e-01,\n",
            "        -9.4382e-01,  5.9550e-01, -3.2283e-01,  5.4116e-01, -2.2509e+00,\n",
            "        -1.3418e-01,  2.6144e-01,  1.7142e+00,  5.5381e-02,  1.0432e+00,\n",
            "        -7.1930e-01, -1.6478e+00, -1.3946e+00,  6.8951e-01, -3.3969e-01,\n",
            "        -1.6211e+00, -4.8956e-01,  5.6429e-02,  9.7163e-01,  4.3221e-02,\n",
            "         2.7659e-02,  2.8414e-01,  6.4984e-01, -5.1371e-01,  8.2743e-01,\n",
            "        -1.8131e+00,  1.9817e+00, -4.6365e-01,  5.4711e-01,  8.8825e-01,\n",
            "        -8.7436e-01,  1.5356e-02,  2.0138e-01,  1.2043e+00,  4.0347e-01,\n",
            "         1.4079e+00,  4.0994e-01, -1.6263e+00,  4.0355e-01, -2.1797e+00,\n",
            "        -1.0331e+00, -9.9954e-01,  1.2260e-01,  1.7249e+00,  7.0892e-01,\n",
            "         1.4701e+00, -8.6223e-01,  1.0498e+00, -5.3618e-01, -1.0579e+00,\n",
            "         1.1025e+00,  4.4146e-01, -6.7904e-01,  3.6927e-02, -3.4202e-01,\n",
            "        -1.9227e-01,  7.8249e-01, -2.1991e+00,  1.8206e+00, -7.4405e-01,\n",
            "        -5.0155e-01,  6.0181e-02,  7.6117e-01, -2.5810e-01, -4.2476e-01,\n",
            "        -3.3626e-01,  9.7554e-01,  7.6703e-01, -7.8932e-01, -3.8511e-01,\n",
            "         6.9003e-02, -7.2371e-01, -1.9221e+00,  8.2864e-01,  1.4717e-01,\n",
            "         1.2195e+00,  1.5348e-02,  1.3371e+00, -1.3665e-01, -2.0124e-01,\n",
            "        -2.1828e+00, -4.4971e-01, -1.0290e+00, -6.9267e-01,  5.3459e-01,\n",
            "        -1.9288e+00,  5.3067e-01,  1.0304e+00, -7.6215e-01, -8.1717e-01,\n",
            "         2.9485e-01,  4.4810e-01,  2.3540e-01, -4.3835e-02,  1.2797e+00,\n",
            "         1.5693e-01,  9.9384e-01,  1.9324e+00, -1.2253e+00, -8.6150e-02,\n",
            "         1.3973e+00, -4.3836e-01,  5.0329e-01, -1.4621e+00,  1.4503e+00,\n",
            "        -6.2591e-02,  7.5980e-02, -2.1270e+00, -1.6184e-01, -1.6611e+00,\n",
            "         2.9359e-01,  7.4951e-01,  7.9433e-01,  8.5526e-01,  7.1028e-01,\n",
            "         1.1619e+00, -5.5864e-01,  1.4279e+00, -8.6062e-01, -7.7223e-01,\n",
            "        -9.3407e-01, -1.2633e+00,  1.6910e+00,  5.8032e-01,  2.1622e-02,\n",
            "         1.4216e+00,  1.5391e+00, -1.1325e+00,  1.5168e+00,  7.9302e-01,\n",
            "         4.0652e-01,  2.0334e-01, -6.4435e-01, -2.3999e+00, -3.4280e-01,\n",
            "        -1.2211e-01, -2.3081e-01,  6.7025e-01,  1.9835e+00,  4.6238e-01,\n",
            "        -3.0422e-01,  1.1220e+00,  1.1220e+00,  1.1723e+00,  1.3549e+00,\n",
            "        -3.7203e-02, -5.9171e-02, -3.0191e-01,  7.4362e-01,  7.8850e-03,\n",
            "        -1.6002e-01,  1.3393e+00,  1.2922e+00,  1.1816e+00, -3.7737e-01,\n",
            "        -9.1584e-01,  8.4846e-01,  1.1225e+00,  6.6361e-01, -7.1556e-01,\n",
            "         1.4204e+00, -3.2898e-01, -1.1086e-01,  3.2956e-01,  7.5237e-01,\n",
            "        -3.9135e-01, -6.2089e-01, -2.3683e-01,  1.0625e+00,  8.2984e-01,\n",
            "         1.0167e+00, -1.9236e-01, -5.9245e-01,  1.2350e+00,  4.7155e-01,\n",
            "        -1.4184e+00, -7.6918e-01, -1.0982e+00, -7.3137e-01,  3.2414e-01,\n",
            "        -3.9522e-01,  3.9306e-01,  1.0352e+00, -5.5238e-01,  8.6795e-01,\n",
            "         5.4398e-01,  1.3489e+00, -1.4287e-01, -9.9503e-01, -5.1603e-01,\n",
            "         1.4165e-01], device='cuda:0', grad_fn=<SqueezeBackward1>)\n",
            "Word: 맛\n",
            "tensor([-0.3195, -0.4267, -0.0993,  2.0021,  0.5059,  1.1641, -0.1241,  0.1901,\n",
            "        -0.5144, -0.2158, -0.3384,  0.8585,  1.6737, -2.6088,  0.1218,  0.4424,\n",
            "        -0.7891,  0.3504,  0.5441, -0.3101, -0.1069, -0.5403,  0.1071,  0.8973,\n",
            "         0.1127, -0.3281, -0.8580,  0.9107, -1.5137, -0.1429, -0.5212,  0.9046,\n",
            "        -1.0269,  0.6706,  1.3507, -0.5790,  1.6172, -0.2758, -0.4810, -0.1300,\n",
            "        -0.5011,  0.5364,  0.0756,  0.2225,  0.1621,  0.7737, -1.3455,  0.6219,\n",
            "         0.4810, -1.4808, -0.1919,  0.4163,  0.2870, -1.7425,  0.8033,  0.4886,\n",
            "         0.9668,  0.4454,  0.0463,  0.3407, -0.3543, -0.3927,  0.0826,  0.3722,\n",
            "         0.4002,  0.8177,  0.2497, -1.3599, -0.4002, -1.2452,  1.0081,  0.1070,\n",
            "        -0.9194, -2.6596, -0.3812,  1.3437, -0.4612, -0.5222, -1.6241, -0.4461,\n",
            "         0.4091,  0.3763,  0.0605, -0.3676, -0.6957, -1.5413,  0.7505, -0.1787,\n",
            "        -0.1617,  0.8953,  0.3246, -0.3363,  1.1183,  1.1028,  0.0251,  0.0282,\n",
            "        -0.9756, -0.3168,  1.0030,  0.5018,  0.7930,  0.1813,  1.0110,  0.0987,\n",
            "        -0.9507,  1.7839,  1.9121, -0.1822, -1.0565, -1.6059,  1.0066, -0.9839,\n",
            "        -1.9022,  2.0802,  0.2899, -0.0421,  0.1115,  1.0709, -2.1297, -0.1721,\n",
            "        -1.4836,  1.4551,  0.3101, -0.6624,  0.6922, -0.7836,  0.8433, -0.5092,\n",
            "         0.1226,  0.3973, -0.2542,  0.8487, -0.6440, -1.0851, -1.9006,  1.4528,\n",
            "        -2.5434,  1.9717, -1.4213,  0.3883,  0.5816, -1.3883, -1.1751, -1.4407,\n",
            "        -0.2470, -1.4844, -1.6058,  0.3735, -1.1193,  0.4647,  1.5536,  1.6325,\n",
            "        -1.2173, -0.5670, -0.5698,  0.2582, -0.7415, -1.2142, -0.8185, -0.2518,\n",
            "        -1.0944,  0.8183,  1.0719, -1.5203, -1.3544,  0.4148, -1.3216, -0.5069,\n",
            "         0.6279,  0.3520,  2.0793, -0.1565, -0.6474, -0.9408,  1.3284,  0.8787,\n",
            "        -0.3221,  0.3792, -0.4691, -0.5908,  0.7808,  0.1474,  0.1256,  0.3048,\n",
            "        -0.0106,  0.1465, -1.2092,  0.1001,  0.4472,  0.3734,  1.4259, -0.8071,\n",
            "         1.8294,  1.7149, -1.1126,  0.0277,  0.1493, -0.2229, -0.5339,  0.8932,\n",
            "        -0.9115, -1.2999, -0.1838,  0.2025, -0.1077, -0.1135, -1.2501,  0.0502,\n",
            "        -0.2366,  3.3199, -1.1439,  0.4365, -0.4251, -0.5750,  0.5855, -1.3046,\n",
            "        -0.3263, -0.1635, -0.2855,  0.5736,  0.1708, -0.8405, -0.5428, -1.7797,\n",
            "         0.0812,  0.6693,  0.2147,  0.1041,  0.8028,  0.2517, -0.9536,  1.4084,\n",
            "         0.7505,  2.0104,  0.5316,  0.7988, -1.2238,  0.1969, -1.1410,  0.3887,\n",
            "        -0.5151,  0.4840,  1.2602, -1.2170, -0.8741,  0.3989, -0.6923, -0.4499,\n",
            "         0.9743,  1.9079, -0.2806, -0.7142, -1.2593, -0.3812, -1.1018, -2.0911],\n",
            "       device='cuda:0', grad_fn=<SqueezeBackward1>)\n",
            "Word: 서비스\n",
            "tensor([ 1.1636,  0.8761, -0.1574, -1.0449,  0.2503,  1.1069, -1.3245, -0.3439,\n",
            "        -0.3391,  0.1661, -1.0448, -0.2703,  0.6361, -0.2523, -1.6753,  0.2293,\n",
            "        -0.1949, -0.8992,  0.6104, -1.2842, -0.4922, -0.4479,  0.1449,  1.5486,\n",
            "        -1.1604, -0.4822,  0.5140,  0.4562, -1.1029,  0.1589,  0.6616, -1.2837,\n",
            "        -1.4633,  0.9645, -1.3335, -1.2266, -1.3498,  0.7042,  1.3458, -0.8152,\n",
            "         1.0097, -0.2466, -0.2662,  0.5031, -0.7174, -1.4478, -0.7993,  0.9580,\n",
            "        -0.2706, -0.1476,  0.5003, -1.3225,  1.9577, -0.7928, -0.4686,  0.6435,\n",
            "        -0.6388, -0.1323,  0.0686, -0.3985,  0.1652, -1.3077, -0.0290,  1.3762,\n",
            "         1.5647,  0.0845,  0.4415, -0.8497, -0.6338,  0.6281, -0.8711,  1.0791,\n",
            "         1.0950,  0.6096, -0.7369, -0.7408,  0.0966,  0.0538,  0.1757,  1.2443,\n",
            "         0.0921,  0.9851,  1.2171,  0.0219,  1.6255, -1.1901, -0.0596,  0.9658,\n",
            "        -1.2549, -0.0437,  0.1823,  0.2948,  2.0249,  0.4981,  0.2661,  0.7791,\n",
            "        -1.4974,  0.9872,  1.2259, -2.0276, -0.6224,  1.8398, -1.1697, -0.3281,\n",
            "         0.3577, -0.5393, -0.2265, -1.3901, -0.0327, -0.4019, -1.1669, -1.9129,\n",
            "        -1.6667,  0.4776, -0.8628, -1.0934, -1.5275,  0.4292, -0.0048,  0.5021,\n",
            "        -0.2689,  2.0120, -1.4525, -0.2962,  0.5070,  0.2713,  0.4690, -1.4369,\n",
            "        -0.3680,  0.9391,  1.0210,  0.1317,  0.3708, -0.6294,  0.6856,  1.2150,\n",
            "         0.3941,  0.7234,  0.0067,  0.8757,  2.1390, -1.2479, -0.3274, -0.3325,\n",
            "         0.0274, -1.0415,  0.9111,  0.0177, -2.1211,  0.9853, -0.6952,  0.4167,\n",
            "        -0.2456, -1.7173,  0.5616, -0.7022,  1.2129,  0.7587,  1.1866,  0.3217,\n",
            "         0.9296,  0.4046, -0.3663, -2.2345,  0.8024, -0.2274,  0.4837,  0.0706,\n",
            "         1.4364, -1.1762,  0.1376,  0.4910,  0.4963, -0.3427,  1.2670, -1.2101,\n",
            "        -1.6435, -0.1917, -1.1423, -0.7256,  0.8240, -0.2542, -0.7396,  0.4823,\n",
            "         1.5221,  0.4656,  0.1680, -0.7429, -1.2845,  0.6992,  0.0055, -0.8576,\n",
            "        -0.3019,  0.3006, -1.1202, -1.2787,  0.0345, -0.0561,  1.9227, -0.6164,\n",
            "         1.4278, -1.8158,  0.1536,  0.8613,  0.3933, -1.1107, -1.0923,  0.1092,\n",
            "        -1.3474,  0.3898, -0.7576, -2.1669, -1.4812, -1.5087,  0.3777,  0.4344,\n",
            "        -1.1063, -0.4013, -0.9778,  0.4568,  1.1455, -0.0530,  0.0834, -0.3635,\n",
            "        -0.8723,  1.3876,  0.0978, -0.8293,  1.3775,  0.6493, -1.6263,  0.6233,\n",
            "         0.0376, -0.1668,  0.3892,  0.1735, -0.8057,  0.9835,  1.8488, -0.8685,\n",
            "         1.5870, -0.5504, -1.2601, -0.1361,  1.4031, -0.5082,  0.4884,  0.8639,\n",
            "        -1.4749, -0.6846, -0.8261,  1.0366, -1.2011, -0.7147,  0.8630,  1.6962],\n",
            "       device='cuda:0', grad_fn=<SqueezeBackward1>)\n",
            "Word: 위생\n",
            "tensor([-1.4962e+00, -5.4266e-01, -1.8629e-01, -5.9150e-01, -5.0069e-02,\n",
            "        -1.0753e+00,  3.7804e-01, -7.5564e-01,  5.9109e-01,  7.3657e-01,\n",
            "         5.0475e-01,  5.0762e-01,  1.1291e-01, -1.3374e+00,  1.4967e+00,\n",
            "        -3.4112e-03,  3.0885e-01, -9.2195e-01, -8.5455e-01, -1.6330e-01,\n",
            "         3.2302e-01,  1.2640e+00, -7.1551e-01,  3.7333e-02,  1.9531e+00,\n",
            "        -3.8300e-01,  4.7502e-01, -2.7376e-01, -9.1440e-01,  2.9845e-01,\n",
            "        -2.2657e-01, -5.0169e-01,  6.9990e-01, -1.0604e-01, -1.0031e+00,\n",
            "         1.3762e+00,  4.2015e-01, -8.5884e-01, -2.4236e-01,  7.7785e-01,\n",
            "         1.2379e+00, -5.0255e-01, -1.3716e+00, -1.2821e+00, -9.6255e-01,\n",
            "        -9.2240e-01,  2.1436e-01, -3.7706e-01, -9.5296e-01, -1.9767e+00,\n",
            "        -9.8733e-01,  2.5751e+00, -7.0350e-01,  1.4781e+00,  1.9058e-01,\n",
            "        -3.2183e-01, -3.3211e-01,  4.0397e-02, -2.3095e-01,  6.3309e-02,\n",
            "        -2.2952e-01, -1.3737e+00,  5.5236e-01,  6.6776e-01, -1.6213e+00,\n",
            "         6.5837e-01,  4.0846e-01,  8.2360e-01,  1.0531e+00,  1.7504e-01,\n",
            "        -1.0503e-01, -1.1126e+00, -6.7677e-01, -7.6768e-01, -1.9105e-01,\n",
            "        -1.0627e-01,  1.8084e-01,  1.8092e+00, -9.1539e-01,  4.5174e-01,\n",
            "        -3.7350e-01,  7.1570e-01,  3.8075e-01,  1.2525e-01, -1.0829e+00,\n",
            "         1.4057e+00,  1.0025e-01, -2.6758e-01,  3.1378e+00, -5.2001e-01,\n",
            "         6.1270e-01, -1.6593e+00, -1.7168e-01, -2.4047e-01,  1.5920e-02,\n",
            "        -5.9038e-01, -6.3404e-01,  1.1668e-01,  1.3254e+00,  5.0581e-01,\n",
            "        -1.9350e-02, -9.6148e-02, -4.6156e-01,  2.1155e-01, -8.8193e-02,\n",
            "         2.0604e+00, -1.5611e-01,  1.1396e+00,  2.0608e-02, -1.6329e+00,\n",
            "         1.7017e+00, -1.1659e+00, -5.9450e-01,  2.0217e-01, -5.8694e-01,\n",
            "        -3.5843e-01, -7.5039e-01, -2.6371e-01,  5.2922e-01,  8.0955e-01,\n",
            "         1.0987e+00, -8.1347e-01,  9.8606e-01,  9.3423e-01, -8.4758e-01,\n",
            "         1.8455e+00,  1.2224e+00,  9.6493e-01,  1.2395e+00, -6.4626e-02,\n",
            "         6.5033e-01,  5.0954e-01, -1.3983e+00,  1.4030e+00, -7.0296e-01,\n",
            "         3.7373e-01,  3.2940e-01, -1.4223e+00,  2.0845e+00,  6.2495e-01,\n",
            "        -2.7402e+00,  1.0465e+00, -7.2876e-01,  1.2346e+00, -3.8333e-01,\n",
            "         1.4033e+00, -3.5926e-01,  8.5692e-01, -1.2775e+00,  7.2314e-01,\n",
            "         1.1270e+00,  1.1263e-01, -1.0772e-01,  1.9620e-01,  8.3334e-01,\n",
            "        -5.3140e-01,  1.0960e-02, -1.5801e+00, -9.1778e-01, -1.5667e+00,\n",
            "        -2.8044e-01,  6.2057e-01, -4.8044e-01, -4.4054e-01, -1.8782e+00,\n",
            "        -8.1215e-01,  3.3271e-01,  5.5150e-01, -8.9280e-01,  7.5333e-01,\n",
            "         7.8262e-01,  5.4164e-01, -8.8344e-01,  4.2343e-01, -2.8316e-02,\n",
            "         7.2797e-01,  5.2217e-01, -1.0099e+00, -5.7313e-02,  3.4327e-01,\n",
            "         7.9114e-01, -1.8156e-01,  4.1484e-01, -5.1186e-01, -6.4623e-02,\n",
            "        -1.1547e+00,  1.0476e+00,  3.8868e-01,  7.7124e-02, -6.4403e-01,\n",
            "        -2.3545e+00, -1.8730e-02,  9.8106e-01, -5.0872e-01, -1.4693e+00,\n",
            "         1.2128e+00, -2.0636e-01,  1.0826e-01,  3.2344e-01,  2.3647e+00,\n",
            "         1.7401e+00,  3.5934e+00,  1.9459e+00,  4.4416e-01, -3.6114e-02,\n",
            "         2.4380e-01,  4.8880e-01,  4.5458e-01,  1.0012e+00,  6.1178e-01,\n",
            "         8.4746e-01,  5.8884e-01, -7.9623e-01,  9.7214e-01,  2.8981e-01,\n",
            "        -8.5934e-01,  1.0739e+00, -1.4319e+00,  7.1467e-01,  1.9371e+00,\n",
            "        -8.3571e-01, -1.1769e+00,  4.4671e-01,  2.2564e-01,  9.9919e-01,\n",
            "         4.0145e-01,  9.1862e-01, -1.6065e-01, -5.0314e-01,  1.5770e+00,\n",
            "         1.7375e+00, -1.8251e+00,  8.9253e-01, -8.4217e-01, -2.8302e-01,\n",
            "        -3.2346e-01, -7.3160e-02,  1.2887e+00, -1.3614e+00,  2.2180e+00,\n",
            "        -4.3336e-01,  8.5713e-01,  7.9287e-01,  5.1281e-01,  1.4651e-01,\n",
            "         4.1873e-01,  3.8588e-01,  4.9302e-01,  8.8066e-01,  8.2700e-01,\n",
            "        -1.6623e+00,  6.9734e-01, -8.7536e-01,  2.2141e-01,  5.9291e-01,\n",
            "        -1.6366e+00], device='cuda:0', grad_fn=<SqueezeBackward1>)\n",
            "Word: 가격\n",
            "tensor([ 1.1881e-01, -6.7406e-02,  3.5052e-01,  1.3543e+00,  1.2483e+00,\n",
            "        -3.7184e-01, -5.5452e-01,  7.3567e-02, -9.3651e-01, -1.8179e+00,\n",
            "         2.8091e-01,  8.6871e-01,  1.6822e+00,  1.3382e-01,  1.3228e+00,\n",
            "        -6.6839e-01,  4.0161e-01,  1.1108e+00, -4.4251e-01, -3.9671e-01,\n",
            "        -7.2722e-01,  1.4317e-01,  7.7112e-01, -1.7049e+00, -4.7069e-01,\n",
            "        -2.4994e-01,  3.8216e-01, -1.8364e-01,  4.1593e-01, -1.3013e+00,\n",
            "        -1.0546e+00,  4.6178e-01, -5.7024e-01, -2.2047e-01,  1.2020e+00,\n",
            "        -1.9703e-01, -9.8241e-01, -2.0904e+00, -2.2238e-01, -3.9983e-01,\n",
            "         3.7458e-01,  4.6228e-01, -8.1933e-01, -5.2934e-01, -5.4318e-01,\n",
            "         5.2906e-01, -1.9673e+00,  5.3160e-01,  8.8387e-03,  3.3910e-01,\n",
            "         1.1190e+00, -6.8038e-01,  1.4916e+00,  5.7771e-01,  1.7782e-01,\n",
            "        -2.8053e-01,  3.3265e+00,  1.7134e+00,  3.4535e-01, -8.9327e-01,\n",
            "         9.5519e-01, -2.7843e-01, -4.0937e-01,  1.2292e+00, -3.1411e+00,\n",
            "        -1.0474e-01,  1.9863e+00,  1.0988e+00, -2.6247e-01, -7.6349e-01,\n",
            "         4.1684e-01,  1.4392e+00,  1.5627e+00,  9.4897e-01, -3.9173e-01,\n",
            "        -9.8716e-02,  6.0097e-01,  5.7409e-01,  2.4418e+00, -1.0160e+00,\n",
            "         8.1557e-01, -2.3475e+00, -8.0649e-02,  1.2757e+00, -1.1923e+00,\n",
            "         1.2478e+00,  1.1469e+00, -1.5078e+00, -8.0638e-01,  6.5904e-01,\n",
            "         1.1058e+00,  1.2109e+00, -1.8692e-02, -5.0800e-01,  6.5893e-01,\n",
            "         2.2007e+00,  1.3024e+00, -2.1603e-01, -2.0433e+00, -7.2946e-01,\n",
            "        -1.1696e-01,  2.4749e-01,  1.3515e+00,  7.5122e-01, -1.0317e-01,\n",
            "        -1.1193e+00,  1.0468e+00, -9.0960e-02,  6.8340e-01, -6.8703e-01,\n",
            "         6.3391e-01, -2.6425e-01,  2.5257e-01, -7.5714e-01, -3.4498e-01,\n",
            "        -1.0158e+00, -6.5983e-01, -1.6575e+00,  5.8170e-01, -8.8151e-01,\n",
            "        -5.6007e-01, -8.0694e-01,  5.3985e-01, -1.6985e-01,  7.5446e-01,\n",
            "        -1.0299e+00,  9.7876e-01, -4.2465e-01, -5.5469e-01, -7.5442e-02,\n",
            "        -7.7553e-02, -9.1493e-02, -8.8396e-01,  1.8129e+00, -1.9027e-01,\n",
            "         1.9285e-01,  5.7203e-01, -5.4972e-01,  6.0253e-01,  9.0370e-01,\n",
            "        -2.0989e-01,  1.5664e-01, -1.5816e+00,  4.1728e-01,  2.4200e-01,\n",
            "        -4.2218e-01,  8.0553e-01,  1.4301e-01, -3.7715e-01,  8.1263e-01,\n",
            "         6.7914e-01, -1.3870e+00,  1.2409e+00, -4.7865e-01, -5.9189e-01,\n",
            "        -1.3510e-01, -1.3696e+00, -3.8225e-01, -1.2709e+00,  1.1550e+00,\n",
            "        -1.0193e+00,  6.2065e-01, -1.0006e+00,  1.1945e-01, -7.0459e-01,\n",
            "         4.0402e-01, -1.9525e+00,  9.2315e-01,  3.7417e-01, -2.1450e+00,\n",
            "        -1.0139e+00,  3.5406e-01,  1.5505e+00,  1.2234e+00, -6.8381e-01,\n",
            "         6.5695e-02, -6.8559e-01, -1.9780e+00, -9.5297e-01, -1.9459e-01,\n",
            "        -1.1000e+00,  1.0481e+00,  6.3941e-01, -5.6560e-01,  2.7721e-02,\n",
            "        -2.0061e+00,  8.7329e-02,  2.4823e+00,  1.9245e+00, -5.5433e-01,\n",
            "         4.0780e-01, -1.2580e+00, -5.0719e-01, -7.2355e-01, -7.6500e-01,\n",
            "         1.9842e+00, -5.7283e-01,  9.5544e-02,  4.3751e-01,  3.4418e-01,\n",
            "        -1.1268e+00,  1.7912e+00,  5.2914e-01,  1.9482e+00, -6.9680e-01,\n",
            "         1.5784e+00,  3.3176e-01,  4.0311e-01, -7.6588e-01, -8.8629e-01,\n",
            "        -6.7797e-01,  4.0270e-02, -1.9241e-01,  7.4945e-01, -5.3083e-01,\n",
            "         1.7001e-01,  1.1879e+00, -9.4163e-01,  6.4843e-01, -6.0451e-01,\n",
            "         4.7950e-01,  4.6246e-01, -1.3103e-01,  2.1039e-01, -2.8213e-01,\n",
            "        -3.4097e-01,  1.2878e+00,  1.1280e+00,  1.3232e+00,  1.2306e-01,\n",
            "         3.1554e-02, -3.4522e-01, -1.0995e-01,  3.7636e-01,  1.0797e+00,\n",
            "         1.0858e+00,  1.4703e+00, -1.1233e-01, -2.2179e-02, -3.2714e-01,\n",
            "        -3.4020e-01, -5.7481e-01,  1.1646e+00, -9.3909e-02, -1.6625e+00,\n",
            "        -5.5313e-01,  9.6871e-01, -7.0655e-01,  6.3844e-01, -3.8003e-01,\n",
            "        -2.1909e-01, -4.4306e-01,  2.2290e-01,  5.9007e-04,  1.8387e+00,\n",
            "        -1.2832e+00], device='cuda:0', grad_fn=<SqueezeBackward1>)\n"
          ]
        }
      ],
      "source": [
        "for word in test_words:\n",
        "  input_id = torch.LongTensor([w2i[word]]).to(device)\n",
        "  emb = cbow.embedding(input_id)\n",
        "\n",
        "  print(f\"Word: {word}\")\n",
        "  print(emb.squeeze(0))"
      ]
    },
    {
      "cell_type": "code",
      "execution_count": 23,
      "metadata": {},
      "outputs": [
        {
          "data": {
            "text/plain": [
              "torch.Size([1, 256])"
            ]
          },
          "execution_count": 23,
          "metadata": {},
          "output_type": "execute_result"
        }
      ],
      "source": [
        "emb.shape"
      ]
    },
    {
      "cell_type": "code",
      "execution_count": 24,
      "metadata": {
        "colab": {
          "base_uri": "https://localhost:8080/"
        },
        "id": "_l5cPRZZe-R4",
        "outputId": "0f685cf6-4d47-433b-b4a6-8f0774285b88"
      },
      "outputs": [
        {
          "name": "stdout",
          "output_type": "stream",
          "text": [
            "Word: 음식\n",
            "tensor(3.3008, device='cuda:0', grad_fn=<UnbindBackward0>)\n",
            "Word: 맛\n",
            "tensor(2.9484, device='cuda:0', grad_fn=<UnbindBackward0>)\n",
            "Word: 서비스\n",
            "tensor(2.0101, device='cuda:0', grad_fn=<UnbindBackward0>)\n",
            "Word: 위생\n",
            "tensor(2.6592, device='cuda:0', grad_fn=<UnbindBackward0>)\n",
            "Word: 가격\n",
            "tensor(2.4488, device='cuda:0', grad_fn=<UnbindBackward0>)\n"
          ]
        }
      ],
      "source": [
        "for word in test_words:\n",
        "  input_id = torch.LongTensor([w2i[word]]).to(device)\n",
        "  emb = skipgram.embedding(input_id)\n",
        "\n",
        "  print(f\"Word: {word}\")\n",
        "  print(max(emb.squeeze(0)))"
      ]
    },
    {
      "cell_type": "code",
      "execution_count": 25,
      "metadata": {
        "colab": {
          "base_uri": "https://localhost:8080/"
        },
        "id": "T4mv-fDF29Ha",
        "outputId": "5ee7abfb-8b9a-44a0-ae74-fc731f049945"
      },
      "outputs": [
        {
          "data": {
            "text/plain": [
              "['음식', '맛', '서비스', '위생', '가격']"
            ]
          },
          "execution_count": 25,
          "metadata": {},
          "output_type": "execute_result"
        }
      ],
      "source": [
        "test_words"
      ]
    },
    {
      "cell_type": "code",
      "execution_count": 26,
      "metadata": {
        "colab": {
          "base_uri": "https://localhost:8080/",
          "height": 35
        },
        "id": "6jYY7xYd4vIR",
        "outputId": "078036e0-c336-4f5c-c08f-1eb6ceab86ed"
      },
      "outputs": [
        {
          "data": {
            "text/plain": [
              "'다시'"
            ]
          },
          "execution_count": 26,
          "metadata": {},
          "output_type": "execute_result"
        }
      ],
      "source": [
        "\n",
        "i2w[25]"
      ]
    },
    {
      "cell_type": "code",
      "execution_count": 27,
      "metadata": {
        "id": "1OBlu8O63CXx"
      },
      "outputs": [],
      "source": [
        "def most_similar(word,top_k=5):\n",
        "  input_id = torch.LongTensor([w2i[word]]).to(device)\n",
        "  input_emb = skipgram.embedding(input_id)\n",
        "  score=torch.matmul(input_emb,skipgram.embedding.weight.transpose(1,0)).view(-1)\n",
        "\n",
        "  _,top_k_ids=torch.topk(score,top_k)\n",
        "\n",
        "  return [i2w[word_id.item()] for word_id in top_k_ids][1:]"
      ]
    },
    {
      "cell_type": "code",
      "execution_count": 28,
      "metadata": {
        "colab": {
          "base_uri": "https://localhost:8080/"
        },
        "id": "c75HQoLn2_Ty",
        "outputId": "a9fb8d1c-11d0-4289-8a31-85382eb78f6a"
      },
      "outputs": [
        {
          "data": {
            "text/plain": [
              "['최고', '것', '정말', '만족스럽다']"
            ]
          },
          "execution_count": 28,
          "metadata": {},
          "output_type": "execute_result"
        }
      ],
      "source": [
        "most_similar(\"가격\")"
      ]
    },
    {
      "cell_type": "markdown",
      "metadata": {
        "id": "4YvYEGNr2IiR"
      },
      "source": [
        "## Word2Vec 시각화"
      ]
    },
    {
      "cell_type": "code",
      "execution_count": 29,
      "metadata": {
        "id": "rcBVrabH2IiR"
      },
      "outputs": [],
      "source": [
        "from sklearn.decomposition import PCA"
      ]
    },
    {
      "cell_type": "code",
      "execution_count": 30,
      "metadata": {
        "id": "c8XdtYVf8Ydg"
      },
      "outputs": [],
      "source": [
        "import matplotlib.pyplot as plt\n",
        "# matplotlib 패키지 한글 깨짐 처리 시작\n",
        "plt.rc('font', family='NanumBarunGothic') \n",
        "# plt.rc('font', family='AppleGothic') #맥"
      ]
    },
    {
      "cell_type": "code",
      "execution_count": 31,
      "metadata": {
        "id": "hEypFpsw7K8q"
      },
      "outputs": [],
      "source": [
        "pca=PCA(n_components=2)"
      ]
    },
    {
      "cell_type": "code",
      "execution_count": 32,
      "metadata": {
        "id": "2NAllD3y7NFo"
      },
      "outputs": [],
      "source": [
        "pc_weight=pca.fit_transform(skipgram.embedding.weight.data.cpu().numpy())"
      ]
    },
    {
      "cell_type": "code",
      "execution_count": 33,
      "metadata": {
        "colab": {
          "base_uri": "https://localhost:8080/",
          "height": 1000
        },
        "id": "8KKgYYTa7Uh3",
        "outputId": "08404678-8e1d-467a-c590-143bb857acab"
      },
      "outputs": [
        {
          "name": "stderr",
          "output_type": "stream",
          "text": [
            "/home/koowater/.local/lib/python3.8/site-packages/IPython/core/pylabtools.py:151: UserWarning: Glyph 8722 (\\N{MINUS SIGN}) missing from current font.\n",
            "  fig.canvas.print_figure(bytes_io, **kw)\n"
          ]
        },
        {
          "data": {
            "image/png": "[encoded data removed]",
            "text/plain": [
              "<Figure size 1080x1080 with 1 Axes>"
            ]
          },
          "metadata": {
            "needs_background": "light"
          },
          "output_type": "display_data"
        }
      ],
      "source": [
        "plt.figure(figsize=(15,15))\n",
        "\n",
        "for word_id,(x_coordinate,y_coordinate) in enumerate(pc_weight):\n",
        "  plt.scatter(x_coordinate,y_coordinate,color=\"blue\")\n",
        "  plt.annotate(i2w[word_id], (x_coordinate+0.1, y_coordinate))"
      ]
    },
    {
      "cell_type": "code",
      "execution_count": null,
      "metadata": {
        "id": "PX4adG7B7qdV"
      },
      "outputs": [],
      "source": []
    }
  ],
  "metadata": {
    "accelerator": "GPU",
    "colab": {
      "collapsed_sections": [],
      "name": "[HW26_Answer]Word2Vec.ipynb의 사본",
      "provenance": []
    },
    "kernelspec": {
      "display_name": "Python 3.8.10 64-bit",
      "language": "python",
      "name": "python3"
    },
    "language_info": {
      "codemirror_mode": {
        "name": "ipython",
        "version": 3
      },
      "file_extension": ".py",
      "mimetype": "text/x-python",
      "name": "python",
      "nbconvert_exporter": "python",
      "pygments_lexer": "ipython3",
      "version": "3.8.10"
    },
    "vscode": {
      "interpreter": {
        "hash": "916dbcbb3f70747c44a77c7bcd40155683ae19c65e1c03b4aa3499c5328201f1"
      }
    }
  },
  "nbformat": 4,
  "nbformat_minor": 0
}
