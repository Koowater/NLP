{
  "cells": [
    {
      "cell_type": "markdown",
      "metadata": {
        "id": "h3FAK0fz1kOr"
      },
      "source": [
        "## **3. Word2Vec**\n",
        "1. 주어진 단어들을 word2vec 모델에 들어갈 수 있는 형태로 만듭니다.\n",
        "2. CBOW, Skip-gram 모델을 각각 구현합니다.\n",
        "3. 모델을 실제로 학습해보고 결과를 확인합니다.\n",
        "4. 산점도를 그려 단어들의 대략적인 위치를 확인해봅니다"
      ]
    },
    {
      "cell_type": "markdown",
      "metadata": {
        "id": "u9FrxTPWIsct"
      },
      "source": [
        "### **필요 패키지 import**"
      ]
    },
    {
      "cell_type": "code",
      "execution_count": 1,
      "metadata": {
        "colab": {
          "base_uri": "https://localhost:8080/"
        },
        "id": "utBdiiW499DI",
        "outputId": "157a37ab-d041-4f5b-9c5b-1225a0bd67fa"
      },
      "outputs": [],
      "source": [
        "# !sudo apt-get install -y fonts-nanum\n",
        "# !sudo fc-cache -fv\n",
        "# !rm ~/.cache/matplotlib -rf"
      ]
    },
    {
      "cell_type": "code",
      "execution_count": 2,
      "metadata": {
        "colab": {
          "base_uri": "https://localhost:8080/"
        },
        "id": "QjroCdtwI9Rz",
        "outputId": "3b155469-22ae-4351-cdf6-8dd45d4b570b"
      },
      "outputs": [],
      "source": [
        "# !pip install konlpy"
      ]
    },
    {
      "cell_type": "code",
      "execution_count": 3,
      "metadata": {
        "id": "nSP7aXfJIr3i"
      },
      "outputs": [],
      "source": [
        "from tqdm import tqdm\n",
        "from konlpy.tag import Mecab,Twitter,Okt,Kkma\n",
        "from torch import nn\n",
        "from torch.nn import functional as F\n",
        "from torch.utils.data import Dataset, DataLoader\n",
        "from collections import defaultdict\n",
        "\n",
        "import torch\n",
        "import copy\n",
        "import numpy as np"
      ]
    },
    {
      "cell_type": "markdown",
      "metadata": {
        "id": "qugro74yJASr"
      },
      "source": [
        "### **데이터 전처리**"
      ]
    },
    {
      "cell_type": "markdown",
      "metadata": {
        "id": "Q36dfSRRJDtX"
      },
      "source": [
        "\n",
        "\n",
        "데이터를 확인하고 Word2Vec 형식에 맞게 전처리합니다."
      ]
    },
    {
      "cell_type": "code",
      "execution_count": 4,
      "metadata": {
        "id": "CLZ2f-lRJSus"
      },
      "outputs": [],
      "source": [
        "train_data = [\n",
        "  \"정말 맛있습니다. 추천합니다.\",\n",
        "  \"기대했던 것보단 별로였네요.\",\n",
        "  \"다 좋은데 가격이 너무 비싸서 다시 가고 싶다는 생각이 안 드네요.\",\n",
        "  \"완전 최고입니다! 재방문 의사 있습니다.\",\n",
        "  \"음식도 서비스도 다 만족스러웠습니다.\",\n",
        "  \"위생 상태가 좀 별로였습니다. 좀 더 개선되기를 바랍니다.\",\n",
        "  \"맛도 좋았고 직원분들 서비스도 너무 친절했습니다.\",\n",
        "  \"기념일에 방문했는데 음식도 분위기도 서비스도 다 좋았습니다.\",\n",
        "  \"전반적으로 음식이 너무 짰습니다. 저는 별로였네요.\",\n",
        "  \"위생에 조금 더 신경 썼으면 좋겠습니다. 조금 불쾌했습니다.\"       \n",
        "]\n",
        "\n",
        "test_words = [\"음식\", \"맛\", \"서비스\", \"위생\", \"가격\"]"
      ]
    },
    {
      "cell_type": "markdown",
      "metadata": {
        "id": "vReElaFSLBYL"
      },
      "source": [
        "Tokenization과 vocab을 만드는 과정은 이전 실습과 유사합니다."
      ]
    },
    {
      "cell_type": "code",
      "execution_count": 5,
      "metadata": {
        "id": "dTjlRzmWMDK_"
      },
      "outputs": [],
      "source": [
        "tokenizer = Okt()"
      ]
    },
    {
      "cell_type": "code",
      "execution_count": 6,
      "metadata": {
        "id": "0DTUsX672icp"
      },
      "outputs": [],
      "source": [
        "def make_tokenized(data):\n",
        "  tokenized = []\n",
        "  for sent in tqdm(data):\n",
        "    tokens = tokenizer.morphs(sent, stem=True)\n",
        "    tokenized.append(tokens)\n",
        "\n",
        "  return tokenized"
      ]
    },
    {
      "cell_type": "code",
      "execution_count": 7,
      "metadata": {
        "colab": {
          "base_uri": "https://localhost:8080/"
        },
        "id": "C-z0z6HD2rrX",
        "outputId": "c9db53ef-6b61-4fb6-95ad-a87963f25978"
      },
      "outputs": [
        {
          "name": "stderr",
          "output_type": "stream",
          "text": [
            "100%|██████████| 10/10 [00:02<00:00,  3.92it/s]\n"
          ]
        }
      ],
      "source": [
        "train_tokenized = make_tokenized(train_data)"
      ]
    },
    {
      "cell_type": "code",
      "execution_count": 8,
      "metadata": {
        "colab": {
          "base_uri": "https://localhost:8080/"
        },
        "id": "51exEpI0Mc3l",
        "outputId": "aff941ff-a4e4-4d64-804e-835071f2df39"
      },
      "outputs": [
        {
          "name": "stderr",
          "output_type": "stream",
          "text": [
            "100%|██████████| 10/10 [00:00<00:00, 125577.96it/s]\n"
          ]
        }
      ],
      "source": [
        "word_count = defaultdict(int)\n",
        "\n",
        "for tokens in tqdm(train_tokenized):\n",
        "  for token in tokens:\n",
        "    word_count[token] += 1"
      ]
    },
    {
      "cell_type": "code",
      "execution_count": 9,
      "metadata": {
        "colab": {
          "base_uri": "https://localhost:8080/"
        },
        "id": "gyvHAMAnMh1D",
        "outputId": "2cd3844f-5b3a-4ce6-f920-231ab6b46057"
      },
      "outputs": [
        {
          "name": "stdout",
          "output_type": "stream",
          "text": [
            "[('.', 14), ('도', 7), ('이다', 4), ('좋다', 4), ('별로', 3), ('다', 3), ('이', 3), ('너무', 3), ('음식', 3), ('서비스', 3), ('하다', 2), ('방문', 2), ('위생', 2), ('좀', 2), ('더', 2), ('에', 2), ('조금', 2), ('정말', 1), ('맛있다', 1), ('추천', 1), ('기대하다', 1), ('것', 1), ('보단', 1), ('가격', 1), ('비싸다', 1), ('다시', 1), ('가다', 1), ('싶다', 1), ('생각', 1), ('안', 1), ('드네', 1), ('요', 1), ('완전', 1), ('최고', 1), ('!', 1), ('재', 1), ('의사', 1), ('있다', 1), ('만족스럽다', 1), ('상태', 1), ('가', 1), ('개선', 1), ('되다', 1), ('기르다', 1), ('바라다', 1), ('맛', 1), ('직원', 1), ('분들', 1), ('친절하다', 1), ('기념일', 1), ('분위기', 1), ('전반', 1), ('적', 1), ('으로', 1), ('짜다', 1), ('저', 1), ('는', 1), ('신경', 1), ('써다', 1), ('불쾌하다', 1)]\n"
          ]
        }
      ],
      "source": [
        "word_count = sorted(word_count.items(), key=lambda x: x[1], reverse=True)\n",
        "print(list(word_count))"
      ]
    },
    {
      "cell_type": "code",
      "execution_count": 10,
      "metadata": {
        "colab": {
          "base_uri": "https://localhost:8080/"
        },
        "id": "DaK_i3zL2vO3",
        "outputId": "74a47b5c-6e99-4468-d874-8f277d41041b"
      },
      "outputs": [
        {
          "name": "stderr",
          "output_type": "stream",
          "text": [
            "100%|██████████| 60/60 [00:00<00:00, 949653.74it/s]\n"
          ]
        }
      ],
      "source": [
        "w2i = {}\n",
        "for pair in tqdm(word_count):\n",
        "  if pair[0] not in w2i:\n",
        "    w2i[pair[0]] = len(w2i)\n",
        "\n",
        "i2w={v:k for k,v in w2i.items()}"
      ]
    },
    {
      "cell_type": "code",
      "execution_count": 11,
      "metadata": {
        "colab": {
          "base_uri": "https://localhost:8080/"
        },
        "id": "LiGqiEGDL5B_",
        "outputId": "781850df-c09f-4f27-90f8-4aea2932f596"
      },
      "outputs": [
        {
          "name": "stdout",
          "output_type": "stream",
          "text": [
            "[['정말', '맛있다', '.', '추천', '하다', '.'], ['기대하다', '것', '보단', '별로', '이다', '.'], ['다', '좋다', '가격', '이', '너무', '비싸다', '다시', '가다', '싶다', '생각', '이', '안', '드네', '요', '.'], ['완전', '최고', '이다', '!', '재', '방문', '의사', '있다', '.'], ['음식', '도', '서비스', '도', '다', '만족스럽다', '.'], ['위생', '상태', '가', '좀', '별로', '이다', '.', '좀', '더', '개선', '되다', '기르다', '바라다', '.'], ['맛', '도', '좋다', '직원', '분들', '서비스', '도', '너무', '친절하다', '.'], ['기념일', '에', '방문', '하다', '음식', '도', '분위기', '도', '서비스', '도', '다', '좋다', '.'], ['전반', '적', '으로', '음식', '이', '너무', '짜다', '.', '저', '는', '별로', '이다', '.'], ['위생', '에', '조금', '더', '신경', '써다', '좋다', '.', '조금', '불쾌하다', '.']]\n",
            "{'.': 0, '도': 1, '이다': 2, '좋다': 3, '별로': 4, '다': 5, '이': 6, '너무': 7, '음식': 8, '서비스': 9, '하다': 10, '방문': 11, '위생': 12, '좀': 13, '더': 14, '에': 15, '조금': 16, '정말': 17, '맛있다': 18, '추천': 19, '기대하다': 20, '것': 21, '보단': 22, '가격': 23, '비싸다': 24, '다시': 25, '가다': 26, '싶다': 27, '생각': 28, '안': 29, '드네': 30, '요': 31, '완전': 32, '최고': 33, '!': 34, '재': 35, '의사': 36, '있다': 37, '만족스럽다': 38, '상태': 39, '가': 40, '개선': 41, '되다': 42, '기르다': 43, '바라다': 44, '맛': 45, '직원': 46, '분들': 47, '친절하다': 48, '기념일': 49, '분위기': 50, '전반': 51, '적': 52, '으로': 53, '짜다': 54, '저': 55, '는': 56, '신경': 57, '써다': 58, '불쾌하다': 59}\n"
          ]
        }
      ],
      "source": [
        "print(train_tokenized)\n",
        "print(w2i)"
      ]
    },
    {
      "cell_type": "markdown",
      "metadata": {
        "id": "Rcm_L4iJBufO"
      },
      "source": [
        "### 다음은 Word2Vec을 학습시키는 대표적인 방법인 Skipgram과 CBow를 다룹니다. \n",
        "\n",
        "* Cbow는 주변단어를 이용해, 주어진 단어를 예측하는 방법입니다.\n",
        "* Skipgram은 중심 단어를 이용하여 주변 단어를 예측하는 방법입니다.\n",
        "* 즉 데이터셋을 구성할때, input x 와 target y를 어떻게 설정하는지에 차이가 있습니다.\n",
        "\n",
        "참고자료 \n",
        "\n",
        "* https://simonezz.tistory.com/35 \n",
        "\n",
        "* https://towardsdatascience.com/nlp-101-word2vec-skip-gram-and-cbow-93512ee24314 \n",
        "\n"
      ]
    },
    {
      "cell_type": "markdown",
      "metadata": {
        "id": "vXA5zaPPM3Wd"
      },
      "source": [
        "실제 모델에 들어가기 위한 input을 만들기 위해 `Dataset` 클래스를 정의합니다."
      ]
    },
    {
      "cell_type": "code",
      "execution_count": 12,
      "metadata": {
        "id": "s47ssyVt89t1"
      },
      "outputs": [],
      "source": [
        "class CBOWDataset(Dataset):\n",
        "  def __init__(self, train_tokenized, window_size=2):\n",
        "    self.x = [] # input word\n",
        "    self.y = [] # target word\n",
        "\n",
        "    for tokens in tqdm(train_tokenized):\n",
        "      token_ids = [w2i[token] for token in tokens]\n",
        "      for i, id in enumerate(token_ids):\n",
        "        if i-window_size >= 0 and i+window_size < len(token_ids):\n",
        "          self.x.append(token_ids[i-window_size:i] + token_ids[i+1:i+window_size+1])\n",
        "          self.y.append(id)\n",
        "\n",
        "    self.x = torch.LongTensor(self.x)  # (전체 데이터 개수, 2 * window_size)\n",
        "    self.y = torch.LongTensor(self.y)  # (전체 데이터 개수)\n",
        "\n",
        "  def __len__(self):\n",
        "    return self.x.shape[0]\n",
        "\n",
        "  def __getitem__(self, idx):\n",
        "    return self.x[idx], self.y[idx]"
      ]
    },
    {
      "cell_type": "code",
      "execution_count": 13,
      "metadata": {
        "id": "kvInhQ33AMJv"
      },
      "outputs": [],
      "source": [
        "class SkipGramDataset(Dataset):\n",
        "  def __init__(self, train_tokenized, window_size=2):\n",
        "    self.x = []\n",
        "    self.y = None\n",
        "\n",
        "    for tokens in tqdm(train_tokenized):\n",
        "      token_ids = [w2i[token] for token in tokens]\n",
        "      for i, id in enumerate(token_ids):\n",
        "        if i-window_size >= 0 and i+window_size < len(token_ids):\n",
        "          self.x.append(id)\n",
        "          tokens_in_window = token_ids[i-window_size:i+window_size+1]\n",
        "          y_tensor = torch.LongTensor(tokens_in_window[:window_size] + token_ids[-window_size:])\n",
        "          one_hot = F.one_hot(y_tensor, num_classes=len(w2i))\n",
        "          if self.y == None:\n",
        "            self.y = one_hot\n",
        "            self.y = torch.unsqueeze(self.y, 0)\n",
        "          else:\n",
        "            self.y = torch.concat((self.y, torch.unsqueeze(one_hot, 0)))\n",
        "\n",
        "    self.x = torch.LongTensor(self.x)  # (전체 데이터 개수)\n",
        "    self.y = self.y.type(torch.float)\n",
        "    \n",
        "  def __len__(self):\n",
        "    return self.x.shape[0]\n",
        "\n",
        "  def __getitem__(self, idx):\n",
        "    return self.x[idx], self.y[idx]"
      ]
    },
    {
      "cell_type": "markdown",
      "metadata": {
        "id": "JyAGV5IUUba0"
      },
      "source": [
        "각 모델에 맞는 `Dataset` 객체를 생성합니다."
      ]
    },
    {
      "cell_type": "code",
      "execution_count": 14,
      "metadata": {
        "colab": {
          "base_uri": "https://localhost:8080/"
        },
        "id": "5ep7Hm6oBWyy",
        "outputId": "72b38ac7-ffd9-4ae3-b80d-0040b343597f"
      },
      "outputs": [
        {
          "name": "stderr",
          "output_type": "stream",
          "text": [
            "100%|██████████| 10/10 [00:00<00:00, 87930.90it/s]\n",
            "100%|██████████| 10/10 [00:00<00:00, 2060.88it/s]"
          ]
        },
        {
          "name": "stdout",
          "output_type": "stream",
          "text": [
            "(tensor(0), tensor([[0., 0., 0., 0., 0., 0., 0., 0., 0., 0., 0., 0., 0., 0., 0., 0., 0., 1.,\n",
            "         0., 0., 0., 0., 0., 0., 0., 0., 0., 0., 0., 0., 0., 0., 0., 0., 0., 0.,\n",
            "         0., 0., 0., 0., 0., 0., 0., 0., 0., 0., 0., 0., 0., 0., 0., 0., 0., 0.,\n",
            "         0., 0., 0., 0., 0., 0.],\n",
            "        [0., 0., 0., 0., 0., 0., 0., 0., 0., 0., 0., 0., 0., 0., 0., 0., 0., 0.,\n",
            "         1., 0., 0., 0., 0., 0., 0., 0., 0., 0., 0., 0., 0., 0., 0., 0., 0., 0.,\n",
            "         0., 0., 0., 0., 0., 0., 0., 0., 0., 0., 0., 0., 0., 0., 0., 0., 0., 0.,\n",
            "         0., 0., 0., 0., 0., 0.],\n",
            "        [0., 0., 0., 0., 0., 0., 0., 0., 0., 0., 1., 0., 0., 0., 0., 0., 0., 0.,\n",
            "         0., 0., 0., 0., 0., 0., 0., 0., 0., 0., 0., 0., 0., 0., 0., 0., 0., 0.,\n",
            "         0., 0., 0., 0., 0., 0., 0., 0., 0., 0., 0., 0., 0., 0., 0., 0., 0., 0.,\n",
            "         0., 0., 0., 0., 0., 0.],\n",
            "        [1., 0., 0., 0., 0., 0., 0., 0., 0., 0., 0., 0., 0., 0., 0., 0., 0., 0.,\n",
            "         0., 0., 0., 0., 0., 0., 0., 0., 0., 0., 0., 0., 0., 0., 0., 0., 0., 0.,\n",
            "         0., 0., 0., 0., 0., 0., 0., 0., 0., 0., 0., 0., 0., 0., 0., 0., 0., 0.,\n",
            "         0., 0., 0., 0., 0., 0.]]))\n"
          ]
        },
        {
          "name": "stderr",
          "output_type": "stream",
          "text": [
            "\n"
          ]
        }
      ],
      "source": [
        "cbow_set = CBOWDataset(train_tokenized)\n",
        "skipgram_set = SkipGramDataset(train_tokenized)\n",
        "# print(list(cbow_set))\n",
        "print(list(skipgram_set)[0])"
      ]
    },
    {
      "cell_type": "code",
      "execution_count": null,
      "metadata": {},
      "outputs": [],
      "source": []
    },
    {
      "cell_type": "markdown",
      "metadata": {
        "id": "1QSo73PoRyd9"
      },
      "source": [
        "### **모델 Class 구현**"
      ]
    },
    {
      "cell_type": "markdown",
      "metadata": {
        "id": "jnnk44R6R28x"
      },
      "source": [
        "차례대로 두 가지 Word2Vec 모델을 구현합니다.  \n",
        "\n",
        "\n",
        "*   `self.embedding`: `vocab_size` 크기의 one-hot vector를 특정 크기의 `dim` 차원으로 embedding 시키는 layer.\n",
        "*   `self.linear`: 변환된 embedding vector를 다시 원래 `vocab_size`로 바꾸는 layer.\n"
      ]
    },
    {
      "cell_type": "code",
      "execution_count": 15,
      "metadata": {
        "id": "b_HP1ISq5CWv"
      },
      "outputs": [],
      "source": [
        "class CBOW(nn.Module):\n",
        "  def __init__(self, vocab_size, dim):\n",
        "    super(CBOW, self).__init__()\n",
        "    self.embedding = nn.Embedding(vocab_size, dim, sparse=True)\n",
        "    self.linear = nn.Linear(dim, vocab_size)\n",
        "\n",
        "  # B: batch size, W: window size, d_w: word embedding size, V: vocab size\n",
        "  def forward(self, x):  # x: (B, 2W)\n",
        "    embeddings = self.embedding(x)  # (B, 2W, d_w)\n",
        "    embeddings = torch.sum(embeddings, dim=1)  # (B, d_w)\n",
        "    output = self.linear(embeddings)  # (B, V)\n",
        "    return output"
      ]
    },
    {
      "cell_type": "code",
      "execution_count": 16,
      "metadata": {
        "id": "yQAUApww68MJ"
      },
      "outputs": [],
      "source": [
        "class SkipGram(nn.Module):\n",
        "  def __init__(self, vocab_size, dim, window_size=2):\n",
        "    super(SkipGram, self).__init__()\n",
        "    self.window_size = window_size\n",
        "    self.vocab_size = vocab_size\n",
        "    self.embedding = nn.Embedding(self.vocab_size, dim, sparse=True)\n",
        "    self.linear = nn.Linear(dim, self.vocab_size * self.window_size * 2)\n",
        "\n",
        "  # B: batch size, W: window size, d_w: word embedding size, V: vocab size\n",
        "  def forward(self, x): # x: (B)\n",
        "    embeddings = self.embedding(x)  # (B, d_w)\n",
        "    output = self.linear(embeddings)  # (B, V * W)\n",
        "    output = output.view(-1, self.window_size * 2, self.vocab_size)\n",
        "    return output"
      ]
    },
    {
      "cell_type": "markdown",
      "metadata": {
        "id": "58cJalkDWYMT"
      },
      "source": [
        "두 가지 모델을 생성합니다."
      ]
    },
    {
      "cell_type": "code",
      "execution_count": 17,
      "metadata": {
        "id": "8vWUXEi8WeM-"
      },
      "outputs": [],
      "source": [
        "cbow = CBOW(vocab_size=len(w2i), dim=256)\n",
        "skipgram = SkipGram(vocab_size=len(w2i), dim=256)"
      ]
    },
    {
      "cell_type": "markdown",
      "metadata": {
        "id": "xxP7qdtNWil1"
      },
      "source": [
        "### **모델 학습**"
      ]
    },
    {
      "cell_type": "markdown",
      "metadata": {
        "id": "QVggZrQ4WpBS"
      },
      "source": [
        "다음과 같이 hyperparamter를 세팅하고 `DataLoader` 객체를 만듭니다."
      ]
    },
    {
      "cell_type": "code",
      "execution_count": 18,
      "metadata": {
        "id": "ygVdz5rSBeNu"
      },
      "outputs": [],
      "source": [
        "batch_size=4\n",
        "learning_rate = 5e-4\n",
        "num_epochs = 100\n",
        "device = torch.device('cuda') if torch.cuda.is_available() else torch.device('cpu')\n",
        "\n",
        "cbow_loader = DataLoader(cbow_set, batch_size=batch_size)\n",
        "skipgram_loader = DataLoader(skipgram_set, batch_size=batch_size)"
      ]
    },
    {
      "cell_type": "markdown",
      "metadata": {
        "id": "ekixqKB3X5C1"
      },
      "source": [
        "첫번째로 CBOW 모델 학습입니다."
      ]
    },
    {
      "cell_type": "code",
      "execution_count": 19,
      "metadata": {
        "colab": {
          "base_uri": "https://localhost:8080/"
        },
        "id": "-d95qR7oC822",
        "outputId": "447d8a84-9c04-4dd5-dabb-611363420de7"
      },
      "outputs": [
        {
          "name": "stdout",
          "output_type": "stream",
          "text": [
            "Epoch: 1, Train loss: 4.992088317871094\n",
            "Epoch: 2, Train loss: 4.861606121063232\n",
            "Epoch: 3, Train loss: 4.733674049377441\n",
            "Epoch: 4, Train loss: 4.608297824859619\n",
            "Epoch: 5, Train loss: 4.485503196716309\n",
            "Epoch: 6, Train loss: 4.365334510803223\n",
            "Epoch: 7, Train loss: 4.24784517288208\n",
            "Epoch: 8, Train loss: 4.133092880249023\n",
            "Epoch: 9, Train loss: 4.021129608154297\n",
            "Epoch: 10, Train loss: 3.911996841430664\n",
            "Epoch: 11, Train loss: 3.8057146072387695\n",
            "Epoch: 12, Train loss: 3.702279567718506\n",
            "Epoch: 13, Train loss: 3.601658344268799\n",
            "Epoch: 14, Train loss: 3.503791332244873\n",
            "Epoch: 15, Train loss: 3.408600330352783\n",
            "Epoch: 16, Train loss: 3.315992832183838\n",
            "Epoch: 17, Train loss: 3.2258760929107666\n",
            "Epoch: 18, Train loss: 3.138162612915039\n",
            "Epoch: 19, Train loss: 3.0527822971343994\n",
            "Epoch: 20, Train loss: 2.969682216644287\n",
            "Epoch: 21, Train loss: 2.8888258934020996\n",
            "Epoch: 22, Train loss: 2.8101918697357178\n",
            "Epoch: 23, Train loss: 2.7337698936462402\n",
            "Epoch: 24, Train loss: 2.659552812576294\n",
            "Epoch: 25, Train loss: 2.5875344276428223\n",
            "Epoch: 26, Train loss: 2.51770281791687\n",
            "Epoch: 27, Train loss: 2.450040340423584\n",
            "Epoch: 28, Train loss: 2.384519100189209\n",
            "Epoch: 29, Train loss: 2.3211023807525635\n",
            "Epoch: 30, Train loss: 2.2597429752349854\n",
            "Epoch: 31, Train loss: 2.2003843784332275\n",
            "Epoch: 32, Train loss: 2.1429624557495117\n",
            "Epoch: 33, Train loss: 2.0874056816101074\n",
            "Epoch: 34, Train loss: 2.033637762069702\n",
            "Epoch: 35, Train loss: 1.9815789461135864\n",
            "Epoch: 36, Train loss: 1.9311474561691284\n",
            "Epoch: 37, Train loss: 1.8822604417800903\n",
            "Epoch: 38, Train loss: 1.834836483001709\n",
            "Epoch: 39, Train loss: 1.7887959480285645\n",
            "Epoch: 40, Train loss: 1.7440639734268188\n",
            "Epoch: 41, Train loss: 1.7005679607391357\n",
            "Epoch: 42, Train loss: 1.6582409143447876\n",
            "Epoch: 43, Train loss: 1.6170204877853394\n",
            "Epoch: 44, Train loss: 1.5768508911132812\n",
            "Epoch: 45, Train loss: 1.5376811027526855\n",
            "Epoch: 46, Train loss: 1.4994657039642334\n",
            "Epoch: 47, Train loss: 1.4621661901474\n",
            "Epoch: 48, Train loss: 1.4257476329803467\n",
            "Epoch: 49, Train loss: 1.3901814222335815\n",
            "Epoch: 50, Train loss: 1.3554449081420898\n",
            "Epoch: 51, Train loss: 1.3215175867080688\n",
            "Epoch: 52, Train loss: 1.288383960723877\n",
            "Epoch: 53, Train loss: 1.2560322284698486\n",
            "Epoch: 54, Train loss: 1.2244540452957153\n",
            "Epoch: 55, Train loss: 1.193642258644104\n",
            "Epoch: 56, Train loss: 1.1635925769805908\n",
            "Epoch: 57, Train loss: 1.1343024969100952\n",
            "Epoch: 58, Train loss: 1.1057690382003784\n",
            "Epoch: 59, Train loss: 1.0779908895492554\n",
            "Epoch: 60, Train loss: 1.0509670972824097\n",
            "Epoch: 61, Train loss: 1.0246949195861816\n",
            "Epoch: 62, Train loss: 0.999171793460846\n",
            "Epoch: 63, Train loss: 0.9743943810462952\n",
            "Epoch: 64, Train loss: 0.9503581523895264\n",
            "Epoch: 65, Train loss: 0.9270561337471008\n",
            "Epoch: 66, Train loss: 0.9044811725616455\n",
            "Epoch: 67, Train loss: 0.8826231360435486\n",
            "Epoch: 68, Train loss: 0.86147141456604\n",
            "Epoch: 69, Train loss: 0.8410141468048096\n",
            "Epoch: 70, Train loss: 0.8212374448776245\n",
            "Epoch: 71, Train loss: 0.8021259307861328\n",
            "Epoch: 72, Train loss: 0.7836639881134033\n",
            "Epoch: 73, Train loss: 0.7658334970474243\n",
            "Epoch: 74, Train loss: 0.7486180663108826\n",
            "Epoch: 75, Train loss: 0.7319979071617126\n",
            "Epoch: 76, Train loss: 0.7159544825553894\n",
            "Epoch: 77, Train loss: 0.7004689574241638\n",
            "Epoch: 78, Train loss: 0.6855217218399048\n",
            "Epoch: 79, Train loss: 0.6710929274559021\n",
            "Epoch: 80, Train loss: 0.6571640372276306\n",
            "Epoch: 81, Train loss: 0.6437159180641174\n",
            "Epoch: 82, Train loss: 0.6307294964790344\n",
            "Epoch: 83, Train loss: 0.6181873083114624\n",
            "Epoch: 84, Train loss: 0.606070876121521\n",
            "Epoch: 85, Train loss: 0.5943631529808044\n",
            "Epoch: 86, Train loss: 0.5830475091934204\n",
            "Epoch: 87, Train loss: 0.5721077919006348\n",
            "Epoch: 88, Train loss: 0.561528205871582\n",
            "Epoch: 89, Train loss: 0.551294207572937\n",
            "Epoch: 90, Train loss: 0.5413909554481506\n",
            "Epoch: 91, Train loss: 0.5318050384521484\n",
            "Epoch: 92, Train loss: 0.5225229263305664\n",
            "Epoch: 93, Train loss: 0.5135320425033569\n",
            "Epoch: 94, Train loss: 0.5048205852508545\n",
            "Epoch: 95, Train loss: 0.49637699127197266\n",
            "Epoch: 96, Train loss: 0.4881903827190399\n",
            "Epoch: 97, Train loss: 0.4802497327327728\n",
            "Epoch: 98, Train loss: 0.4725452661514282\n",
            "Epoch: 99, Train loss: 0.4650677740573883\n",
            "Epoch: 100, Train loss: 0.45780760049819946\n",
            "Finished.\n"
          ]
        }
      ],
      "source": [
        "cbow.train()\n",
        "cbow = cbow.to(device)\n",
        "optim = torch.optim.SGD(cbow.parameters(), lr=learning_rate)\n",
        "loss_function = nn.CrossEntropyLoss()\n",
        "\n",
        "for e in range(1, num_epochs+1):\n",
        "\n",
        "  for batch in cbow_loader:\n",
        "    x, y = batch\n",
        "    x, y = x.to(device), y.to(device) # (B, W), (B)\n",
        "    output = cbow(x)  # (B, V)\n",
        " \n",
        "    optim.zero_grad()\n",
        "    loss = loss_function(output, y)\n",
        "    loss.backward()\n",
        "    optim.step()\n",
        "\n",
        "  print(f\"Epoch: {e}, Train loss: {loss.item()}\")\n",
        "\n",
        "print(\"Finished.\")"
      ]
    },
    {
      "cell_type": "markdown",
      "metadata": {
        "id": "FDahBf6IX4py"
      },
      "source": [
        "다음으로 Skip-gram 모델 학습입니다."
      ]
    },
    {
      "cell_type": "code",
      "execution_count": 20,
      "metadata": {
        "colab": {
          "base_uri": "https://localhost:8080/"
        },
        "id": "jJxGEusqFV5r",
        "outputId": "338a930c-95db-4c68-a10a-003dcdd06325"
      },
      "outputs": [
        {
          "name": "stdout",
          "output_type": "stream",
          "text": [
            "Epoch: 1, Train loss: 0.10619376599788666\n",
            "Epoch: 2, Train loss: 0.10614388436079025\n",
            "Epoch: 3, Train loss: 0.10609404742717743\n",
            "Epoch: 4, Train loss: 0.10604425519704819\n",
            "Epoch: 5, Train loss: 0.10599449276924133\n",
            "Epoch: 6, Train loss: 0.10594478249549866\n",
            "Epoch: 7, Train loss: 0.10589507967233658\n",
            "Epoch: 8, Train loss: 0.10584545135498047\n",
            "Epoch: 9, Train loss: 0.10579582303762436\n",
            "Epoch: 10, Train loss: 0.10574626177549362\n",
            "Epoch: 11, Train loss: 0.10569673031568527\n",
            "Epoch: 12, Train loss: 0.10564723610877991\n",
            "Epoch: 13, Train loss: 0.10559777170419693\n",
            "Epoch: 14, Train loss: 0.10554834455251694\n",
            "Epoch: 15, Train loss: 0.10549895465373993\n",
            "Epoch: 16, Train loss: 0.1054496094584465\n",
            "Epoch: 17, Train loss: 0.10540029406547546\n",
            "Epoch: 18, Train loss: 0.105351023375988\n",
            "Epoch: 19, Train loss: 0.10530178248882294\n",
            "Epoch: 20, Train loss: 0.10525258630514145\n",
            "Epoch: 21, Train loss: 0.10520342737436295\n",
            "Epoch: 22, Train loss: 0.10515429824590683\n",
            "Epoch: 23, Train loss: 0.1051052138209343\n",
            "Epoch: 24, Train loss: 0.10505616664886475\n",
            "Epoch: 25, Train loss: 0.10500714182853699\n",
            "Epoch: 26, Train loss: 0.104958176612854\n",
            "Epoch: 27, Train loss: 0.10490923374891281\n",
            "Epoch: 28, Train loss: 0.1048603355884552\n",
            "Epoch: 29, Train loss: 0.10481146723031998\n",
            "Epoch: 30, Train loss: 0.10476263612508774\n",
            "Epoch: 31, Train loss: 0.10471385717391968\n",
            "Epoch: 32, Train loss: 0.10466510057449341\n",
            "Epoch: 33, Train loss: 0.10461638867855072\n",
            "Epoch: 34, Train loss: 0.10456770658493042\n",
            "Epoch: 35, Train loss: 0.1045190617442131\n",
            "Epoch: 36, Train loss: 0.10447045415639877\n",
            "Epoch: 37, Train loss: 0.10442189872264862\n",
            "Epoch: 38, Train loss: 0.10437337309122086\n",
            "Epoch: 39, Train loss: 0.10432486981153488\n",
            "Epoch: 40, Train loss: 0.10427642613649368\n",
            "Epoch: 41, Train loss: 0.10422801226377487\n",
            "Epoch: 42, Train loss: 0.10417963564395905\n",
            "Epoch: 43, Train loss: 0.10413128137588501\n",
            "Epoch: 44, Train loss: 0.10408297181129456\n",
            "Epoch: 45, Train loss: 0.10403470695018768\n",
            "Epoch: 46, Train loss: 0.10398648679256439\n",
            "Epoch: 47, Train loss: 0.1039382815361023\n",
            "Epoch: 48, Train loss: 0.10389012098312378\n",
            "Epoch: 49, Train loss: 0.10384200513362885\n",
            "Epoch: 50, Train loss: 0.1037939190864563\n",
            "Epoch: 51, Train loss: 0.10374587029218674\n",
            "Epoch: 52, Train loss: 0.10369786620140076\n",
            "Epoch: 53, Train loss: 0.10364989936351776\n",
            "Epoch: 54, Train loss: 0.10360196977853775\n",
            "Epoch: 55, Train loss: 0.10355406254529953\n",
            "Epoch: 56, Train loss: 0.10350621491670609\n",
            "Epoch: 57, Train loss: 0.10345838963985443\n",
            "Epoch: 58, Train loss: 0.10341060161590576\n",
            "Epoch: 59, Train loss: 0.10336285084486008\n",
            "Epoch: 60, Train loss: 0.10331513732671738\n",
            "Epoch: 61, Train loss: 0.10326746106147766\n",
            "Epoch: 62, Train loss: 0.10321982204914093\n",
            "Epoch: 63, Train loss: 0.10317222774028778\n",
            "Epoch: 64, Train loss: 0.10312466323375702\n",
            "Epoch: 65, Train loss: 0.10307712852954865\n",
            "Epoch: 66, Train loss: 0.10302963852882385\n",
            "Epoch: 67, Train loss: 0.10298219323158264\n",
            "Epoch: 68, Train loss: 0.10293477773666382\n",
            "Epoch: 69, Train loss: 0.10288739949464798\n",
            "Epoch: 70, Train loss: 0.10284005105495453\n",
            "Epoch: 71, Train loss: 0.10279274731874466\n",
            "Epoch: 72, Train loss: 0.10274548083543777\n",
            "Epoch: 73, Train loss: 0.10269824415445328\n",
            "Epoch: 74, Train loss: 0.10265105962753296\n",
            "Epoch: 75, Train loss: 0.10260389745235443\n",
            "Epoch: 76, Train loss: 0.10255677253007889\n",
            "Epoch: 77, Train loss: 0.10250968486070633\n",
            "Epoch: 78, Train loss: 0.10246264934539795\n",
            "Epoch: 79, Train loss: 0.10241562873125076\n",
            "Epoch: 80, Train loss: 0.10236866027116776\n",
            "Epoch: 81, Train loss: 0.10232172906398773\n",
            "Epoch: 82, Train loss: 0.1022748202085495\n",
            "Epoch: 83, Train loss: 0.10222795605659485\n",
            "Epoch: 84, Train loss: 0.10218112915754318\n",
            "Epoch: 85, Train loss: 0.1021343469619751\n",
            "Epoch: 86, Train loss: 0.1020875796675682\n",
            "Epoch: 87, Train loss: 0.10204087197780609\n",
            "Epoch: 88, Train loss: 0.10199419409036636\n",
            "Epoch: 89, Train loss: 0.10194755345582962\n",
            "Epoch: 90, Train loss: 0.10190093517303467\n",
            "Epoch: 91, Train loss: 0.1018543690443039\n",
            "Epoch: 92, Train loss: 0.10180783271789551\n",
            "Epoch: 93, Train loss: 0.1017613336443901\n",
            "Epoch: 94, Train loss: 0.10171487182378769\n",
            "Epoch: 95, Train loss: 0.10166846215724945\n",
            "Epoch: 96, Train loss: 0.1016220673918724\n",
            "Epoch: 97, Train loss: 0.10157571732997894\n",
            "Epoch: 98, Train loss: 0.10152939707040787\n",
            "Epoch: 99, Train loss: 0.10148312896490097\n",
            "Epoch: 100, Train loss: 0.10143689066171646\n",
            "Finished.\n"
          ]
        }
      ],
      "source": [
        "skipgram.train()\n",
        "skipgram = skipgram.to(device)\n",
        "optim = torch.optim.SGD(skipgram.parameters(), lr=learning_rate)\n",
        "loss_function = nn.CrossEntropyLoss()\n",
        "\n",
        "for e in range(1, num_epochs+1):\n",
        "  for batch in skipgram_loader:\n",
        "    x, y = batch\n",
        "    x, y = x.to(device), y.to(device) # (B, W), (B)\n",
        "    output = skipgram(x)  # (B, V)\n",
        "    optim.zero_grad()\n",
        "    loss = loss_function(output, y)\n",
        "    loss.backward()\n",
        "    optim.step()\n",
        "\n",
        "  print(f\"Epoch: {e}, Train loss: {loss.item()}\")\n",
        "\n",
        "print(\"Finished.\")"
      ]
    },
    {
      "cell_type": "markdown",
      "metadata": {
        "id": "Pi0sbHV6dEOR"
      },
      "source": [
        "### **테스트**"
      ]
    },
    {
      "cell_type": "markdown",
      "metadata": {
        "id": "WGarLWxXeJvz"
      },
      "source": [
        "학습된 각 모델을 이용하여 test 단어들의 word embedding을 확인합니다."
      ]
    },
    {
      "cell_type": "code",
      "execution_count": 21,
      "metadata": {
        "colab": {
          "base_uri": "https://localhost:8080/"
        },
        "id": "4A1wrl-L_RjF",
        "outputId": "307cbe98-9f00-4c65-bda5-6c8e0c242eb2"
      },
      "outputs": [
        {
          "name": "stdout",
          "output_type": "stream",
          "text": [
            "Word: 음식\n",
            "tensor([ 0.6137,  0.0165,  0.8298, -2.0467, -0.3172, -1.1105, -0.6243,  0.8758,\n",
            "         0.0183, -0.1240,  1.5317,  0.6455,  0.5100,  0.3126, -0.5678, -0.5427,\n",
            "        -1.4321,  0.5803,  1.0586, -0.9369, -1.3396, -1.0236, -0.6169,  1.4940,\n",
            "        -0.9449, -0.1919,  0.2925,  1.5531, -0.9174,  1.6485, -1.6933,  0.1857,\n",
            "         0.8672,  1.0800,  0.1348, -0.2363,  1.4050,  0.9338,  0.7238, -1.3915,\n",
            "        -0.0224, -0.7966,  0.6484, -0.3718, -0.7885, -0.8597,  0.6968, -1.3038,\n",
            "         0.8643,  0.1543, -0.2653, -0.8500, -0.5220,  0.3852,  0.6416, -0.4125,\n",
            "        -1.8720, -1.2459, -0.5235, -1.6566,  0.0941,  0.0541,  0.9666, -1.6679,\n",
            "         0.9108, -0.2209,  2.0907, -0.1292, -0.8284,  0.6871, -0.6615, -0.8287,\n",
            "        -0.1710, -0.4532,  1.3374,  0.0923, -0.6336, -0.4036, -1.0878, -1.6273,\n",
            "        -3.2484, -0.5263,  1.7147, -0.3433, -0.8934,  0.0881, -0.2368, -1.2966,\n",
            "        -1.7965, -2.0081, -1.5494,  0.8408, -0.0513,  0.1878,  0.4049,  0.4124,\n",
            "         0.4369,  1.9781,  1.6093,  0.5341, -0.7881,  0.8589,  0.0106, -0.1958,\n",
            "        -0.7441, -1.0324, -1.3907, -0.5143,  1.3143, -1.1673, -1.1753, -1.2541,\n",
            "         2.0241, -0.8701, -1.6489,  0.6533,  0.3970,  0.0502,  0.7416,  0.0840,\n",
            "         1.3849,  0.3495,  1.4859, -0.1458, -2.1163,  1.5856,  0.4616,  0.1297,\n",
            "         0.8227, -0.1087, -0.6302, -0.3188, -0.8670, -1.1372,  0.4105,  0.4488,\n",
            "         0.9449,  0.0972,  0.3794,  0.3283, -1.2472,  1.5779,  1.1291,  0.1061,\n",
            "        -0.1059, -0.8125,  1.1652,  1.6880,  0.0745,  0.2724, -2.2554,  0.2359,\n",
            "         0.7075, -0.8511,  1.0817, -0.8407,  0.4005, -0.7570,  0.4594,  0.7653,\n",
            "        -0.4744,  0.4183,  0.3411, -0.2164, -0.3006,  0.5339,  0.7732,  0.7101,\n",
            "        -1.9039,  0.4890,  0.4396, -0.6622, -0.4394,  0.1022,  0.8886,  0.2802,\n",
            "        -1.1657,  0.5083, -0.1756,  0.6949, -0.5069, -0.7042,  0.7037,  0.6673,\n",
            "         0.0488, -0.0948, -1.8067, -0.5353,  0.0247,  0.0217,  1.2227, -1.2216,\n",
            "        -0.6668, -1.1608,  0.1769, -0.5260,  2.0386, -0.3685,  0.2696,  0.5639,\n",
            "        -0.2632,  0.4772, -0.7333,  0.8845,  1.4335, -1.3316,  0.1258,  0.4746,\n",
            "         0.3587, -0.6994, -0.1306,  1.1870, -0.5147,  2.4005, -1.0269,  0.9810,\n",
            "         1.4604, -0.1462, -0.5476, -0.3877, -1.6893, -1.6080, -0.7262,  1.4779,\n",
            "         1.3493,  0.6661, -0.4470, -1.8777, -1.0022, -0.9145, -0.6034,  0.4985,\n",
            "        -0.3920, -0.4672, -0.7664, -1.1216, -0.5351, -0.9109, -0.5501,  0.6517,\n",
            "         0.5283, -0.8040, -1.3232,  0.0678,  0.1124, -0.7664, -1.9306,  0.0345,\n",
            "         0.5375, -0.3456, -1.2939, -0.4611,  0.0261,  0.0977,  0.8983, -0.3864],\n",
            "       device='cuda:0', grad_fn=<SqueezeBackward1>)\n",
            "Word: 맛\n",
            "tensor([-2.1240e+00,  8.2732e-01,  1.7918e-02, -1.0979e+00, -1.2407e-01,\n",
            "        -1.9391e+00, -5.9638e-01, -2.5894e-01, -3.1012e-01, -1.4235e+00,\n",
            "         7.3706e-01,  3.3778e-01, -1.4094e-01,  1.1197e+00, -7.4082e-02,\n",
            "        -1.0553e+00, -8.2217e-01,  1.2916e+00,  1.5835e+00, -6.3064e-01,\n",
            "         1.5334e+00,  9.6372e-01, -3.4725e-01, -9.9748e-01,  4.0763e-01,\n",
            "         1.1349e-01,  6.2216e-02, -2.5067e-01,  4.9959e-01, -1.3798e+00,\n",
            "         1.1469e+00, -6.5721e-01,  7.1239e-01,  8.4878e-01, -1.1259e+00,\n",
            "         3.3580e-01, -1.9613e+00, -9.6627e-01, -1.2262e+00, -1.0207e+00,\n",
            "         1.0057e+00,  1.4017e+00, -4.2859e-01,  4.5150e-01,  1.0569e-01,\n",
            "         1.6350e-01, -1.2307e+00,  3.4713e-01, -6.5212e-01, -5.7496e-01,\n",
            "        -8.9406e-01, -1.3880e+00, -1.4121e-01,  1.6707e-01, -3.2277e-01,\n",
            "        -5.6924e-01, -1.8737e-01,  5.3355e-02,  6.4101e-02, -9.3505e-01,\n",
            "        -1.5934e+00,  4.8138e-01, -3.4950e-01, -8.1282e-01, -8.1789e-01,\n",
            "         1.1579e+00,  1.7934e+00, -7.9346e-01, -9.7323e-01,  5.3313e-01,\n",
            "        -8.3886e-03, -1.7308e+00,  4.3726e-01, -1.4091e+00,  8.9808e-01,\n",
            "         1.9223e+00, -2.1783e+00,  1.3239e+00, -7.1182e-02, -3.2076e-01,\n",
            "         5.5703e-01,  4.0492e-01, -2.1659e-01,  3.4998e-02, -1.0907e+00,\n",
            "        -2.0037e-01, -1.5306e+00, -8.7691e-01,  5.8732e-01, -2.4058e-01,\n",
            "         2.0743e+00, -1.4204e+00, -6.1719e-01,  8.2781e-01,  1.4542e+00,\n",
            "         1.6809e+00, -6.1726e-01,  9.6785e-02, -7.4889e-01, -7.2713e-01,\n",
            "        -1.0379e+00,  1.7861e-01, -1.3897e+00, -1.2084e+00,  2.3384e-02,\n",
            "        -1.1835e+00,  9.2214e-01,  7.6134e-02,  6.5755e-01, -1.8550e+00,\n",
            "         1.9894e-01,  8.6082e-01, -4.2411e-02, -1.9937e+00,  9.9559e-01,\n",
            "        -6.2979e-01, -8.3662e-01, -2.0083e-01,  2.0132e+00, -7.6915e-01,\n",
            "         1.9782e+00, -1.3592e+00, -5.1948e-02,  1.3422e+00, -3.5771e-01,\n",
            "        -6.5946e-01,  9.0023e-01, -7.8837e-01, -1.3460e+00, -1.0589e+00,\n",
            "         1.2965e-01,  1.2977e+00, -9.1334e-01, -6.2354e-01, -9.9517e-01,\n",
            "        -5.8877e-02, -3.7268e-01, -7.5082e-01,  4.5097e-01, -2.7384e-01,\n",
            "         2.1311e-01, -9.6999e-02, -2.0241e-01, -1.1096e+00, -7.1646e-01,\n",
            "        -4.8671e-01,  1.6604e+00, -1.6036e-01,  7.8777e-01,  4.3680e-02,\n",
            "        -6.6402e-01, -2.1949e+00,  1.0432e+00, -1.0024e+00, -2.2164e+00,\n",
            "        -7.5752e-01, -1.3890e-01, -5.1542e-01, -6.7231e-04, -1.2119e+00,\n",
            "         6.5688e-01, -8.0030e-01,  1.2629e+00, -5.7466e-01, -6.6437e-01,\n",
            "        -1.5500e+00,  1.0262e+00,  2.1518e+00, -1.6168e+00, -1.4338e+00,\n",
            "         1.8544e+00, -2.4672e+00,  4.8174e-02,  1.7009e+00,  1.6140e+00,\n",
            "        -1.7017e+00, -1.2539e+00, -9.1603e-02,  2.2322e-01, -3.5420e-01,\n",
            "         6.7977e-01,  4.4126e-01,  1.1206e+00, -5.8048e-01, -8.7514e-01,\n",
            "         1.9378e-01, -1.4008e-01, -1.2125e+00,  7.2804e-01,  8.1618e-01,\n",
            "         8.2049e-02,  1.4539e+00, -1.5322e+00, -6.9378e-01,  1.5270e+00,\n",
            "         1.2920e+00,  1.6570e+00, -1.7982e+00, -2.0062e+00,  9.6620e-01,\n",
            "         2.8527e+00, -1.0944e-01,  1.9310e+00,  2.2597e-01, -5.9334e-01,\n",
            "        -5.4936e-01, -9.2661e-01, -1.1318e+00,  1.6283e+00, -1.7199e+00,\n",
            "        -3.2269e-01,  2.5210e+00,  1.3989e+00,  8.3680e-02, -1.3915e+00,\n",
            "        -1.7365e+00,  6.7613e-01,  2.4392e+00,  5.6770e-01, -1.0172e+00,\n",
            "         6.2360e-01, -1.0923e+00, -9.9615e-01, -4.5606e-01,  9.1637e-01,\n",
            "         7.7792e-01, -6.7908e-01, -5.8544e-01, -9.7155e-01,  1.1615e+00,\n",
            "         1.4264e+00,  5.0005e-01, -9.3828e-01, -8.5397e-01,  1.9352e-01,\n",
            "         4.0713e-01,  4.9972e-01, -1.5271e-01,  8.3353e-01,  8.5754e-01,\n",
            "        -1.2329e+00,  1.4031e+00, -4.7774e-02, -2.5644e+00, -5.4934e-01,\n",
            "        -2.1854e-01,  7.0067e-02, -4.0703e-01, -2.8495e-01,  9.1736e-01,\n",
            "        -7.4836e-01, -6.6731e-01,  2.5577e-02, -2.3559e-01, -6.7977e-02,\n",
            "         1.3727e+00], device='cuda:0', grad_fn=<SqueezeBackward1>)\n",
            "Word: 서비스\n",
            "tensor([-8.5968e-02, -7.3297e-01, -3.4777e-01,  1.0096e+00,  1.0474e+00,\n",
            "         6.7496e-01,  2.6308e-01, -1.8334e+00, -3.1817e-02,  4.2381e-01,\n",
            "         1.9675e-01, -1.4309e+00,  2.8891e-01,  7.9531e-01,  1.0192e-01,\n",
            "         1.4466e+00, -6.3074e-01, -7.3361e-01, -1.1603e+00, -3.1386e-01,\n",
            "        -8.4851e-01, -4.8899e-01,  2.6804e-01,  1.3746e+00,  2.5798e-01,\n",
            "         1.7704e+00, -8.6258e-01,  5.9778e-02,  6.3988e-01, -3.2961e-01,\n",
            "         1.3964e+00,  1.9784e-01,  5.4942e-01,  1.6521e+00, -4.8885e-01,\n",
            "        -3.2629e-01, -1.6377e-01, -5.8424e-02, -7.5858e-01,  3.4960e-01,\n",
            "        -6.1247e-01, -1.0038e-01,  6.6360e-01, -1.1484e+00,  2.2194e+00,\n",
            "        -1.2621e+00,  7.3516e-01, -1.6329e-01, -8.0773e-01,  7.9079e-01,\n",
            "         1.0709e-01,  6.7378e-01, -6.3946e-02, -1.3742e-01,  6.6041e-01,\n",
            "        -1.3366e+00,  3.3395e-01, -2.8362e+00,  1.4201e+00,  4.5694e-01,\n",
            "        -1.0413e+00,  1.0522e+00,  4.8160e-01,  1.4124e+00,  2.3789e-01,\n",
            "         1.1656e-01,  4.6858e-01,  9.7029e-01, -1.6872e-01,  6.4897e-01,\n",
            "        -1.9148e+00,  6.0901e-01, -7.8340e-01,  8.6632e-01, -7.7074e-02,\n",
            "         3.1291e-01,  2.9328e-01, -1.8730e+00,  2.4355e-01,  1.2482e+00,\n",
            "        -2.6753e-01,  2.2199e-01,  1.7904e+00, -1.3584e+00,  3.9066e-01,\n",
            "        -9.6729e-01, -7.8017e-01, -4.9718e-01,  1.1959e+00, -7.0543e-01,\n",
            "        -1.2255e-01,  1.2957e-01,  4.9315e-01, -3.3919e-01, -1.0513e+00,\n",
            "         3.7321e-01, -9.6386e-01,  6.0662e-01,  1.8604e-01, -7.4471e-01,\n",
            "         1.9276e+00, -1.2838e-02, -9.3712e-01, -1.8948e+00, -1.4911e+00,\n",
            "        -8.4246e-01,  1.6812e-01,  2.1647e+00, -1.2595e+00, -4.6201e-01,\n",
            "         1.8196e+00,  1.0421e+00,  5.3195e-02,  4.3889e-01,  2.0431e+00,\n",
            "        -9.6698e-01,  7.1979e-01, -2.9954e-01, -7.1185e-01,  1.6483e-01,\n",
            "         1.3956e-01,  1.4850e-01,  2.8658e-01,  9.2029e-01,  7.9213e-01,\n",
            "        -1.0789e+00, -2.1398e-01, -1.0457e+00, -2.6982e+00, -7.3418e-01,\n",
            "         9.0550e-01, -1.2661e+00, -2.6806e-01, -3.6254e-01, -1.2006e+00,\n",
            "        -4.1524e-01, -9.2649e-01, -2.0101e-01,  3.4963e-02,  6.3608e-01,\n",
            "         2.1874e-01, -1.3444e+00, -2.5336e-02, -2.3895e+00,  7.0293e-01,\n",
            "         1.5220e+00,  2.8065e+00,  8.3264e-01, -3.5461e-01,  3.5468e-02,\n",
            "        -9.1931e-01, -7.7471e-01, -9.5185e-01, -4.4652e-01,  1.0432e+00,\n",
            "        -1.4267e+00,  6.7729e-01, -1.0522e+00, -8.0435e-01, -1.1500e-01,\n",
            "        -4.1650e-01,  2.1415e+00,  1.0974e+00,  1.1763e+00,  1.2505e+00,\n",
            "        -7.1997e-01, -1.6858e+00,  6.8264e-01,  1.3112e+00, -1.0275e+00,\n",
            "        -6.5436e-02,  4.9156e-01,  2.4351e-01, -3.9692e-01,  1.8158e+00,\n",
            "         2.3915e-01,  2.4701e-02, -4.6010e-01,  4.1858e-01,  7.7676e-01,\n",
            "        -2.5940e-01, -1.7496e-01, -6.5568e-01,  5.2140e-01, -6.2367e-01,\n",
            "        -1.1492e-01, -1.7796e-01,  2.2452e+00,  2.1696e+00,  1.0529e+00,\n",
            "         1.0588e-01, -3.5835e-01,  1.8325e+00, -4.9086e-01,  1.4030e-02,\n",
            "        -6.8945e-01,  8.2734e-02, -1.0385e+00,  3.3112e-01,  1.6184e-01,\n",
            "        -1.6643e-01,  4.8138e-01, -1.0759e+00,  1.3335e+00, -4.8070e-01,\n",
            "        -8.2150e-01,  1.2402e+00, -3.1780e-01, -7.9301e-02,  5.6427e-01,\n",
            "         3.2904e-01,  3.3569e-01, -9.7398e-01,  2.9983e-01,  1.4897e+00,\n",
            "        -3.2856e-01, -8.3972e-02,  7.8480e-04, -6.4681e-01, -1.1160e+00,\n",
            "         5.6445e-01,  2.4122e-01,  2.1989e-01,  5.2791e-01, -1.4902e-01,\n",
            "        -6.5000e-01, -3.4826e-01,  1.7308e-01,  3.9135e-01,  6.9021e-01,\n",
            "        -5.6997e-01, -2.7139e-01,  3.2364e-01, -8.9543e-01,  6.0011e-01,\n",
            "        -4.9867e-01, -6.5034e-01, -9.9673e-01,  3.5329e-01, -8.3186e-01,\n",
            "         9.2552e-01, -2.2980e+00, -1.6478e-01, -2.6037e+00,  1.6559e-01,\n",
            "         2.2822e-01, -5.3363e-01,  1.6224e+00, -7.3037e-01, -7.8427e-01,\n",
            "         1.4352e-01, -1.2115e+00,  8.8708e-01,  4.3722e-01,  5.9837e-01,\n",
            "         5.4189e-01], device='cuda:0', grad_fn=<SqueezeBackward1>)\n",
            "Word: 위생\n",
            "tensor([-0.6482,  1.7778, -0.7353, -0.1123, -0.4965,  2.0999,  1.7770,  0.3437,\n",
            "        -1.0749,  0.0559,  1.3520,  1.1198,  1.5709, -1.9882,  0.4884, -0.3107,\n",
            "        -0.1021, -0.9547,  0.2291, -0.1568, -0.7947, -0.0256,  0.4660, -1.8114,\n",
            "         0.3917,  1.1467,  0.2101,  0.4129,  0.9214, -1.4423, -0.4117,  0.1979,\n",
            "        -0.6173,  0.2443, -0.5008, -1.3393, -0.2420, -1.6273,  1.3929,  0.1275,\n",
            "        -0.5759, -1.0909,  1.4065,  0.7249, -1.6041, -1.3123,  2.1027,  1.3227,\n",
            "        -0.6918,  0.8384,  0.7937, -1.1665,  1.5423, -1.2847, -0.5726,  0.9166,\n",
            "         0.6451, -0.1024,  0.7194,  0.0155, -0.7803, -1.2962, -0.9699, -1.1469,\n",
            "        -0.2037, -0.5270, -1.2181, -0.1862, -0.5120,  1.6458, -0.9229,  0.0174,\n",
            "         0.5867,  1.1150,  0.7490, -1.3028,  0.5826,  0.1179, -1.2091,  1.7857,\n",
            "         0.6918,  0.5410,  1.1332,  1.5180, -0.6445,  1.6673, -0.5228, -0.7024,\n",
            "        -0.1277,  1.3489,  0.0722,  1.2215,  0.4739,  1.2317, -0.2857,  0.3085,\n",
            "        -0.7968, -0.7251,  0.1902,  0.3582, -0.1818, -0.0527, -1.0029,  0.2816,\n",
            "        -0.4590,  2.0134, -0.1198, -0.9217, -0.5849, -0.7147,  3.1092, -1.2943,\n",
            "        -1.6180, -1.0530,  0.8624, -0.1877, -0.1067, -0.6104,  0.4078, -2.4180,\n",
            "         1.4195,  0.4508,  0.2735, -0.5968,  0.2773,  0.7126,  1.0461, -1.2787,\n",
            "        -1.3217,  0.0346,  0.5499, -1.1059, -1.1651, -1.1442,  0.8563,  0.9450,\n",
            "         0.1149,  1.0988, -1.1593,  0.8186,  0.3950,  1.6804,  0.2124, -0.3287,\n",
            "         1.9166, -0.3001,  0.7636, -1.2965,  1.8849, -0.2587, -0.2948,  0.8465,\n",
            "        -0.4782, -1.2899, -0.6314,  0.7748, -0.6527,  0.2858,  1.6771, -0.0531,\n",
            "         0.0055,  0.4331, -0.8013,  1.0993, -0.7516, -0.3491,  0.9691,  1.8500,\n",
            "        -0.0872, -0.2170, -0.8117,  0.0716,  1.0839, -0.1410,  1.4023, -0.1304,\n",
            "        -1.8661,  0.6748,  0.7089, -0.6989, -0.2405,  1.1768, -1.1847, -1.4557,\n",
            "         1.5480,  0.4085,  0.4505, -0.5568,  0.2833, -0.5090,  0.7801, -1.5473,\n",
            "        -0.6752, -2.2107,  0.1481, -0.7475,  0.6873,  0.2297,  0.0564,  0.5858,\n",
            "        -1.4217, -0.2707, -1.5177, -0.0400, -0.8695,  1.4614,  0.5602, -1.0349,\n",
            "        -0.9032,  0.9008,  0.4742,  0.8888, -0.0259, -3.2501,  0.8784, -1.7149,\n",
            "         0.8535,  0.2570,  0.1297, -0.8892, -0.3643,  0.1304,  1.6521,  0.7730,\n",
            "         0.4762, -0.5360, -0.4222,  1.0829,  0.7437,  0.7560, -0.0275, -0.2817,\n",
            "        -0.0833, -1.0625,  0.6315,  1.0247, -1.0172, -1.0482,  0.3127,  1.3740,\n",
            "        -0.1685,  1.8932, -0.5391,  0.3724, -0.3282, -1.5816, -2.3369,  0.3528,\n",
            "        -0.6165, -0.9870,  1.3458,  0.1912,  0.1804,  0.9952, -0.3128,  0.3921],\n",
            "       device='cuda:0', grad_fn=<SqueezeBackward1>)\n",
            "Word: 가격\n",
            "tensor([-2.6285e-01, -7.2507e-01,  3.0684e-01,  5.3950e-01,  9.6288e-01,\n",
            "         5.0713e-01, -8.7504e-01,  1.3968e+00,  6.0168e-02, -1.2088e+00,\n",
            "        -1.8001e-01, -4.3580e-01,  7.3857e-01,  8.9054e-01, -1.0860e+00,\n",
            "        -9.7310e-01,  1.5127e-01,  4.7019e-01, -1.6873e+00,  1.9799e+00,\n",
            "        -1.3773e+00,  1.1327e+00,  1.3061e+00, -4.3452e-01,  1.5086e+00,\n",
            "         1.0849e-01, -2.0172e+00,  6.2439e-01,  6.1511e-01,  8.0991e-01,\n",
            "        -7.2415e-01, -7.5288e-01,  1.2426e+00, -7.9632e-01, -1.3608e-01,\n",
            "        -1.8896e+00, -2.2060e+00, -1.4745e-01, -9.4800e-01,  1.3212e+00,\n",
            "         1.6141e+00,  6.1866e-01,  1.1857e+00,  1.4353e-01, -2.0172e-02,\n",
            "         1.1814e+00,  5.5268e-01, -1.6884e-01, -3.1382e-02,  9.1686e-01,\n",
            "         1.8271e-01, -1.6119e+00,  2.1856e-01, -1.8203e-01,  2.3987e-01,\n",
            "        -5.0880e-01,  1.6695e+00, -2.4951e+00,  1.5783e+00, -3.6265e-01,\n",
            "        -3.4756e-03, -1.8088e+00, -9.7602e-01, -6.1024e-01, -5.8282e-01,\n",
            "         2.2062e+00, -2.4523e-01, -6.0393e-02,  1.3753e+00, -1.6449e+00,\n",
            "        -8.5657e-01,  6.0541e-01, -1.4112e+00,  1.1879e+00,  1.1807e+00,\n",
            "         7.0320e-01,  1.2238e+00,  6.0033e-01, -1.2685e+00, -1.1487e+00,\n",
            "        -9.1392e-02, -1.2204e+00, -4.9535e-01, -9.6523e-01, -8.9777e-01,\n",
            "        -1.5447e-01,  1.0727e+00, -6.2004e-01,  1.4647e-01,  1.6020e+00,\n",
            "         4.4372e-01,  7.1593e-01, -6.0374e-01, -6.7913e-01, -8.3127e-01,\n",
            "         2.2064e+00, -1.3282e+00, -4.1860e-01,  3.8462e-01,  1.7345e+00,\n",
            "        -6.9256e-01,  7.6559e-01,  2.5775e-01, -5.3712e-02, -1.8742e-01,\n",
            "         1.0502e+00,  3.2336e-01,  2.1485e-01,  1.3429e+00,  6.2699e-01,\n",
            "        -2.0744e-02, -1.6751e+00, -1.7362e+00,  8.5298e-01, -1.2595e+00,\n",
            "         4.8617e-01,  5.9501e-01, -1.1494e-01,  2.4752e-01,  5.7028e-01,\n",
            "        -6.1242e-01,  1.1088e-01,  7.4784e-01,  5.6982e-01, -1.1192e-01,\n",
            "         1.8257e+00, -7.9163e-01, -5.0065e-01, -1.5506e+00,  6.9698e-01,\n",
            "        -1.3247e-01, -1.0620e+00,  3.3729e-01, -2.2445e+00,  3.9816e-01,\n",
            "        -5.8818e-01,  2.2240e-01, -3.4890e-01,  2.2952e-01, -4.9619e-01,\n",
            "        -5.5046e-01, -1.0758e+00,  1.2916e+00,  5.5202e-01, -9.0427e-02,\n",
            "         1.6181e+00, -1.4037e+00, -1.0677e+00,  1.0299e+00,  1.1091e+00,\n",
            "        -1.2944e+00,  1.3561e+00,  6.3874e-01,  6.6898e-01,  5.9445e-02,\n",
            "        -3.3497e-01,  5.5516e-01, -4.9305e-01, -1.5168e+00,  9.6250e-03,\n",
            "        -5.6918e-01, -2.8431e-01, -3.7212e-01, -6.3497e-01, -1.5732e+00,\n",
            "        -2.4477e+00,  5.5090e-01, -1.9568e-01,  1.2701e+00,  3.5707e-01,\n",
            "         1.6758e+00, -4.7834e-02, -3.8798e-01, -1.3320e+00, -1.0727e+00,\n",
            "         2.1153e+00, -4.4319e-01, -1.5706e+00,  7.5737e-01, -5.9835e-01,\n",
            "        -1.6769e+00,  2.4271e+00, -2.0587e-01, -4.2598e-01, -2.1526e+00,\n",
            "         7.9462e-01,  2.7046e-01, -5.8752e-01,  9.9489e-02, -3.3082e-01,\n",
            "         5.8487e-01,  1.5147e+00, -1.2952e+00, -1.7133e+00,  6.0294e-01,\n",
            "        -4.8758e-01,  3.6997e-01,  8.3268e-01, -1.8734e+00, -1.1106e+00,\n",
            "         8.4596e-01, -7.3088e-01,  8.4241e-01, -2.0957e-01,  1.6971e+00,\n",
            "        -9.5520e-01, -7.5267e-01,  3.3071e-01,  7.8518e-01, -2.7084e-01,\n",
            "        -7.8324e-01,  1.1003e+00,  7.5813e-01, -5.1803e-02,  4.4265e-02,\n",
            "         1.0451e+00, -1.1567e+00,  6.5144e-01, -1.4047e+00,  3.6372e-01,\n",
            "        -3.5869e-01,  1.2977e+00, -1.9331e+00, -1.0699e+00,  6.5681e-01,\n",
            "        -7.1099e-01, -1.4505e-01, -5.0328e-01, -2.3220e-01,  6.9782e-01,\n",
            "         4.8545e-01,  5.2016e-01,  9.1633e-01,  5.4842e-01, -7.8055e-01,\n",
            "        -1.0417e+00, -1.7502e+00,  8.5943e-02, -1.6616e+00, -5.8656e-01,\n",
            "         7.8323e-01,  4.1818e-01, -5.7888e-01, -1.0752e-03, -1.0210e-01,\n",
            "        -1.2794e-02, -5.9881e-02,  1.7011e+00,  6.9426e-01, -4.9590e-01,\n",
            "        -1.9826e+00,  5.3532e-01, -1.0573e+00,  2.0013e+00,  7.4236e-01,\n",
            "        -1.6941e+00], device='cuda:0', grad_fn=<SqueezeBackward1>)\n"
          ]
        }
      ],
      "source": [
        "for word in test_words:\n",
        "  input_id = torch.LongTensor([w2i[word]]).to(device)\n",
        "  emb = cbow.embedding(input_id)\n",
        "\n",
        "  print(f\"Word: {word}\")\n",
        "  print(emb.squeeze(0))"
      ]
    },
    {
      "cell_type": "code",
      "execution_count": 22,
      "metadata": {
        "colab": {
          "base_uri": "https://localhost:8080/"
        },
        "id": "_l5cPRZZe-R4",
        "outputId": "0f685cf6-4d47-433b-b4a6-8f0774285b88"
      },
      "outputs": [
        {
          "name": "stdout",
          "output_type": "stream",
          "text": [
            "Word: 음식\n",
            "tensor(2.4417, device='cuda:0', grad_fn=<UnbindBackward0>)\n",
            "Word: 맛\n",
            "tensor(2.5314, device='cuda:0', grad_fn=<UnbindBackward0>)\n",
            "Word: 서비스\n",
            "tensor(2.1860, device='cuda:0', grad_fn=<UnbindBackward0>)\n",
            "Word: 위생\n",
            "tensor(2.3602, device='cuda:0', grad_fn=<UnbindBackward0>)\n",
            "Word: 가격\n",
            "tensor(2.6394, device='cuda:0', grad_fn=<UnbindBackward0>)\n"
          ]
        }
      ],
      "source": [
        "for word in test_words:\n",
        "  input_id = torch.LongTensor([w2i[word]]).to(device)\n",
        "  emb = skipgram.embedding(input_id)\n",
        "\n",
        "  print(f\"Word: {word}\")\n",
        "  print(max(emb.squeeze(0)))"
      ]
    },
    {
      "cell_type": "code",
      "execution_count": 23,
      "metadata": {
        "colab": {
          "base_uri": "https://localhost:8080/"
        },
        "id": "T4mv-fDF29Ha",
        "outputId": "5ee7abfb-8b9a-44a0-ae74-fc731f049945"
      },
      "outputs": [
        {
          "data": {
            "text/plain": [
              "['음식', '맛', '서비스', '위생', '가격']"
            ]
          },
          "execution_count": 23,
          "metadata": {},
          "output_type": "execute_result"
        }
      ],
      "source": [
        "test_words"
      ]
    },
    {
      "cell_type": "code",
      "execution_count": 24,
      "metadata": {
        "id": "1OBlu8O63CXx"
      },
      "outputs": [],
      "source": [
        "def most_similar(word,top_k=5):\n",
        "  input_id = torch.LongTensor([w2i[word]]).to(device)\n",
        "  input_emb = skipgram.embedding(input_id)\n",
        "  score=torch.matmul(input_emb,skipgram.embedding.weight.transpose(1,0)).view(-1)\n",
        "\n",
        "  _,top_k_ids=torch.topk(score,top_k)\n",
        "\n",
        "  return [i2w[word_id.item()] for word_id in top_k_ids][1:]"
      ]
    },
    {
      "cell_type": "code",
      "execution_count": 25,
      "metadata": {
        "colab": {
          "base_uri": "https://localhost:8080/"
        },
        "id": "c75HQoLn2_Ty",
        "outputId": "a9fb8d1c-11d0-4289-8a31-85382eb78f6a"
      },
      "outputs": [
        {
          "data": {
            "text/plain": [
              "['분위기', '보단', '짜다', '좋다']"
            ]
          },
          "execution_count": 25,
          "metadata": {},
          "output_type": "execute_result"
        }
      ],
      "source": [
        "most_similar(\"가격\")"
      ]
    },
    {
      "cell_type": "markdown",
      "metadata": {
        "id": "4YvYEGNr2IiR"
      },
      "source": [
        "## Word2Vec 시각화"
      ]
    },
    {
      "cell_type": "code",
      "execution_count": 26,
      "metadata": {
        "id": "rcBVrabH2IiR"
      },
      "outputs": [],
      "source": [
        "from sklearn.decomposition import PCA"
      ]
    },
    {
      "cell_type": "code",
      "execution_count": 27,
      "metadata": {
        "id": "c8XdtYVf8Ydg"
      },
      "outputs": [],
      "source": [
        "import matplotlib.pyplot as plt\n",
        "# matplotlib 패키지 한글 깨짐 처리 시작\n",
        "plt.rc('font', family='NanumBarunGothic') \n",
        "# plt.rc('font', family='AppleGothic') #맥"
      ]
    },
    {
      "cell_type": "code",
      "execution_count": 28,
      "metadata": {},
      "outputs": [
        {
          "data": {
            "text/plain": [
              "(60, 256)"
            ]
          },
          "execution_count": 28,
          "metadata": {},
          "output_type": "execute_result"
        }
      ],
      "source": [
        "skipgram.embedding.weight.data.cpu().numpy().shape"
      ]
    },
    {
      "cell_type": "code",
      "execution_count": 29,
      "metadata": {},
      "outputs": [
        {
          "data": {
            "text/plain": [
              "(60, 256)"
            ]
          },
          "execution_count": 29,
          "metadata": {},
          "output_type": "execute_result"
        }
      ],
      "source": [
        "cbow.embedding.weight.data.cpu().numpy().shape"
      ]
    },
    {
      "cell_type": "code",
      "execution_count": 30,
      "metadata": {
        "id": "hEypFpsw7K8q"
      },
      "outputs": [],
      "source": [
        "pca=PCA(n_components=2)"
      ]
    },
    {
      "cell_type": "code",
      "execution_count": 31,
      "metadata": {
        "colab": {
          "base_uri": "https://localhost:8080/",
          "height": 1000
        },
        "id": "8KKgYYTa7Uh3",
        "outputId": "08404678-8e1d-467a-c590-143bb857acab"
      },
      "outputs": [
        {
          "name": "stderr",
          "output_type": "stream",
          "text": [
            "/home/koowater/.local/lib/python3.8/site-packages/IPython/core/pylabtools.py:151: UserWarning: Glyph 8722 (\\N{MINUS SIGN}) missing from current font.\n",
            "  fig.canvas.print_figure(bytes_io, **kw)\n"
          ]
        },
        {
          "data": {
            "image/png": "[encoded data removed]",
            "text/plain": [
              "<Figure size 1080x1080 with 1 Axes>"
            ]
          },
          "metadata": {
            "needs_background": "light"
          },
          "output_type": "display_data"
        }
      ],
      "source": [
        "pc_weight=pca.fit_transform(skipgram.embedding.weight.data.cpu().numpy())\n",
        "plt.figure(figsize=(15,15))\n",
        "for word_id,(x_coordinate,y_coordinate) in enumerate(pc_weight):\n",
        "  plt.scatter(x_coordinate,y_coordinate,color=\"blue\")\n",
        "  plt.annotate(i2w[word_id], (x_coordinate+0.1, y_coordinate))"
      ]
    },
    {
      "cell_type": "code",
      "execution_count": 32,
      "metadata": {},
      "outputs": [
        {
          "name": "stderr",
          "output_type": "stream",
          "text": [
            "/home/koowater/.local/lib/python3.8/site-packages/IPython/core/pylabtools.py:151: UserWarning: Glyph 8722 (\\N{MINUS SIGN}) missing from current font.\n",
            "  fig.canvas.print_figure(bytes_io, **kw)\n"
          ]
        },
        {
          "data": {
            "image/png": "[encoded data removed]",
            "text/plain": [
              "<Figure size 1080x1080 with 1 Axes>"
            ]
          },
          "metadata": {
            "needs_background": "light"
          },
          "output_type": "display_data"
        }
      ],
      "source": [
        "pc_weight=pca.fit_transform(cbow.embedding.weight.data.cpu().numpy())\n",
        "plt.figure(figsize=(15,15))\n",
        "for word_id,(x_coordinate,y_coordinate) in enumerate(pc_weight):\n",
        "  plt.scatter(x_coordinate,y_coordinate,color=\"blue\")\n",
        "  plt.annotate(i2w[word_id], (x_coordinate+0.1, y_coordinate))"
      ]
    },
    {
      "cell_type": "code",
      "execution_count": 64,
      "metadata": {
        "id": "PX4adG7B7qdV"
      },
      "outputs": [],
      "source": [
        "from gensim.models import Word2Vec\n",
        "\n",
        "model = Word2Vec(sentences=train_tokenized, vector_size=100, window=2, min_count=1, workers=4, sg=0)"
      ]
    },
    {
      "cell_type": "code",
      "execution_count": 73,
      "metadata": {},
      "outputs": [
        {
          "name": "stdout",
          "output_type": "stream",
          "text": [
            "[('하다', 0.252762109041214), ('최고', 0.2012740522623062), ('는', 0.1956762671470642)]\n"
          ]
        }
      ],
      "source": [
        "print(model.wv.most_similar('너무')[:3])"
      ]
    },
    {
      "cell_type": "code",
      "execution_count": 66,
      "metadata": {},
      "outputs": [
        {
          "data": {
            "text/plain": [
              "60"
            ]
          },
          "execution_count": 66,
          "metadata": {},
          "output_type": "execute_result"
        }
      ],
      "source": []
    },
    {
      "cell_type": "code",
      "execution_count": null,
      "metadata": {},
      "outputs": [],
      "source": []
    },
    {
      "cell_type": "code",
      "execution_count": null,
      "metadata": {},
      "outputs": [],
      "source": []
    }
  ],
  "metadata": {
    "accelerator": "GPU",
    "colab": {
      "collapsed_sections": [],
      "name": "[HW26_Answer]Word2Vec.ipynb의 사본",
      "provenance": []
    },
    "kernelspec": {
      "display_name": "Python 3.8.10 64-bit",
      "language": "python",
      "name": "python3"
    },
    "language_info": {
      "codemirror_mode": {
        "name": "ipython",
        "version": 3
      },
      "file_extension": ".py",
      "mimetype": "text/x-python",
      "name": "python",
      "nbconvert_exporter": "python",
      "pygments_lexer": "ipython3",
      "version": "3.8.10"
    },
    "vscode": {
      "interpreter": {
        "hash": "916dbcbb3f70747c44a77c7bcd40155683ae19c65e1c03b4aa3499c5328201f1"
      }
    }
  },
  "nbformat": 4,
  "nbformat_minor": 0
}
