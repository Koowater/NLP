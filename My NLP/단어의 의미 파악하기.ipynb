{
 "cells": [
  {
   "cell_type": "markdown",
   "metadata": {},
   "source": [
    "# 단어의 의미 파악하기\n",
    "\n",
    "딥러닝이 사용되기 이전에 어떤 방식으로 단어의 의미를 파악했는지 알아보자.\n",
    "\n",
    "## 시소러스(Thesaurus)\n",
    "\n",
    "> 정의: 단어를 의미에 따라 분류·배열한 일종의 유의어 사전\n",
    "\n",
    "시소러스는 단어 사이의 상하 관계나 포함 관계를 고려하여 정의할 수도 있다. (이 경우엔 그래프로 표현)\n",
    "\n",
    "단점: 시대 변화에 대응이 어렵다. 많은 인력이 필요하다. 단어의 미묘한 차이를 표현할 수 없다.\n",
    "\n",
    "WordNet: 1985년부터 프린스턴 대학교에서 구축하기 시작한 가장 유명한 시소러스\n",
    "\n",
    "## 통계 기반 기법\n",
    "\n",
    "- **말뭉치(corpus)**: 수집된 텍스트 데이터. 추가 정보가 포함되는 경우가 있다(품사, 긍정 부정 여부 등).\n",
    "\n",
    "말뭉치를 전처리하여 쉽게 다룰 수 있도록 코드를 작성해보겠다."
   ]
  },
  {
   "cell_type": "code",
   "execution_count": 1,
   "metadata": {},
   "outputs": [
    {
     "data": {
      "text/plain": [
       "'you say goodbye and i say hello .'"
      ]
     },
     "execution_count": 1,
     "metadata": {},
     "output_type": "execute_result"
    }
   ],
   "source": [
    "text = 'you say goodbye and I say hello.'\n",
    "text = text.lower()\n",
    "text = text.replace('.', ' .')\n",
    "text"
   ]
  },
  {
   "cell_type": "code",
   "execution_count": 2,
   "metadata": {},
   "outputs": [
    {
     "data": {
      "text/plain": [
       "['you', 'say', 'goodbye', 'and', 'i', 'say', 'hello', '.']"
      ]
     },
     "execution_count": 2,
     "metadata": {},
     "output_type": "execute_result"
    }
   ],
   "source": [
    "words = text.split()\n",
    "words"
   ]
  },
  {
   "cell_type": "markdown",
   "metadata": {},
   "source": [
    "단어를 효율적으로 조작하기 위해 id를 부여한다."
   ]
  },
  {
   "cell_type": "code",
   "execution_count": 3,
   "metadata": {},
   "outputs": [],
   "source": [
    "word_to_id = {}\n",
    "id_to_word = {}\n",
    "\n",
    "for word in words:\n",
    "    new_id = len(word_to_id)\n",
    "    word_to_id[word] = new_id\n",
    "    id_to_word[new_id] = word"
   ]
  },
  {
   "cell_type": "code",
   "execution_count": 4,
   "metadata": {},
   "outputs": [
    {
     "data": {
      "text/plain": [
       "{0: 'you', 1: 'say', 2: 'goodbye', 3: 'and', 4: 'i', 5: 'hello', 6: '.'}"
      ]
     },
     "execution_count": 4,
     "metadata": {},
     "output_type": "execute_result"
    }
   ],
   "source": [
    "id_to_word"
   ]
  },
  {
   "cell_type": "code",
   "execution_count": 5,
   "metadata": {},
   "outputs": [
    {
     "data": {
      "text/plain": [
       "{'you': 0, 'say': 5, 'goodbye': 2, 'and': 3, 'i': 4, 'hello': 5, '.': 6}"
      ]
     },
     "execution_count": 5,
     "metadata": {},
     "output_type": "execute_result"
    }
   ],
   "source": [
    "word_to_id"
   ]
  },
  {
   "cell_type": "markdown",
   "metadata": {},
   "source": [
    "말뭉치 전처리 함수를 정의한다."
   ]
  },
  {
   "cell_type": "code",
   "execution_count": 25,
   "metadata": {},
   "outputs": [],
   "source": [
    "import numpy as np\n",
    "\n",
    "def preprocess(t):\n",
    "    text = t.lower()\n",
    "    text = text.replace('.', ' .')\n",
    "    words = text.split()\n",
    "    word_to_id = {}\n",
    "    id_to_word = {}\n",
    "\n",
    "    for word in words:\n",
    "        if word not in word_to_id:\n",
    "            new_id = len(word_to_id)\n",
    "            word_to_id[word] = new_id\n",
    "            id_to_word[new_id] = word\n",
    "\n",
    "    corpus = np.array([word_to_id[w] for w in words])\n",
    "    \n",
    "    return  corpus, word_to_id, id_to_word"
   ]
  },
  {
   "cell_type": "markdown",
   "metadata": {},
   "source": [
    "### 단어의 분산 표현\n",
    "\n",
    "우리는 색을 3차원 벡터(RGB)로 표현한다. 데이터로 표현하기도 쉽고 색 끼리의 관련성을 판단하기도 용이하다. \n",
    "\n",
    "이처럼 단어도 벡터 공간 상에 표현할 수 있다. 이를 단어의 **분산표현(distributional representation)** 이라고 한다.\n",
    "\n",
    "### 분포 가설\n",
    "\n",
    "> 단어의 의미는 주변 단어에 의해 형성된다. 단어 그 자체에는 의미가 없다. 단어가 사용된 맥락(context)이 의미를 형성한다.\n",
    "\n",
    "이는 분포 가설(distributional hypothesis)의 핵심이다. \n",
    "\n",
    "- 맥락(context)\n",
    "\n",
    "    특정 단어를 중심에 둔 그 주변 단어를 의미한다.\n",
    "    \n",
    "    - 맥락의 크기 = window size\n",
    "    \n",
    "        ex) window size가 2이면 좌측 두 단어, 우측 두 단어가 맥락에 포함된다.\n",
    "        \n",
    "### 동시발생 행렬\n",
    "\n",
    "> 어떤 단어의 맥락이 되는 다른 단어의 출현 빈도를 행렬로 표현한 것"
   ]
  },
  {
   "cell_type": "code",
   "execution_count": 27,
   "metadata": {},
   "outputs": [
    {
     "data": {
      "text/plain": [
       "(array([0, 1, 2, 3, 4, 1, 5, 6]),\n",
       " {'you': 0, 'say': 1, 'goodbye': 2, 'and': 3, 'i': 4, 'hello': 5, '.': 6},\n",
       " {0: 'you', 1: 'say', 2: 'goodbye', 3: 'and', 4: 'i', 5: 'hello', 6: '.'})"
      ]
     },
     "execution_count": 27,
     "metadata": {},
     "output_type": "execute_result"
    }
   ],
   "source": [
    "corpus, word_to_id, id_to_word = preprocess(text)\n",
    "corpus, word_to_id, id_to_word"
   ]
  },
  {
   "cell_type": "code",
   "execution_count": 28,
   "metadata": {},
   "outputs": [],
   "source": [
    "def create_co_matrix(corpus, vocab_size, window_size=1):\n",
    "    corpus_size = len(corpus)\n",
    "    co_matrix = np.zeros((vocab_size, vocab_size), dtype=np.int32)\n",
    "    \n",
    "    for idx, word_id in enumerate(corpus):\n",
    "        for i in range(1, window_size + 1):\n",
    "            left_idx = idx - i\n",
    "            right_idx = idx + i\n",
    "            \n",
    "            if left_idx >= 0:\n",
    "                left_word_id = corpus[left_idx]\n",
    "                co_matrix[word_id, left_word_id] += 1\n",
    "                \n",
    "            if right_idx < corpus_size:\n",
    "                right_word_id = corpus[right_idx]\n",
    "                co_matrix[word_id, right_word_id] += 1\n",
    "    \n",
    "    return co_matrix"
   ]
  },
  {
   "cell_type": "code",
   "execution_count": 32,
   "metadata": {},
   "outputs": [],
   "source": [
    "vocab_size = len(word_to_id)\n",
    "C = create_co_matrix(corpus, vocab_size)"
   ]
  },
  {
   "cell_type": "code",
   "execution_count": 60,
   "metadata": {},
   "outputs": [
    {
     "data": {
      "text/html": [
       "<style type=\"text/css\">\n",
       "#T_64cd1_row0_col1, #T_64cd1_row1_col0, #T_64cd1_row1_col2, #T_64cd1_row1_col4, #T_64cd1_row1_col5, #T_64cd1_row2_col1, #T_64cd1_row2_col3, #T_64cd1_row3_col2, #T_64cd1_row3_col4, #T_64cd1_row4_col1, #T_64cd1_row4_col3, #T_64cd1_row5_col1, #T_64cd1_row5_col6, #T_64cd1_row6_col5 {\n",
       "  background-color: #a0c0ff;\n",
       "}\n",
       "</style>\n",
       "<table id=\"T_64cd1\">\n",
       "  <thead>\n",
       "    <tr>\n",
       "      <th class=\"blank level0\" >&nbsp;</th>\n",
       "      <th id=\"T_64cd1_level0_col0\" class=\"col_heading level0 col0\" >you</th>\n",
       "      <th id=\"T_64cd1_level0_col1\" class=\"col_heading level0 col1\" >say</th>\n",
       "      <th id=\"T_64cd1_level0_col2\" class=\"col_heading level0 col2\" >goodbye</th>\n",
       "      <th id=\"T_64cd1_level0_col3\" class=\"col_heading level0 col3\" >and</th>\n",
       "      <th id=\"T_64cd1_level0_col4\" class=\"col_heading level0 col4\" >i</th>\n",
       "      <th id=\"T_64cd1_level0_col5\" class=\"col_heading level0 col5\" >hello</th>\n",
       "      <th id=\"T_64cd1_level0_col6\" class=\"col_heading level0 col6\" >.</th>\n",
       "    </tr>\n",
       "  </thead>\n",
       "  <tbody>\n",
       "    <tr>\n",
       "      <th id=\"T_64cd1_level0_row0\" class=\"row_heading level0 row0\" >you</th>\n",
       "      <td id=\"T_64cd1_row0_col0\" class=\"data row0 col0\" >0</td>\n",
       "      <td id=\"T_64cd1_row0_col1\" class=\"data row0 col1\" >1</td>\n",
       "      <td id=\"T_64cd1_row0_col2\" class=\"data row0 col2\" >0</td>\n",
       "      <td id=\"T_64cd1_row0_col3\" class=\"data row0 col3\" >0</td>\n",
       "      <td id=\"T_64cd1_row0_col4\" class=\"data row0 col4\" >0</td>\n",
       "      <td id=\"T_64cd1_row0_col5\" class=\"data row0 col5\" >0</td>\n",
       "      <td id=\"T_64cd1_row0_col6\" class=\"data row0 col6\" >0</td>\n",
       "    </tr>\n",
       "    <tr>\n",
       "      <th id=\"T_64cd1_level0_row1\" class=\"row_heading level0 row1\" >say</th>\n",
       "      <td id=\"T_64cd1_row1_col0\" class=\"data row1 col0\" >1</td>\n",
       "      <td id=\"T_64cd1_row1_col1\" class=\"data row1 col1\" >0</td>\n",
       "      <td id=\"T_64cd1_row1_col2\" class=\"data row1 col2\" >1</td>\n",
       "      <td id=\"T_64cd1_row1_col3\" class=\"data row1 col3\" >0</td>\n",
       "      <td id=\"T_64cd1_row1_col4\" class=\"data row1 col4\" >1</td>\n",
       "      <td id=\"T_64cd1_row1_col5\" class=\"data row1 col5\" >1</td>\n",
       "      <td id=\"T_64cd1_row1_col6\" class=\"data row1 col6\" >0</td>\n",
       "    </tr>\n",
       "    <tr>\n",
       "      <th id=\"T_64cd1_level0_row2\" class=\"row_heading level0 row2\" >goodbye</th>\n",
       "      <td id=\"T_64cd1_row2_col0\" class=\"data row2 col0\" >0</td>\n",
       "      <td id=\"T_64cd1_row2_col1\" class=\"data row2 col1\" >1</td>\n",
       "      <td id=\"T_64cd1_row2_col2\" class=\"data row2 col2\" >0</td>\n",
       "      <td id=\"T_64cd1_row2_col3\" class=\"data row2 col3\" >1</td>\n",
       "      <td id=\"T_64cd1_row2_col4\" class=\"data row2 col4\" >0</td>\n",
       "      <td id=\"T_64cd1_row2_col5\" class=\"data row2 col5\" >0</td>\n",
       "      <td id=\"T_64cd1_row2_col6\" class=\"data row2 col6\" >0</td>\n",
       "    </tr>\n",
       "    <tr>\n",
       "      <th id=\"T_64cd1_level0_row3\" class=\"row_heading level0 row3\" >and</th>\n",
       "      <td id=\"T_64cd1_row3_col0\" class=\"data row3 col0\" >0</td>\n",
       "      <td id=\"T_64cd1_row3_col1\" class=\"data row3 col1\" >0</td>\n",
       "      <td id=\"T_64cd1_row3_col2\" class=\"data row3 col2\" >1</td>\n",
       "      <td id=\"T_64cd1_row3_col3\" class=\"data row3 col3\" >0</td>\n",
       "      <td id=\"T_64cd1_row3_col4\" class=\"data row3 col4\" >1</td>\n",
       "      <td id=\"T_64cd1_row3_col5\" class=\"data row3 col5\" >0</td>\n",
       "      <td id=\"T_64cd1_row3_col6\" class=\"data row3 col6\" >0</td>\n",
       "    </tr>\n",
       "    <tr>\n",
       "      <th id=\"T_64cd1_level0_row4\" class=\"row_heading level0 row4\" >i</th>\n",
       "      <td id=\"T_64cd1_row4_col0\" class=\"data row4 col0\" >0</td>\n",
       "      <td id=\"T_64cd1_row4_col1\" class=\"data row4 col1\" >1</td>\n",
       "      <td id=\"T_64cd1_row4_col2\" class=\"data row4 col2\" >0</td>\n",
       "      <td id=\"T_64cd1_row4_col3\" class=\"data row4 col3\" >1</td>\n",
       "      <td id=\"T_64cd1_row4_col4\" class=\"data row4 col4\" >0</td>\n",
       "      <td id=\"T_64cd1_row4_col5\" class=\"data row4 col5\" >0</td>\n",
       "      <td id=\"T_64cd1_row4_col6\" class=\"data row4 col6\" >0</td>\n",
       "    </tr>\n",
       "    <tr>\n",
       "      <th id=\"T_64cd1_level0_row5\" class=\"row_heading level0 row5\" >hello</th>\n",
       "      <td id=\"T_64cd1_row5_col0\" class=\"data row5 col0\" >0</td>\n",
       "      <td id=\"T_64cd1_row5_col1\" class=\"data row5 col1\" >1</td>\n",
       "      <td id=\"T_64cd1_row5_col2\" class=\"data row5 col2\" >0</td>\n",
       "      <td id=\"T_64cd1_row5_col3\" class=\"data row5 col3\" >0</td>\n",
       "      <td id=\"T_64cd1_row5_col4\" class=\"data row5 col4\" >0</td>\n",
       "      <td id=\"T_64cd1_row5_col5\" class=\"data row5 col5\" >0</td>\n",
       "      <td id=\"T_64cd1_row5_col6\" class=\"data row5 col6\" >1</td>\n",
       "    </tr>\n",
       "    <tr>\n",
       "      <th id=\"T_64cd1_level0_row6\" class=\"row_heading level0 row6\" >.</th>\n",
       "      <td id=\"T_64cd1_row6_col0\" class=\"data row6 col0\" >0</td>\n",
       "      <td id=\"T_64cd1_row6_col1\" class=\"data row6 col1\" >0</td>\n",
       "      <td id=\"T_64cd1_row6_col2\" class=\"data row6 col2\" >0</td>\n",
       "      <td id=\"T_64cd1_row6_col3\" class=\"data row6 col3\" >0</td>\n",
       "      <td id=\"T_64cd1_row6_col4\" class=\"data row6 col4\" >0</td>\n",
       "      <td id=\"T_64cd1_row6_col5\" class=\"data row6 col5\" >1</td>\n",
       "      <td id=\"T_64cd1_row6_col6\" class=\"data row6 col6\" >0</td>\n",
       "    </tr>\n",
       "  </tbody>\n",
       "</table>\n"
      ],
      "text/plain": [
       "<pandas.io.formats.style.Styler at 0x7eff534d0880>"
      ]
     },
     "execution_count": 60,
     "metadata": {},
     "output_type": "execute_result"
    }
   ],
   "source": [
    "import pandas as pd\n",
    "\n",
    "def draw_color_at_nan(x, color):\n",
    "    if x == 1:\n",
    "        color = f'background-color:{color}'\n",
    "        return color\n",
    "    else:\n",
    "        return ''\n",
    "\n",
    "index = [id_to_word[i] for i in range(vocab_size)]\n",
    "\n",
    "df = pd.DataFrame(C, index=index, columns=index)\n",
    "df.style.applymap(draw_color_at_nan, color='#a0c0ff')"
   ]
  },
  {
   "cell_type": "markdown",
   "metadata": {},
   "source": [
    "### 벡터 간 유사도\n",
    "\n",
    "단어 벡터 사이의 유사도를 나타낼 때 **코사인 유사도(cosine similarity)** 를 자주 이용한다.\n",
    "\n",
    "$$\\text{similarity}(\\textbf{x}, \\textbf{y}) = cos(\\theta) = \\frac{\\textbf{x} \\cdot \\textbf{y}}{\\lVert \\textbf{x} \\rVert \\lVert \\textbf{y} \\rVert} = \\frac{x_1y_1+ \\cdots +x_ny_n}{\\sqrt{x_1^2+ \\cdots + x_n^2}\\sqrt{y_1^2+ \\cdots + y_n^2}}$$"
   ]
  },
  {
   "cell_type": "markdown",
   "metadata": {},
   "source": [
    "$\\theta$는 두 벡터 $\\textbf{x}, \\textbf{y}$ 가 이루는 각도이다."
   ]
  },
  {
   "cell_type": "code",
   "execution_count": 68,
   "metadata": {},
   "outputs": [],
   "source": [
    "def cos_similarity(x, y, eps=1e-8):\n",
    "    nx = x / (np.sqrt(np.sum(x**2)) + eps)\n",
    "    ny = x / (np.sqrt(np.sum(y**2)) + eps)\n",
    "    return np.dot(nx, ny)"
   ]
  },
  {
   "cell_type": "markdown",
   "metadata": {},
   "source": [
    "\"you\"와 \"i\"의 유사도를 측정한다."
   ]
  },
  {
   "cell_type": "code",
   "execution_count": 69,
   "metadata": {},
   "outputs": [
    {
     "name": "stdout",
     "output_type": "stream",
     "text": [
      "0.7071067691154799\n"
     ]
    }
   ],
   "source": [
    "c0 = C[word_to_id['you']]\n",
    "c1 = C[word_to_id['i']]\n",
    "print(cos_similarity(c0, c1))                "
   ]
  },
  {
   "cell_type": "code",
   "execution_count": null,
   "metadata": {},
   "outputs": [],
   "source": [
    "co"
   ]
  }
 ],
 "metadata": {
  "kernelspec": {
   "display_name": "Python 3 (ipykernel)",
   "language": "python",
   "name": "python3"
  },
  "language_info": {
   "codemirror_mode": {
    "name": "ipython",
    "version": 3
   },
   "file_extension": ".py",
   "mimetype": "text/x-python",
   "name": "python",
   "nbconvert_exporter": "python",
   "pygments_lexer": "ipython3",
   "version": "3.8.10"
  },
  "vscode": {
   "interpreter": {
    "hash": "916dbcbb3f70747c44a77c7bcd40155683ae19c65e1c03b4aa3499c5328201f1"
   }
  }
 },
 "nbformat": 4,
 "nbformat_minor": 4
}
