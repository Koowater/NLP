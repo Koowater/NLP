{
  "cells": [
    {
      "cell_type": "markdown",
      "metadata": {
        "id": "h3FAK0fz1kOr"
      },
      "source": [
        "## **3. Word2Vec**\n",
        "1. 주어진 단어들을 word2vec 모델에 들어갈 수 있는 형태로 만듭니다.\n",
        "2. CBOW, Skip-gram 모델을 각각 구현합니다.\n",
        "3. 모델을 실제로 학습해보고 결과를 확인합니다.\n",
        "4. 산점도를 그려 단어들의 대략적인 위치를 확인해봅니다"
      ]
    },
    {
      "cell_type": "markdown",
      "metadata": {
        "id": "u9FrxTPWIsct"
      },
      "source": [
        "### **필요 패키지 import**"
      ]
    },
    {
      "cell_type": "code",
      "execution_count": 1,
      "metadata": {
        "id": "nSP7aXfJIr3i"
      },
      "outputs": [],
      "source": [
        "from tqdm import tqdm\n",
        "from konlpy.tag import Mecab,Twitter,Okt,Kkma\n",
        "import torch\n",
        "from torch import nn\n",
        "from torch.nn import functional as F\n",
        "from torch.utils.data import Dataset, DataLoader\n",
        "from collections import defaultdict\n",
        "\n",
        "import pandas as pd\n",
        "import copy\n",
        "import numpy as np"
      ]
    },
    {
      "cell_type": "markdown",
      "metadata": {
        "id": "qugro74yJASr"
      },
      "source": [
        "### **데이터 전처리**"
      ]
    },
    {
      "cell_type": "markdown",
      "metadata": {
        "id": "Q36dfSRRJDtX"
      },
      "source": [
        "\n",
        "\n",
        "데이터를 확인하고 Word2Vec 형식에 맞게 전처리합니다."
      ]
    },
    {
      "cell_type": "code",
      "execution_count": 2,
      "metadata": {
        "id": "CLZ2f-lRJSus"
      },
      "outputs": [],
      "source": [
        "# train_data = [\n",
        "#   \"정말 맛있습니다. 추천합니다.\",\n",
        "#   \"기대했던 것보단 별로였네요.\",\n",
        "#   \"다 좋은데 가격이 너무 비싸서 다시 가고 싶다는 생각이 안 드네요.\",\n",
        "#   \"완전 최고입니다! 재방문 의사 있습니다.\",\n",
        "#   \"음식도 서비스도 다 만족스러웠습니다.\",\n",
        "#   \"위생 상태가 좀 별로였습니다. 좀 더 개선되기를 바랍니다.\",\n",
        "#   \"맛도 좋았고 직원분들 서비스도 너무 친절했습니다.\",\n",
        "#   \"기념일에 방문했는데 음식도 분위기도 서비스도 다 좋았습니다.\",\n",
        "#   \"전반적으로 음식이 너무 짰습니다. 저는 별로였네요.\",\n",
        "#   \"위생에 조금 더 신경 썼으면 좋겠습니다. 조금 불쾌했습니다.\"       \n",
        "# ]\n",
        "\n",
        "test_words = [\"영화\", \"기대\", \"감독\", \"배우\", \"평점\"]"
      ]
    },
    {
      "cell_type": "code",
      "execution_count": 3,
      "metadata": {},
      "outputs": [
        {
          "data": {
            "text/plain": [
              "1874"
            ]
          },
          "execution_count": 3,
          "metadata": {},
          "output_type": "execute_result"
        }
      ],
      "source": [
        "df = pd.read_csv('reviews_1.csv')\n",
        "train_data = df['sentence'].to_list()\n",
        "len(train_data)"
      ]
    },
    {
      "cell_type": "markdown",
      "metadata": {
        "id": "vReElaFSLBYL"
      },
      "source": [
        "Tokenization과 vocab을 만드는 과정은 이전 실습과 유사합니다."
      ]
    },
    {
      "cell_type": "code",
      "execution_count": 4,
      "metadata": {
        "id": "dTjlRzmWMDK_"
      },
      "outputs": [],
      "source": [
        "tokenizer = Okt()"
      ]
    },
    {
      "cell_type": "code",
      "execution_count": 5,
      "metadata": {
        "id": "0DTUsX672icp"
      },
      "outputs": [],
      "source": [
        "def make_tokenized(data):\n",
        "  tokenized = []\n",
        "  for sent in tqdm(data):\n",
        "    # tokens = tokenizer.morphs(sent, stem=True)\n",
        "    tokens = tokenizer.nouns(sent)\n",
        "    tokenized.append(tokens)\n",
        "\n",
        "  return tokenized"
      ]
    },
    {
      "cell_type": "code",
      "execution_count": 6,
      "metadata": {
        "colab": {
          "base_uri": "https://localhost:8080/"
        },
        "id": "C-z0z6HD2rrX",
        "outputId": "c9db53ef-6b61-4fb6-95ad-a87963f25978"
      },
      "outputs": [
        {
          "name": "stderr",
          "output_type": "stream",
          "text": [
            "100%|██████████| 1874/1874 [00:06<00:00, 310.59it/s]\n"
          ]
        }
      ],
      "source": [
        "train_tokenized = make_tokenized(train_data)"
      ]
    },
    {
      "cell_type": "code",
      "execution_count": 7,
      "metadata": {
        "colab": {
          "base_uri": "https://localhost:8080/"
        },
        "id": "51exEpI0Mc3l",
        "outputId": "aff941ff-a4e4-4d64-804e-835071f2df39"
      },
      "outputs": [
        {
          "name": "stderr",
          "output_type": "stream",
          "text": [
            "100%|██████████| 1874/1874 [00:00<00:00, 716968.50it/s]\n"
          ]
        }
      ],
      "source": [
        "word_count = defaultdict(int)\n",
        "\n",
        "for tokens in tqdm(train_tokenized):\n",
        "  for token in tokens:\n",
        "    word_count[token] += 1"
      ]
    },
    {
      "cell_type": "code",
      "execution_count": 8,
      "metadata": {
        "colab": {
          "base_uri": "https://localhost:8080/"
        },
        "id": "gyvHAMAnMh1D",
        "outputId": "2cd3844f-5b3a-4ce6-f920-231ab6b46057"
      },
      "outputs": [
        {
          "name": "stdout",
          "output_type": "stream",
          "text": [
            "[('영화', 844), ('최고', 239), ('진짜', 180), ('감동', 167), ('꼭', 139), ('탑건', 135), ('스토리', 131), ('보고', 121), ('말', 112), ('편', 109)]\n"
          ]
        }
      ],
      "source": [
        "word_count = sorted(word_count.items(), key=lambda x: x[1], reverse=True)\n",
        "print(list(word_count)[:10])"
      ]
    },
    {
      "cell_type": "code",
      "execution_count": 9,
      "metadata": {
        "colab": {
          "base_uri": "https://localhost:8080/"
        },
        "id": "DaK_i3zL2vO3",
        "outputId": "74a47b5c-6e99-4468-d874-8f277d41041b"
      },
      "outputs": [
        {
          "name": "stderr",
          "output_type": "stream",
          "text": [
            "100%|██████████| 2826/2826 [00:00<00:00, 1967320.02it/s]\n"
          ]
        }
      ],
      "source": [
        "w2i = {}\n",
        "for pair in tqdm(word_count):\n",
        "  if pair[0] not in w2i:\n",
        "    w2i[pair[0]] = len(w2i)\n",
        "\n",
        "i2w={v:k for k,v in w2i.items()}"
      ]
    },
    {
      "cell_type": "code",
      "execution_count": 10,
      "metadata": {
        "colab": {
          "base_uri": "https://localhost:8080/"
        },
        "id": "LiGqiEGDL5B_",
        "outputId": "781850df-c09f-4f27-90f8-4aea2932f596"
      },
      "outputs": [
        {
          "name": "stdout",
          "output_type": "stream",
          "text": [
            "[['로라', '나', '오히려', '전투씬', '조금', '단점', '그거'], ['평점', '제대로', '음', '점', '시청', '점', '명', '참여', '평점', '걸', '나중', '봄', '연기', '볼', '하나', '스토리', '전혀'], ['호불호', '개인', '저', '호'], ['평가', '대작'], ['두', '주인공', '감성', '연기', '또', '번', '매료'], ['톰', '크루즈', '꼭', '영화관', '다음', '내용'], ['별로', '정치', '병영'], ['최고', '최고', '최고'], ['고레', '히로', '카', '의', '영화', '생각', '아쉬움', '감독', '배우', '간', '의', '국적', '언어', '문화', '등등', '차이점', '극복', '위해', '영화', '게', '생각', '조심', '주연', '진', '이외', '단역', '배우', '까메오', '재미', '추천'], ['탑건', '다시', '기분']]\n",
            "2826\n"
          ]
        }
      ],
      "source": [
        "print(train_tokenized[:10])\n",
        "print(len(w2i))"
      ]
    },
    {
      "cell_type": "markdown",
      "metadata": {
        "id": "Rcm_L4iJBufO"
      },
      "source": [
        "### 다음은 Word2Vec을 학습시키는 대표적인 방법인 Skipgram과 CBow를 다룹니다. \n",
        "\n",
        "* Cbow는 주변단어를 이용해, 주어진 단어를 예측하는 방법입니다.\n",
        "* Skipgram은 중심 단어를 이용하여 주변 단어를 예측하는 방법입니다.\n",
        "* 즉 데이터셋을 구성할때, input x 와 target y를 어떻게 설정하는지에 차이가 있습니다.\n",
        "\n",
        "참고자료 \n",
        "\n",
        "* https://simonezz.tistory.com/35 \n",
        "\n",
        "* https://towardsdatascience.com/nlp-101-word2vec-skip-gram-and-cbow-93512ee24314 \n",
        "\n"
      ]
    },
    {
      "cell_type": "markdown",
      "metadata": {
        "id": "vXA5zaPPM3Wd"
      },
      "source": [
        "실제 모델에 들어가기 위한 input을 만들기 위해 `Dataset` 클래스를 정의합니다."
      ]
    },
    {
      "cell_type": "code",
      "execution_count": 11,
      "metadata": {
        "id": "s47ssyVt89t1"
      },
      "outputs": [],
      "source": [
        "class CBOWDataset(Dataset):\n",
        "  def __init__(self, train_tokenized, window_size=2):\n",
        "    self.x = [] # input word\n",
        "    self.y = [] # target word\n",
        "\n",
        "    for tokens in tqdm(train_tokenized):\n",
        "      token_ids = [w2i[token] for token in tokens]\n",
        "      for i, id in enumerate(token_ids):\n",
        "        if i-window_size >= 0 and i+window_size < len(token_ids):\n",
        "          self.x.append(token_ids[i-window_size:i] + token_ids[i+1:i+window_size+1])\n",
        "          self.y.append(id)\n",
        "\n",
        "    self.x = torch.LongTensor(self.x)  # (전체 데이터 개수, 2 * window_size)\n",
        "    self.y = torch.LongTensor(self.y)  # (전체 데이터 개수)\n",
        "\n",
        "  def __len__(self):\n",
        "    return self.x.shape[0]\n",
        "\n",
        "  def __getitem__(self, idx):\n",
        "    return self.x[idx], self.y[idx]\n",
        "\n",
        "class SkipGramDataset(Dataset):\n",
        "  def __init__(self, train_tokenized, window_size=2):\n",
        "    self.x = []\n",
        "    self.y = []\n",
        "\n",
        "    for tokens in tqdm(train_tokenized):\n",
        "      token_ids = [w2i[token] for token in tokens]\n",
        "      for i, id in enumerate(token_ids):\n",
        "        if i-window_size >= 0 and i+window_size < len(token_ids):\n",
        "          self.x.append(id)\n",
        "          self.y.append(token_ids[i-window_size:i] + token_ids[i+1:i+window_size+1])\n",
        "\n",
        "    self.x = torch.LongTensor(self.x)  # (전체 데이터 개수)\n",
        "    self.y = torch.LongTensor(self.y)  # (전체 데이터 개수)\n",
        "\n",
        "  def __len__(self):\n",
        "    return self.x.shape[0]\n",
        "\n",
        "  def __getitem__(self, idx):\n",
        "    return self.x[idx], self.y[idx]"
      ]
    },
    {
      "cell_type": "markdown",
      "metadata": {
        "id": "JyAGV5IUUba0"
      },
      "source": [
        "각 모델에 맞는 `Dataset` 객체를 생성합니다."
      ]
    },
    {
      "cell_type": "code",
      "execution_count": 12,
      "metadata": {
        "colab": {
          "base_uri": "https://localhost:8080/"
        },
        "id": "5ep7Hm6oBWyy",
        "outputId": "72b38ac7-ffd9-4ae3-b80d-0040b343597f"
      },
      "outputs": [
        {
          "name": "stderr",
          "output_type": "stream",
          "text": [
            "100%|██████████| 1874/1874 [00:00<00:00, 311835.50it/s]\n",
            "100%|██████████| 1874/1874 [00:00<00:00, 377002.53it/s]"
          ]
        },
        {
          "name": "stdout",
          "output_type": "stream",
          "text": [
            "[(tensor([1193,   57,  338,  115]), tensor(304)), (tensor([ 57, 304, 115, 769]), tensor(338)), (tensor([304, 338, 769, 770]), tensor(115)), (tensor([ 20, 121,  18, 380]), tensor(166)), (tensor([121, 166, 380,  18]), tensor(18)), (tensor([166,  18,  18, 381]), tensor(380)), (tensor([  18,  380,  381, 1194]), tensor(18)), (tensor([ 380,   18, 1194,   20]), tensor(381)), (tensor([ 18, 381,  20, 105]), tensor(1194)), (tensor([ 381, 1194,  105,  272]), tensor(20))]\n",
            "[(tensor(304), tensor([1193,   57,  338,  115])), (tensor(338), tensor([ 57, 304, 115, 769])), (tensor(115), tensor([304, 338, 769, 770])), (tensor(166), tensor([ 20, 121,  18, 380])), (tensor(18), tensor([121, 166, 380,  18])), (tensor(380), tensor([166,  18,  18, 381])), (tensor(18), tensor([  18,  380,  381, 1194])), (tensor(381), tensor([ 380,   18, 1194,   20])), (tensor(1194), tensor([ 18, 381,  20, 105])), (tensor(20), tensor([ 381, 1194,  105,  272]))]\n"
          ]
        },
        {
          "name": "stderr",
          "output_type": "stream",
          "text": [
            "\n"
          ]
        }
      ],
      "source": [
        "cbow_set = CBOWDataset(train_tokenized)\n",
        "skipgram_set = SkipGramDataset(train_tokenized)\n",
        "print(list(cbow_set)[:10])\n",
        "print(list(skipgram_set)[:10])"
      ]
    },
    {
      "cell_type": "markdown",
      "metadata": {
        "id": "1QSo73PoRyd9"
      },
      "source": [
        "### **모델 Class 구현**"
      ]
    },
    {
      "cell_type": "markdown",
      "metadata": {
        "id": "jnnk44R6R28x"
      },
      "source": [
        "차례대로 두 가지 Word2Vec 모델을 구현합니다.  \n",
        "\n",
        "\n",
        "*   `self.embedding`: `vocab_size` 크기의 one-hot vector를 특정 크기의 `dim` 차원으로 embedding 시키는 layer.\n",
        "*   `self.linear`: 변환된 embedding vector를 다시 원래 `vocab_size`로 바꾸는 layer.\n"
      ]
    },
    {
      "cell_type": "code",
      "execution_count": 13,
      "metadata": {
        "id": "b_HP1ISq5CWv"
      },
      "outputs": [],
      "source": [
        "class CBOW(nn.Module):\n",
        "  def __init__(self, vocab_size, dim):\n",
        "    super(CBOW, self).__init__()\n",
        "    self.embedding = nn.Embedding(vocab_size, dim, sparse=True)\n",
        "    self.linear = nn.Linear(dim, vocab_size)\n",
        "\n",
        "  # B: batch size, W: window size, d_w: word embedding size, V: vocab size\n",
        "  '''\n",
        "    Input: (B, 2W)\n",
        "    Output: (B, V)\n",
        "  '''\n",
        "  def forward(self, x):  # x: (B, 2W)\n",
        "    embeddings = self.embedding(x)  # (B, 2W, d_w)\n",
        "    embeddings = torch.sum(embeddings, dim=1)  # (B, d_w)\n",
        "    output = self.linear(embeddings)  # (B, V)\n",
        "    return output"
      ]
    },
    {
      "cell_type": "code",
      "execution_count": 16,
      "metadata": {
        "id": "yQAUApww68MJ"
      },
      "outputs": [],
      "source": [
        "class SkipGram(nn.Module):\n",
        "  def __init__(self, vocab_size, dim, window_size=2):\n",
        "    super(SkipGram, self).__init__()\n",
        "    self.window_size = window_size\n",
        "    self.vocab_size = vocab_size\n",
        "    self.embedding = nn.Embedding(self.vocab_size, dim, sparse=True)\n",
        "    self.linears = nn.ModuleList([nn.Linear(dim, self.vocab_size) for _ in range(self.window_size * 2)])\n",
        "    self.softmax = nn.Softmax(dim=1)\n",
        "\n",
        "  '''\n",
        "    Input: (B, V)\n",
        "    Output: (B, 2W, V)\n",
        "  '''\n",
        "    # B: batch size, W: window size, d_w: word embedding size, V: vocab size\n",
        "  def forward(self, x): # x: (B)\n",
        "    embeddings = self.embedding(x)  # (B, d_w)\n",
        "    outputs = []\n",
        "    for linear in self.linears:\n",
        "      logit = linear(embeddings)\n",
        "      outputs.append(self.softmax(logit))\n",
        "      \n",
        "    return torch.stack(outputs, dim=1)"
      ]
    },
    {
      "cell_type": "markdown",
      "metadata": {
        "id": "58cJalkDWYMT"
      },
      "source": [
        "두 가지 모델을 생성합니다."
      ]
    },
    {
      "cell_type": "code",
      "execution_count": 17,
      "metadata": {
        "id": "8vWUXEi8WeM-"
      },
      "outputs": [],
      "source": [
        "cbow = CBOW(vocab_size=len(w2i), dim=256)\n",
        "skipgram = SkipGram(vocab_size=len(w2i), dim=256)"
      ]
    },
    {
      "cell_type": "markdown",
      "metadata": {
        "id": "xxP7qdtNWil1"
      },
      "source": [
        "### **모델 학습**"
      ]
    },
    {
      "cell_type": "markdown",
      "metadata": {
        "id": "QVggZrQ4WpBS"
      },
      "source": [
        "다음과 같이 hyperparamter를 세팅하고 `DataLoader` 객체를 만듭니다."
      ]
    },
    {
      "cell_type": "code",
      "execution_count": 18,
      "metadata": {
        "id": "ygVdz5rSBeNu"
      },
      "outputs": [],
      "source": [
        "batch_size = 32\n",
        "learning_rate = 5e-4\n",
        "num_epochs = 100\n",
        "device = torch.device('cuda') if torch.cuda.is_available() else torch.device('cpu')\n",
        "\n",
        "cbow_loader = DataLoader(cbow_set, batch_size=batch_size)\n",
        "skipgram_loader = DataLoader(skipgram_set, batch_size=batch_size)"
      ]
    },
    {
      "cell_type": "markdown",
      "metadata": {
        "id": "ekixqKB3X5C1"
      },
      "source": [
        "첫번째로 CBOW 모델 학습입니다."
      ]
    },
    {
      "cell_type": "code",
      "execution_count": 19,
      "metadata": {
        "colab": {
          "base_uri": "https://localhost:8080/"
        },
        "id": "-d95qR7oC822",
        "outputId": "447d8a84-9c04-4dd5-dabb-611363420de7"
      },
      "outputs": [
        {
          "name": "stdout",
          "output_type": "stream",
          "text": [
            "Epoch: 1, Train loss: 8.498250007629395\n",
            "Epoch: 2, Train loss: 8.457849502563477\n",
            "Epoch: 3, Train loss: 8.417511940002441\n",
            "Epoch: 4, Train loss: 8.37724494934082\n",
            "Epoch: 5, Train loss: 8.337059020996094\n",
            "Epoch: 6, Train loss: 8.296968460083008\n",
            "Epoch: 7, Train loss: 8.256991386413574\n",
            "Epoch: 8, Train loss: 8.217153549194336\n",
            "Epoch: 9, Train loss: 8.177488327026367\n",
            "Epoch: 10, Train loss: 8.138035774230957\n",
            "Epoch: 11, Train loss: 8.098849296569824\n",
            "Epoch: 12, Train loss: 8.059972763061523\n",
            "Epoch: 13, Train loss: 8.021461486816406\n",
            "Epoch: 14, Train loss: 7.983346939086914\n",
            "Epoch: 15, Train loss: 7.945651531219482\n",
            "Epoch: 16, Train loss: 7.90838623046875\n",
            "Epoch: 17, Train loss: 7.871547698974609\n",
            "Epoch: 18, Train loss: 7.8351311683654785\n",
            "Epoch: 19, Train loss: 7.799124240875244\n",
            "Epoch: 20, Train loss: 7.763519287109375\n",
            "Epoch: 21, Train loss: 7.728308200836182\n",
            "Epoch: 22, Train loss: 7.693483829498291\n",
            "Epoch: 23, Train loss: 7.659040451049805\n",
            "Epoch: 24, Train loss: 7.62497091293335\n",
            "Epoch: 25, Train loss: 7.5912699699401855\n",
            "Epoch: 26, Train loss: 7.557933807373047\n",
            "Epoch: 27, Train loss: 7.524955749511719\n",
            "Epoch: 28, Train loss: 7.49232816696167\n",
            "Epoch: 29, Train loss: 7.460042953491211\n",
            "Epoch: 30, Train loss: 7.428091526031494\n",
            "Epoch: 31, Train loss: 7.396461486816406\n",
            "Epoch: 32, Train loss: 7.365145206451416\n",
            "Epoch: 33, Train loss: 7.3341288566589355\n",
            "Epoch: 34, Train loss: 7.3033976554870605\n",
            "Epoch: 35, Train loss: 7.272941589355469\n",
            "Epoch: 36, Train loss: 7.242746829986572\n",
            "Epoch: 37, Train loss: 7.212798595428467\n",
            "Epoch: 38, Train loss: 7.183085918426514\n",
            "Epoch: 39, Train loss: 7.153592586517334\n",
            "Epoch: 40, Train loss: 7.124308109283447\n",
            "Epoch: 41, Train loss: 7.095222473144531\n",
            "Epoch: 42, Train loss: 7.0663228034973145\n",
            "Epoch: 43, Train loss: 7.037599086761475\n",
            "Epoch: 44, Train loss: 7.009040355682373\n",
            "Epoch: 45, Train loss: 6.98063850402832\n",
            "Epoch: 46, Train loss: 6.952385425567627\n",
            "Epoch: 47, Train loss: 6.924275875091553\n",
            "Epoch: 48, Train loss: 6.896299839019775\n",
            "Epoch: 49, Train loss: 6.868454456329346\n",
            "Epoch: 50, Train loss: 6.840732574462891\n",
            "Epoch: 51, Train loss: 6.813129901885986\n",
            "Epoch: 52, Train loss: 6.785643100738525\n",
            "Epoch: 53, Train loss: 6.758270263671875\n",
            "Epoch: 54, Train loss: 6.731008052825928\n",
            "Epoch: 55, Train loss: 6.70385217666626\n",
            "Epoch: 56, Train loss: 6.6768035888671875\n",
            "Epoch: 57, Train loss: 6.649860382080078\n",
            "Epoch: 58, Train loss: 6.623022079467773\n",
            "Epoch: 59, Train loss: 6.596287250518799\n",
            "Epoch: 60, Train loss: 6.569656848907471\n",
            "Epoch: 61, Train loss: 6.5431294441223145\n",
            "Epoch: 62, Train loss: 6.5167083740234375\n",
            "Epoch: 63, Train loss: 6.490389347076416\n",
            "Epoch: 64, Train loss: 6.464178562164307\n",
            "Epoch: 65, Train loss: 6.438074111938477\n",
            "Epoch: 66, Train loss: 6.412076950073242\n",
            "Epoch: 67, Train loss: 6.386190891265869\n",
            "Epoch: 68, Train loss: 6.360414028167725\n",
            "Epoch: 69, Train loss: 6.334747314453125\n",
            "Epoch: 70, Train loss: 6.309196949005127\n",
            "Epoch: 71, Train loss: 6.283758640289307\n",
            "Epoch: 72, Train loss: 6.258437633514404\n",
            "Epoch: 73, Train loss: 6.2332329750061035\n",
            "Epoch: 74, Train loss: 6.208150386810303\n",
            "Epoch: 75, Train loss: 6.1831841468811035\n",
            "Epoch: 76, Train loss: 6.158341884613037\n",
            "Epoch: 77, Train loss: 6.133622646331787\n",
            "Epoch: 78, Train loss: 6.1090264320373535\n",
            "Epoch: 79, Train loss: 6.084556579589844\n",
            "Epoch: 80, Train loss: 6.060213088989258\n",
            "Epoch: 81, Train loss: 6.035995960235596\n",
            "Epoch: 82, Train loss: 6.011908054351807\n",
            "Epoch: 83, Train loss: 5.987947463989258\n",
            "Epoch: 84, Train loss: 5.964118480682373\n",
            "Epoch: 85, Train loss: 5.9404168128967285\n",
            "Epoch: 86, Train loss: 5.916848659515381\n",
            "Epoch: 87, Train loss: 5.8934102058410645\n",
            "Epoch: 88, Train loss: 5.8701019287109375\n",
            "Epoch: 89, Train loss: 5.846926212310791\n",
            "Epoch: 90, Train loss: 5.82388162612915\n",
            "Epoch: 91, Train loss: 5.800967693328857\n",
            "Epoch: 92, Train loss: 5.778184413909912\n",
            "Epoch: 93, Train loss: 5.755532741546631\n",
            "Epoch: 94, Train loss: 5.7330098152160645\n",
            "Epoch: 95, Train loss: 5.7106170654296875\n",
            "Epoch: 96, Train loss: 5.688352584838867\n",
            "Epoch: 97, Train loss: 5.666217803955078\n",
            "Epoch: 98, Train loss: 5.644208908081055\n",
            "Epoch: 99, Train loss: 5.62232780456543\n",
            "Epoch: 100, Train loss: 5.600571155548096\n",
            "Finished.\n"
          ]
        }
      ],
      "source": [
        "cbow.train()\n",
        "cbow = cbow.to(device)\n",
        "optim = torch.optim.SGD(cbow.parameters(), lr=learning_rate)\n",
        "loss_function = nn.CrossEntropyLoss()\n",
        "\n",
        "for e in range(1, num_epochs+1):\n",
        "\n",
        "  for batch in cbow_loader:\n",
        "    x, y = batch\n",
        "    x, y = x.to(device), y.to(device) # (B, W), (B)\n",
        "    output = cbow(x)  # (B, V)\n",
        " \n",
        "    optim.zero_grad()\n",
        "    loss = loss_function(output, y)\n",
        "    loss.backward()\n",
        "    optim.step()\n",
        "\n",
        "  print(f\"Epoch: {e}, Train loss: {loss.item()}\")\n",
        "\n",
        "print(\"Finished.\")"
      ]
    },
    {
      "cell_type": "markdown",
      "metadata": {
        "id": "FDahBf6IX4py"
      },
      "source": [
        "다음으로 Skip-gram 모델 학습입니다."
      ]
    },
    {
      "cell_type": "code",
      "execution_count": 20,
      "metadata": {},
      "outputs": [],
      "source": [
        "skipgram = SkipGram(vocab_size=len(w2i), dim=256)"
      ]
    },
    {
      "cell_type": "code",
      "execution_count": 21,
      "metadata": {
        "colab": {
          "base_uri": "https://localhost:8080/"
        },
        "id": "jJxGEusqFV5r",
        "outputId": "338a930c-95db-4c68-a10a-003dcdd06325"
      },
      "outputs": [
        {
          "name": "stdout",
          "output_type": "stream",
          "text": [
            "Epoch: 1, Train loss: 133.0821990966797\n",
            "Epoch: 2, Train loss: 133.08203125\n",
            "Epoch: 3, Train loss: 133.0818634033203\n",
            "Epoch: 4, Train loss: 133.08169555664062\n",
            "Epoch: 5, Train loss: 133.08151245117188\n",
            "Epoch: 6, Train loss: 133.0813446044922\n",
            "Epoch: 7, Train loss: 133.0811767578125\n",
            "Epoch: 8, Train loss: 133.08099365234375\n",
            "Epoch: 9, Train loss: 133.080810546875\n",
            "Epoch: 10, Train loss: 133.08062744140625\n",
            "Epoch: 11, Train loss: 133.08045959472656\n",
            "Epoch: 12, Train loss: 133.0802459716797\n",
            "Epoch: 13, Train loss: 133.08009338378906\n",
            "Epoch: 14, Train loss: 133.07992553710938\n",
            "Epoch: 15, Train loss: 133.07977294921875\n",
            "Epoch: 16, Train loss: 133.07962036132812\n",
            "Epoch: 17, Train loss: 133.07949829101562\n",
            "Epoch: 18, Train loss: 133.07937622070312\n",
            "Epoch: 19, Train loss: 133.07931518554688\n",
            "Epoch: 20, Train loss: 133.07925415039062\n",
            "Epoch: 21, Train loss: 133.0794677734375\n",
            "Epoch: 22, Train loss: 133.080078125\n",
            "Epoch: 23, Train loss: 133.08203125\n",
            "Epoch: 24, Train loss: 133.09202575683594\n",
            "Epoch: 25, Train loss: 133.37022399902344\n",
            "Epoch: 26, Train loss: 133.41969299316406\n",
            "Epoch: 27, Train loss: 133.42404174804688\n",
            "Epoch: 28, Train loss: 133.42550659179688\n",
            "Epoch: 29, Train loss: 133.42620849609375\n",
            "Epoch: 30, Train loss: 133.4299774169922\n",
            "Epoch: 31, Train loss: 133.42848205566406\n",
            "Epoch: 32, Train loss: 133.42709350585938\n",
            "Epoch: 33, Train loss: 133.42355346679688\n",
            "Epoch: 34, Train loss: 133.41502380371094\n",
            "Epoch: 35, Train loss: 133.38058471679688\n",
            "Epoch: 36, Train loss: 133.22640991210938\n",
            "Epoch: 37, Train loss: 132.87277221679688\n",
            "Epoch: 38, Train loss: 132.80810546875\n",
            "Epoch: 39, Train loss: 132.8025665283203\n",
            "Epoch: 40, Train loss: 132.8009490966797\n",
            "Epoch: 41, Train loss: 132.79986572265625\n",
            "Epoch: 42, Train loss: 132.79762268066406\n",
            "Epoch: 43, Train loss: 132.79595947265625\n",
            "Epoch: 44, Train loss: 132.7943878173828\n",
            "Epoch: 45, Train loss: 132.79458618164062\n",
            "Epoch: 46, Train loss: 132.79466247558594\n",
            "Epoch: 47, Train loss: 132.7952117919922\n",
            "Epoch: 48, Train loss: 132.79757690429688\n",
            "Epoch: 49, Train loss: 132.79876708984375\n",
            "Epoch: 50, Train loss: 132.79986572265625\n",
            "Epoch: 51, Train loss: 132.80038452148438\n",
            "Epoch: 52, Train loss: 132.80104064941406\n",
            "Epoch: 53, Train loss: 132.80105590820312\n",
            "Epoch: 54, Train loss: 132.79983520507812\n",
            "Epoch: 55, Train loss: 132.79978942871094\n",
            "Epoch: 56, Train loss: 132.79788208007812\n",
            "Epoch: 57, Train loss: 132.7954559326172\n",
            "Epoch: 58, Train loss: 132.794189453125\n",
            "Epoch: 59, Train loss: 132.79330444335938\n",
            "Epoch: 60, Train loss: 132.792724609375\n",
            "Epoch: 61, Train loss: 132.7921905517578\n",
            "Epoch: 62, Train loss: 132.79161071777344\n",
            "Epoch: 63, Train loss: 132.79087829589844\n",
            "Epoch: 64, Train loss: 132.79046630859375\n",
            "Epoch: 65, Train loss: 132.7902069091797\n",
            "Epoch: 66, Train loss: 132.79051208496094\n",
            "Epoch: 67, Train loss: 132.79061889648438\n",
            "Epoch: 68, Train loss: 132.7909698486328\n",
            "Epoch: 69, Train loss: 132.79092407226562\n",
            "Epoch: 70, Train loss: 132.79052734375\n",
            "Epoch: 71, Train loss: 132.79017639160156\n",
            "Epoch: 72, Train loss: 132.78982543945312\n",
            "Epoch: 73, Train loss: 132.78933715820312\n",
            "Epoch: 74, Train loss: 132.78866577148438\n",
            "Epoch: 75, Train loss: 132.7879638671875\n",
            "Epoch: 76, Train loss: 132.7872314453125\n",
            "Epoch: 77, Train loss: 132.7862548828125\n",
            "Epoch: 78, Train loss: 132.78530883789062\n",
            "Epoch: 79, Train loss: 132.78466796875\n",
            "Epoch: 80, Train loss: 132.7840576171875\n",
            "Epoch: 81, Train loss: 132.7834014892578\n",
            "Epoch: 82, Train loss: 132.78314208984375\n",
            "Epoch: 83, Train loss: 132.78309631347656\n",
            "Epoch: 84, Train loss: 132.7825927734375\n",
            "Epoch: 85, Train loss: 132.78189086914062\n",
            "Epoch: 86, Train loss: 132.7811279296875\n",
            "Epoch: 87, Train loss: 132.7802276611328\n",
            "Epoch: 88, Train loss: 132.77928161621094\n",
            "Epoch: 89, Train loss: 132.77767944335938\n",
            "Epoch: 90, Train loss: 132.7758331298828\n",
            "Epoch: 91, Train loss: 132.7745819091797\n",
            "Epoch: 92, Train loss: 132.77304077148438\n",
            "Epoch: 93, Train loss: 132.77134704589844\n",
            "Epoch: 94, Train loss: 132.76963806152344\n",
            "Epoch: 95, Train loss: 132.76724243164062\n",
            "Epoch: 96, Train loss: 132.7639617919922\n",
            "Epoch: 97, Train loss: 132.75946044921875\n",
            "Epoch: 98, Train loss: 132.75323486328125\n",
            "Epoch: 99, Train loss: 132.74423217773438\n",
            "Epoch: 100, Train loss: 132.730712890625\n",
            "Finished.\n"
          ]
        }
      ],
      "source": [
        "skipgram.train()\n",
        "skipgram = skipgram.to(device)\n",
        "optim = torch.optim.SGD(skipgram.parameters(), lr=0.05)\n",
        "loss_function = nn.CrossEntropyLoss(reduction='sum')\n",
        "\n",
        "for e in range(1, num_epochs+1):\n",
        "  for batch in skipgram_loader:\n",
        "    x, y = batch\n",
        "    y_one_hot = F.one_hot(y, num_classes=len(w2i)).type(torch.FloatTensor)\n",
        "    x, y_one_hot = x.to(device), y_one_hot.to(device) # (B, W), (B)\n",
        "\n",
        "    output = skipgram(x)  # (B, V)\n",
        "    optim.zero_grad()\n",
        "    loss = loss_function(output, y_one_hot)\n",
        "    loss.backward()\n",
        "    optim.step()\n",
        "\n",
        "  print(f\"Epoch: {e}, Train loss: {loss.item()}\")\n",
        "  # print(output, y_one_hot)\n",
        "\n",
        "print(\"Finished.\")"
      ]
    },
    {
      "cell_type": "markdown",
      "metadata": {
        "id": "Pi0sbHV6dEOR"
      },
      "source": [
        "### **테스트**"
      ]
    },
    {
      "cell_type": "markdown",
      "metadata": {
        "id": "WGarLWxXeJvz"
      },
      "source": [
        "학습된 각 모델을 이용하여 test 단어들의 word embedding을 확인합니다."
      ]
    },
    {
      "cell_type": "code",
      "execution_count": 22,
      "metadata": {
        "colab": {
          "base_uri": "https://localhost:8080/"
        },
        "id": "4A1wrl-L_RjF",
        "outputId": "307cbe98-9f00-4c65-bda5-6c8e0c242eb2"
      },
      "outputs": [
        {
          "name": "stdout",
          "output_type": "stream",
          "text": [
            "Word: 영화\n",
            "tensor([-1.1474e+00, -4.1653e-01, -1.7130e+00, -2.9237e-01, -7.5269e-01,\n",
            "         1.5579e-01,  1.4820e+00, -1.2933e+00, -4.5133e-01,  5.8596e-01,\n",
            "        -1.0201e+00,  6.9720e-01, -6.1595e-01, -9.5778e-01,  9.8412e-01,\n",
            "         8.1420e-01,  7.5689e-01,  1.6650e-01, -4.4857e-01, -1.2358e-01,\n",
            "        -3.2547e-01,  1.6708e-02,  1.1046e+00, -2.0140e+00,  9.6500e-01,\n",
            "         1.0175e-01, -8.7717e-01,  7.4379e-01,  7.9628e-01, -3.7616e-03,\n",
            "         3.4324e-01,  1.8082e+00,  1.1770e-01,  6.4805e-01,  1.2161e+00,\n",
            "        -9.5742e-01, -6.5795e-01,  9.1731e-01,  6.5131e-01, -1.8505e+00,\n",
            "         1.5873e+00,  8.6331e-03,  1.3548e+00, -3.9315e-01,  1.5977e-01,\n",
            "         6.7124e-01, -6.5777e-01,  1.4380e+00,  2.4168e-01,  3.6840e-01,\n",
            "        -1.4070e+00, -9.6811e-01,  3.0780e-01, -1.0392e+00, -1.7469e-01,\n",
            "         1.9003e+00,  7.1217e-01, -5.6810e-01, -1.2555e+00,  5.8535e-01,\n",
            "         1.1837e+00,  5.8946e-01,  3.9897e-01,  8.9005e-01,  7.7362e-01,\n",
            "        -8.4691e-01,  5.9058e-01,  4.6790e-01, -7.1313e-02,  3.9526e-01,\n",
            "         1.7271e-01, -5.5550e-01,  2.4323e-01,  4.6364e-03,  5.9318e-01,\n",
            "         3.8549e-01, -8.1925e-01, -3.7230e-01,  5.6836e-01, -2.0890e-01,\n",
            "         1.1120e+00, -1.0596e+00,  6.2371e-01,  1.1240e-01, -1.3955e+00,\n",
            "        -7.4445e-01,  2.5194e+00,  5.1332e-01, -1.8886e-01,  1.3318e-01,\n",
            "         6.8433e-01, -8.4249e-01, -4.6842e-01, -5.3286e-02,  6.6421e-01,\n",
            "         1.5367e-01, -1.7339e+00,  4.4504e-02, -1.2972e+00, -1.7195e+00,\n",
            "         1.7797e-01,  3.9021e-01,  1.0367e+00,  1.2601e+00,  1.1864e-01,\n",
            "        -9.4492e-01, -5.2114e-02,  5.3732e-01, -6.7384e-01, -3.5667e-03,\n",
            "        -5.9640e-01,  4.0155e-01,  1.1164e+00,  1.3792e-01,  7.6915e-01,\n",
            "        -1.0246e+00, -8.8590e-02, -1.2618e+00, -1.4243e+00,  1.1569e-01,\n",
            "        -1.2992e+00,  1.9804e+00,  1.4098e+00,  2.4496e-01, -5.6471e-01,\n",
            "         7.1532e-01,  1.8111e-02, -5.8391e-01,  8.6355e-01, -2.9495e-01,\n",
            "         6.5810e-01, -9.2287e-01,  6.9764e-01,  8.2366e-01,  1.1102e+00,\n",
            "         6.9503e-01, -1.9566e-01,  1.7975e+00, -1.1565e+00, -6.7690e-02,\n",
            "        -6.3375e-01,  2.5325e-01, -8.2300e-01,  5.4434e-01,  6.6133e-01,\n",
            "        -2.2137e-01,  9.1256e-01, -5.7392e-01,  7.1096e-01, -7.6721e-01,\n",
            "        -3.4885e-01,  6.0503e-01,  2.2887e-01, -9.4729e-01,  1.1142e+00,\n",
            "         3.0576e-01,  5.4029e-01,  6.7205e-01, -4.8763e-01, -1.7864e-01,\n",
            "        -7.5423e-01, -1.4885e+00,  6.7453e-01, -5.7262e-01, -3.1135e-01,\n",
            "         2.6942e-01, -3.2279e-01,  1.3495e+00, -1.1998e+00, -4.8781e-01,\n",
            "        -1.6616e+00,  1.7607e+00,  6.6787e-01,  6.5411e-01, -2.6230e-01,\n",
            "        -1.1084e+00,  9.0826e-01,  1.0010e-01,  1.2482e-01, -2.1342e-01,\n",
            "        -8.4738e-01,  2.7292e-01, -3.8706e-01, -1.6437e+00,  2.6938e-01,\n",
            "         1.0055e+00,  4.1633e-01,  2.2176e-01,  9.9397e-02, -2.1154e+00,\n",
            "        -6.7617e-01, -1.4307e-01, -1.0947e-02, -1.7025e+00, -1.2334e+00,\n",
            "         6.7150e-01,  8.9043e-02, -3.8843e-01,  6.3562e-02, -6.0094e-01,\n",
            "         1.1639e+00,  3.6833e-01, -4.4703e-01, -9.9457e-01, -1.1214e+00,\n",
            "        -1.1614e+00,  7.4751e-01,  1.4864e+00,  4.5743e-02, -2.6044e-01,\n",
            "         8.0930e-01, -2.6948e+00,  1.4663e+00,  5.0993e-01, -7.1406e-02,\n",
            "         5.7774e-01, -8.7485e-01, -1.4462e+00, -8.3642e-01,  6.5875e-01,\n",
            "         9.9400e-01, -1.9945e-01,  1.2382e+00,  4.2394e-01,  1.1473e-01,\n",
            "        -8.9059e-02, -7.7270e-01,  9.5456e-01, -3.6952e-04,  7.4881e-01,\n",
            "         1.1270e+00, -7.7682e-01, -6.5103e-01, -3.6753e-01, -6.0779e-01,\n",
            "        -3.0055e-01, -9.9160e-01,  8.3000e-01,  2.1525e-01, -8.4862e-01,\n",
            "         1.5891e+00, -1.0451e+00, -2.3763e-01, -8.2522e-01,  3.8851e-01,\n",
            "         1.1894e+00,  5.3734e-01,  3.6856e-01, -3.4118e-01,  8.1882e-01,\n",
            "         6.0773e-01, -1.1949e+00, -9.2951e-01,  1.6431e+00,  1.6910e+00,\n",
            "         9.2748e-01], device='cuda:0', grad_fn=<SqueezeBackward1>)\n",
            "Word: 기대\n",
            "tensor([-1.1391e+00,  8.0868e-01, -9.4963e-01,  5.5727e-01,  3.0564e-01,\n",
            "        -2.3376e+00,  1.8646e-01,  6.6426e-01, -6.9608e-01, -1.2574e+00,\n",
            "         1.2795e+00,  4.4100e-01,  1.2928e-01,  1.5036e+00,  4.8649e-01,\n",
            "         1.1217e+00,  1.6834e+00, -5.5905e-02,  8.4299e-01, -2.1534e+00,\n",
            "         4.2774e-01,  1.1153e+00, -2.3764e-02,  4.8615e-01, -1.6300e+00,\n",
            "         5.5760e-01,  6.0742e-01, -2.8280e-02,  6.0689e-01, -1.1865e+00,\n",
            "         5.4031e-01, -1.6511e+00, -7.7304e-01, -1.5102e-01,  1.6485e-01,\n",
            "         6.5592e-01,  1.6789e-01, -8.2700e-01, -7.8071e-01, -6.6229e-01,\n",
            "         3.3739e-01,  6.3682e-02,  7.4276e-01,  6.0206e-02,  7.6301e-01,\n",
            "        -6.3179e-01,  1.6400e-01,  1.6905e-01, -3.9748e-01, -3.6530e-01,\n",
            "         7.9448e-01, -8.3440e-02, -1.8074e-01, -8.8417e-03, -1.9078e+00,\n",
            "        -1.3608e-01, -8.0986e-01,  1.9703e-01, -4.3522e-01, -1.5461e-01,\n",
            "         9.3367e-01, -6.7667e-01, -1.0272e-01, -1.1736e+00,  2.4691e-01,\n",
            "         4.2784e-01, -2.9966e-01, -8.8007e-01,  1.2665e+00, -2.6326e-01,\n",
            "        -1.3739e-01,  6.3706e-01,  7.8197e-01,  3.2070e-01, -9.0635e-01,\n",
            "        -3.9817e-03,  1.0018e+00,  2.1987e-01, -6.8855e-01,  1.0465e+00,\n",
            "        -8.9016e-01, -1.7899e-01,  1.1631e+00, -2.0238e-01,  1.6239e+00,\n",
            "        -2.5388e+00,  1.0058e+00, -6.1039e-01,  2.4923e+00,  9.6831e-01,\n",
            "         1.4761e+00, -1.7288e+00, -1.4135e-01,  9.7703e-01,  7.1357e-01,\n",
            "         7.1165e-01,  6.7005e-01, -1.4901e-01,  7.9489e-01,  2.6750e-01,\n",
            "         1.3699e-01,  8.9225e-01,  4.7817e-01,  1.4032e-01,  1.1913e+00,\n",
            "         2.6271e-01, -1.7134e+00, -7.0204e-01,  4.1509e-01, -1.4575e-01,\n",
            "        -2.0532e-01, -1.6422e-01,  3.7875e-01,  8.9165e-01, -1.5250e+00,\n",
            "         1.6078e+00, -2.7477e-01,  1.2823e+00,  1.5853e+00, -3.7311e-01,\n",
            "        -1.4127e+00, -5.6075e-01, -1.3537e+00,  1.2182e+00, -4.6596e-01,\n",
            "        -1.2126e-01, -1.1554e+00, -1.6510e-01, -1.2206e+00, -7.4146e-01,\n",
            "         9.7805e-01, -3.8372e-01,  2.5414e-01,  1.0835e-01,  3.1581e+00,\n",
            "        -8.9855e-02,  2.8572e-01, -2.3117e-02,  1.6247e-01, -8.5028e-01,\n",
            "         2.9187e-01, -8.5212e-01, -1.7210e-01,  2.6282e-01, -2.4282e+00,\n",
            "         8.4935e-02,  3.4722e-01,  9.6877e-01, -1.0975e+00, -2.2861e-03,\n",
            "        -7.3110e-01,  1.3511e+00, -5.1523e-01,  6.0831e-02,  3.8193e-01,\n",
            "         1.7166e-01,  2.2985e-01, -1.1221e+00,  5.7617e-01,  1.4232e-01,\n",
            "        -2.3028e+00,  9.7731e-01, -8.2193e-01,  1.3369e+00,  1.1133e-01,\n",
            "        -4.5213e-01, -1.5843e-04,  7.6798e-01,  4.0548e-01,  8.6431e-01,\n",
            "        -5.5778e-01, -1.9165e+00, -3.8171e-01, -3.1066e-01, -1.3660e+00,\n",
            "         1.6323e+00,  3.5098e-01,  2.0480e-01, -1.7811e+00, -2.7558e-01,\n",
            "         1.0830e+00, -5.4513e-01, -1.8694e-01, -8.6484e-01, -1.2511e+00,\n",
            "         1.3025e+00,  3.9538e-01, -5.3193e-01, -1.4694e+00,  4.9339e-01,\n",
            "        -1.3791e+00, -1.4320e+00, -1.4377e+00, -7.5819e-01,  1.0942e+00,\n",
            "        -2.8994e-01,  1.0981e-01, -1.0262e-01, -5.4070e-01, -5.7905e-01,\n",
            "         8.4287e-01, -5.7106e-01,  5.5643e-02, -7.9627e-01, -5.7968e-01,\n",
            "         1.7474e+00, -7.3922e-01,  1.5426e+00,  2.3086e-01, -9.0444e-01,\n",
            "        -1.9839e+00,  9.6381e-02, -8.6872e-01, -4.5479e-01, -1.8981e+00,\n",
            "        -4.0019e-01, -4.2495e-01,  1.4772e+00, -2.4353e-01,  1.5752e+00,\n",
            "        -4.3417e-01, -1.8289e+00,  3.7330e-01,  1.3266e+00,  1.9210e-01,\n",
            "        -6.5037e-01, -9.5641e-01,  6.6059e-01, -1.4727e+00, -3.9433e-01,\n",
            "        -1.3976e+00, -1.1833e+00,  1.0513e+00, -2.4628e-01,  5.8710e-01,\n",
            "         3.3510e-01, -1.0274e+00, -9.5449e-01, -8.5869e-02,  8.5685e-01,\n",
            "        -4.2889e-01, -7.6518e-01,  1.0320e+00,  5.0672e-01,  1.5993e+00,\n",
            "        -9.5298e-02, -1.0119e-01,  1.4439e-01,  1.9435e+00,  1.1907e+00,\n",
            "        -5.0533e-01,  8.0594e-01,  8.2528e-01, -5.8431e-01, -1.0686e+00,\n",
            "         1.2905e+00], device='cuda:0', grad_fn=<SqueezeBackward1>)\n",
            "Word: 감독\n",
            "tensor([-2.0675, -1.3317, -0.0532, -0.1329, -1.9431,  0.8327, -0.0263,  0.4601,\n",
            "        -0.0988,  0.6599,  1.0548, -1.4513,  0.1168, -0.3426,  1.0962, -0.3533,\n",
            "         0.4501,  0.9193,  1.0803,  0.6872, -0.6407, -0.1541,  1.2931, -0.2598,\n",
            "        -1.3688, -0.7866, -0.0523,  0.0814,  0.7452, -0.2819, -0.3321,  0.7338,\n",
            "         0.0670, -1.2071, -0.7103, -0.9351,  1.2139, -0.4212, -0.0194,  0.8572,\n",
            "         0.6116,  0.0578,  0.2068, -1.0780,  0.4279,  0.9255,  0.5598, -0.8559,\n",
            "        -1.1643,  1.2734, -0.2815,  1.0616,  1.9117, -1.2980, -1.1076, -1.0752,\n",
            "         1.5958, -0.8801, -0.9105,  1.2483, -0.3986,  0.5762,  0.1463, -1.1624,\n",
            "         0.6403,  0.8561, -0.5960,  0.6321, -0.0681,  0.7649,  0.6114,  0.5417,\n",
            "        -1.4163,  0.5358, -0.7361, -0.6890, -0.8143,  0.2499, -0.0355, -0.9113,\n",
            "        -1.9753,  0.0193, -1.3947, -0.3476,  0.8773,  0.6550, -1.0049,  0.2638,\n",
            "        -1.2847, -1.2412,  1.0898,  2.1326, -0.3113,  0.8283,  0.2378, -0.3558,\n",
            "        -0.4298,  1.1279,  0.8327,  0.4288, -0.4210, -0.6765, -0.1749,  0.0929,\n",
            "         0.6377, -1.4957, -0.9272, -1.5587, -1.1663, -2.8788, -1.6939,  1.5328,\n",
            "        -0.7705,  0.1526, -0.8240,  0.7225, -0.2308, -0.4728, -2.2294, -1.2523,\n",
            "         1.0054,  1.4615,  0.9998,  0.5073,  1.0259,  2.1801, -0.0384, -0.5290,\n",
            "         0.1866,  0.2881, -0.4208, -1.3774,  0.3827, -0.9920,  0.7596, -0.2979,\n",
            "        -0.4536,  0.8686, -0.9395, -0.2555, -1.5202,  1.6143, -1.7585,  3.0024,\n",
            "        -1.1593,  2.0021, -0.3465, -0.4387,  0.3106,  0.2818, -0.2406,  2.0315,\n",
            "         0.3047, -0.9327, -0.5264, -0.3674, -1.4747, -2.3798, -1.3460,  0.0467,\n",
            "         0.1699, -0.0199, -0.1371,  0.7269,  0.0436, -1.3909,  0.1957, -0.8235,\n",
            "        -0.2765,  0.2777, -1.0501, -0.4902, -0.9689,  0.0804,  0.5684, -0.9862,\n",
            "        -1.0315,  0.3275, -0.4290, -0.6026, -0.6008, -0.4265,  0.3477,  1.9950,\n",
            "        -0.1975,  0.1985,  0.0423, -0.6003, -0.4902,  2.8375,  1.9647,  2.2875,\n",
            "        -1.7255,  1.6262, -1.2699,  0.0087,  1.0677, -0.0721,  1.6411,  1.1158,\n",
            "        -0.7806, -1.1803, -1.4694,  0.1142,  0.8453, -0.7542,  1.0200,  0.5354,\n",
            "         0.7122, -1.2660,  0.8115, -1.1777, -0.2852,  0.2919,  0.2039, -0.2128,\n",
            "        -1.0632,  1.6815,  0.1544, -0.5023, -1.6391, -0.2921, -0.0846,  1.3103,\n",
            "        -0.2523,  1.5296,  1.3268,  0.2793,  0.5170, -0.9194, -0.4119, -0.5983,\n",
            "        -0.1608, -0.2754,  0.2482, -0.8882, -0.0817, -2.0033,  0.6996,  1.3129,\n",
            "         0.2379,  2.0250,  1.1122,  0.3225, -0.0452,  0.1573,  1.4081,  0.8075,\n",
            "         0.1760, -1.2487,  2.4091, -2.1747, -1.7474,  0.7759, -1.0526, -0.2977],\n",
            "       device='cuda:0', grad_fn=<SqueezeBackward1>)\n",
            "Word: 배우\n",
            "tensor([-0.9473, -0.1862,  1.1878,  0.5562,  0.4485,  0.8976, -0.7537,  1.1011,\n",
            "         0.0189,  0.2458, -0.4185, -0.4206, -0.8162, -1.7779,  0.6396, -0.7613,\n",
            "         1.9553, -0.2401,  0.6642, -0.1509,  0.6291, -0.8707,  0.9579, -1.0875,\n",
            "         0.0957,  1.1559, -0.9465, -0.7052, -0.3668, -0.0508, -0.3184,  0.0797,\n",
            "         0.8872,  0.1788, -0.7032,  0.5520, -0.5732, -0.2617,  1.1256, -2.0569,\n",
            "         0.2405,  1.0291,  0.1374, -0.2588, -0.8431, -0.0161, -0.5256, -0.2004,\n",
            "        -0.5809,  0.6858, -0.6467,  0.9955,  0.3355,  0.4364,  0.0295, -1.1706,\n",
            "         0.9525,  0.6425, -1.8047,  1.8204,  0.7180,  1.0647, -1.3988, -2.1126,\n",
            "        -0.3473, -1.9437,  0.4126,  1.0142,  0.2227,  0.2122,  0.8296,  1.3352,\n",
            "         0.4187, -1.1031,  0.3666, -0.1896, -0.4276, -0.4841,  0.5802, -0.1286,\n",
            "        -1.1679,  0.5006,  0.2246,  0.1234, -0.2867,  0.4798,  1.4356,  0.0469,\n",
            "         0.5475,  1.3922, -0.4267, -2.2952,  1.4916,  1.1767, -0.0721, -1.0205,\n",
            "        -0.7633,  1.2497, -0.5859, -1.8803,  0.3542, -2.3534,  0.7728, -0.4306,\n",
            "        -0.5195, -0.4278,  1.1185,  1.4604, -0.3128,  1.9071, -0.1456,  2.1964,\n",
            "         0.5093,  0.3221, -0.8445,  1.2742, -0.1531,  1.0866, -0.6812, -0.0855,\n",
            "         0.4160,  0.7673,  0.7919,  0.9320,  0.3787,  0.3255, -1.5123, -0.5878,\n",
            "        -0.0216,  1.0612,  1.3989, -0.6139, -0.1225,  1.1525,  0.9272, -1.0962,\n",
            "         1.1336,  1.4218,  0.9304,  0.9588,  0.4090, -0.6001,  0.2721, -0.6249,\n",
            "         0.8179, -0.8154, -0.8622, -2.1894, -0.5149,  1.8718, -0.1522, -1.4897,\n",
            "         0.5321, -1.0555, -1.3715,  0.9135, -0.8123,  1.0630,  1.6177,  1.2529,\n",
            "        -1.1466, -1.1472, -1.1823, -0.8614,  0.3189, -0.3735,  0.6300,  0.0129,\n",
            "        -1.4660, -1.5914,  0.1373, -0.7425,  1.1011,  0.6461,  0.6438,  1.1166,\n",
            "        -0.3887,  0.7348, -0.5129,  0.4081,  0.6206, -1.2587, -0.7048,  0.9897,\n",
            "         0.0596, -0.9917,  0.6670,  0.8672, -0.2360, -0.6683, -0.4370, -0.3124,\n",
            "         0.6615,  0.5513, -0.6065,  0.0292, -0.0656, -0.4539,  1.5108, -1.9140,\n",
            "        -0.1647, -1.2861, -0.2740, -0.5154, -0.4547,  1.6182, -0.7843, -1.3543,\n",
            "         1.4856, -0.0440,  0.9779, -1.2806, -0.6792, -1.7126,  1.3769,  0.5816,\n",
            "         1.1148, -0.8175, -0.2297,  0.0774,  0.0843,  0.8439, -0.9810, -0.0602,\n",
            "         0.8739,  0.1548, -0.5927,  0.4321, -0.8100,  0.1342, -0.7873,  0.0383,\n",
            "         1.6419, -0.6511,  0.4208, -1.3113, -0.7750, -0.7594, -0.9456, -0.9436,\n",
            "        -0.5802, -0.4969, -0.8995, -0.1674, -0.0601,  0.4374, -0.9390, -2.1739,\n",
            "         0.0579, -1.6826, -0.5282, -1.1071,  0.6679, -1.7226,  0.5473, -0.2541],\n",
            "       device='cuda:0', grad_fn=<SqueezeBackward1>)\n",
            "Word: 평점\n",
            "tensor([-0.7940, -2.1744,  0.7222,  1.0613, -0.6396, -0.7371,  0.5207, -1.1111,\n",
            "        -0.5896,  1.1417,  0.2578,  0.0919,  0.3646, -0.6615,  0.3052, -1.6706,\n",
            "         1.5280,  0.6178, -0.7851, -0.5930, -1.4161, -0.5011, -0.7415,  0.3104,\n",
            "        -0.1775,  0.8355, -1.1052,  1.8777,  3.1898, -2.4458,  0.5285,  0.2018,\n",
            "        -0.9600,  0.0969,  0.4356, -1.3713, -0.4387,  1.1327,  0.4019, -0.2941,\n",
            "         1.3680, -0.6664,  0.2170,  0.5420,  0.4933,  1.4786,  1.0245,  0.3613,\n",
            "         1.2855,  1.1338,  1.8460,  0.9133,  0.8587,  0.2475, -0.5434, -0.8442,\n",
            "         0.0889,  2.0397,  1.1866,  0.9024,  1.2343, -1.1107, -1.6413, -0.7872,\n",
            "         0.1347,  0.4505, -0.4691,  0.8055,  0.1865, -0.1339, -0.8399, -0.2759,\n",
            "        -2.1213,  0.5460,  0.7193,  0.4290,  0.4369,  0.8537,  1.1641,  0.0707,\n",
            "         0.2763,  0.2173, -1.3831, -0.4076,  0.5486, -0.0205, -1.3846,  0.0524,\n",
            "        -0.4235, -0.0243, -0.1248,  0.8879, -1.3341, -0.2908, -0.1683, -0.8292,\n",
            "        -0.7626, -0.1891,  0.2733,  0.0706, -0.1878, -0.1395, -0.9046, -0.8075,\n",
            "         1.5122, -0.3044,  1.7962,  1.8621,  1.9277, -1.5918, -1.7075, -1.5551,\n",
            "        -2.1238,  0.1312, -0.8460,  1.2553, -0.1889, -1.2015,  0.3475, -1.2935,\n",
            "         0.0675,  0.1986,  1.3487, -0.2681,  1.0206,  0.9381,  0.4765, -0.9332,\n",
            "        -0.7036,  1.4254, -0.9240, -1.6999, -0.3623, -1.8244,  0.9974, -0.3322,\n",
            "         1.1898,  1.2787,  1.0669, -0.9903, -1.1347,  1.4545, -1.2998, -0.7907,\n",
            "        -0.3453, -0.6355,  0.9093,  1.3063, -1.0444, -1.5058,  0.9018,  0.8275,\n",
            "        -0.7602, -0.0407,  1.0736,  0.8974,  0.2798,  0.8455, -0.3595,  0.3380,\n",
            "         0.2474, -0.8872, -1.3327, -1.7361,  0.2672, -0.4909,  1.0108, -0.2129,\n",
            "         0.0150, -0.3840,  1.2440,  0.1354,  0.0276,  0.9413,  0.6928, -0.6860,\n",
            "        -0.5267, -1.3608,  0.6527, -0.4468, -0.0568, -0.6664,  1.1768, -0.4344,\n",
            "        -0.9686, -1.6629,  1.9923, -0.0225,  1.6811,  0.2412,  1.0328, -0.0412,\n",
            "        -0.1996,  0.5926,  1.1064,  0.8225,  1.1218, -0.4677,  1.5933, -1.3890,\n",
            "        -0.0296,  0.3138, -0.3705,  0.0874, -1.3449,  0.4675,  1.5779, -1.8058,\n",
            "         1.4259,  0.0316,  0.2983, -0.9696, -0.4115, -1.4800,  0.6143,  1.9356,\n",
            "        -0.6310,  0.8509, -0.9865,  0.3276, -0.6044, -0.9571, -2.6013, -1.9503,\n",
            "        -0.7447,  1.7807, -0.5864,  0.7957,  0.2374, -1.6763,  1.1613,  0.0370,\n",
            "         0.9775,  0.7150,  0.9759, -0.3829, -0.5401,  0.8514,  1.3250, -0.4931,\n",
            "        -1.3631,  2.1194, -0.0511,  1.0368, -1.4799,  0.7835,  0.8213, -0.3398,\n",
            "        -1.7451,  0.7404, -0.4098,  0.3121,  0.1149,  0.1128,  0.9626,  0.6292],\n",
            "       device='cuda:0', grad_fn=<SqueezeBackward1>)\n"
          ]
        }
      ],
      "source": [
        "for word in test_words:\n",
        "  input_id = torch.LongTensor([w2i[word]]).to(device)\n",
        "  emb = cbow.embedding(input_id)\n",
        "\n",
        "  print(f\"Word: {word}\")\n",
        "  print(emb.squeeze(0))"
      ]
    },
    {
      "cell_type": "code",
      "execution_count": 23,
      "metadata": {
        "colab": {
          "base_uri": "https://localhost:8080/"
        },
        "id": "_l5cPRZZe-R4",
        "outputId": "0f685cf6-4d47-433b-b4a6-8f0774285b88"
      },
      "outputs": [
        {
          "name": "stdout",
          "output_type": "stream",
          "text": [
            "Word: 영화\n",
            "tensor(2.6131, device='cuda:0', grad_fn=<UnbindBackward0>)\n",
            "Word: 기대\n",
            "tensor(2.8409, device='cuda:0', grad_fn=<UnbindBackward0>)\n",
            "Word: 감독\n",
            "tensor(2.6291, device='cuda:0', grad_fn=<UnbindBackward0>)\n",
            "Word: 배우\n",
            "tensor(2.9281, device='cuda:0', grad_fn=<UnbindBackward0>)\n",
            "Word: 평점\n",
            "tensor(2.7298, device='cuda:0', grad_fn=<UnbindBackward0>)\n"
          ]
        }
      ],
      "source": [
        "for word in test_words:\n",
        "  input_id = torch.LongTensor([w2i[word]]).to(device)\n",
        "  emb = skipgram.embedding(input_id)\n",
        "\n",
        "  print(f\"Word: {word}\")\n",
        "  print(max(emb.squeeze(0)))"
      ]
    },
    {
      "cell_type": "code",
      "execution_count": 24,
      "metadata": {
        "colab": {
          "base_uri": "https://localhost:8080/"
        },
        "id": "T4mv-fDF29Ha",
        "outputId": "5ee7abfb-8b9a-44a0-ae74-fc731f049945"
      },
      "outputs": [
        {
          "data": {
            "text/plain": [
              "['영화', '기대', '감독', '배우', '평점']"
            ]
          },
          "execution_count": 24,
          "metadata": {},
          "output_type": "execute_result"
        }
      ],
      "source": [
        "test_words"
      ]
    },
    {
      "cell_type": "code",
      "execution_count": 25,
      "metadata": {
        "id": "1OBlu8O63CXx"
      },
      "outputs": [],
      "source": [
        "def most_similar(word,top_k = 5):\n",
        "  input_id = torch.LongTensor([w2i[word]]).to(device)\n",
        "  input_emb = skipgram.embedding(input_id)\n",
        "  score = torch.matmul(input_emb, skipgram.embedding.weight.transpose(1,0)).view(-1)\n",
        "\n",
        "  _, top_k_ids = torch.topk(score, top_k)\n",
        "\n",
        "  return [i2w[word_id.item()] for word_id in top_k_ids][1:]"
      ]
    },
    {
      "cell_type": "code",
      "execution_count": 27,
      "metadata": {
        "colab": {
          "base_uri": "https://localhost:8080/"
        },
        "id": "c75HQoLn2_Ty",
        "outputId": "a9fb8d1c-11d0-4289-8a31-85382eb78f6a"
      },
      "outputs": [
        {
          "name": "stdout",
          "output_type": "stream",
          "text": [
            "영화 : ['유치', '국격', '컨져링', '승리']\n",
            "기대 : ['백전노장', '투척', '이자', '나락']\n",
            "감독 : ['불교', '버틀러', '년전', '음']\n",
            "배우 : ['볼거리', '더', '안나', '수학자']\n",
            "평점 : ['모습', '성공', '메시지', '로드']\n"
          ]
        }
      ],
      "source": [
        "for word in test_words:\n",
        "    print(word, ':', most_similar(word))\n"
      ]
    },
    {
      "cell_type": "markdown",
      "metadata": {
        "id": "4YvYEGNr2IiR"
      },
      "source": [
        "## Word2Vec 시각화"
      ]
    },
    {
      "cell_type": "code",
      "execution_count": 28,
      "metadata": {
        "id": "rcBVrabH2IiR"
      },
      "outputs": [],
      "source": [
        "from sklearn.decomposition import PCA"
      ]
    },
    {
      "cell_type": "code",
      "execution_count": 29,
      "metadata": {
        "id": "c8XdtYVf8Ydg"
      },
      "outputs": [],
      "source": [
        "import matplotlib.pyplot as plt\n",
        "# matplotlib 패키지 한글 깨짐 처리 시작\n",
        "plt.rc('font', family='NanumBarunGothic') \n",
        "# plt.rc('font', family='AppleGothic') #맥"
      ]
    },
    {
      "cell_type": "code",
      "execution_count": 30,
      "metadata": {},
      "outputs": [
        {
          "data": {
            "text/plain": [
              "(2826, 256)"
            ]
          },
          "execution_count": 30,
          "metadata": {},
          "output_type": "execute_result"
        }
      ],
      "source": [
        "skipgram.embedding.weight.data.cpu().numpy().shape"
      ]
    },
    {
      "cell_type": "code",
      "execution_count": 31,
      "metadata": {},
      "outputs": [
        {
          "data": {
            "text/plain": [
              "(2826, 256)"
            ]
          },
          "execution_count": 31,
          "metadata": {},
          "output_type": "execute_result"
        }
      ],
      "source": [
        "cbow.embedding.weight.data.cpu().numpy().shape"
      ]
    },
    {
      "cell_type": "code",
      "execution_count": 32,
      "metadata": {
        "id": "hEypFpsw7K8q"
      },
      "outputs": [],
      "source": [
        "pca = PCA(n_components=2)"
      ]
    },
    {
      "cell_type": "code",
      "execution_count": 33,
      "metadata": {},
      "outputs": [],
      "source": [
        "pc_weight = pca.fit_transform(skipgram.embedding.weight.data.cpu().numpy())"
      ]
    },
    {
      "cell_type": "code",
      "execution_count": 36,
      "metadata": {
        "colab": {
          "base_uri": "https://localhost:8080/",
          "height": 1000
        },
        "id": "8KKgYYTa7Uh3",
        "outputId": "08404678-8e1d-467a-c590-143bb857acab"
      },
      "outputs": [
        {
          "name": "stderr",
          "output_type": "stream",
          "text": [
            "/home/koowater/.local/lib/python3.8/site-packages/IPython/core/pylabtools.py:151: UserWarning: Glyph 8722 (\\N{MINUS SIGN}) missing from current font.\n",
            "  fig.canvas.print_figure(bytes_io, **kw)\n"
          ]
        },
        {
          "data": {
            "image/png": "[encoded data removed]",
            "text/plain": [
              "<Figure size 1080x1080 with 1 Axes>"
            ]
          },
          "metadata": {
            "needs_background": "light"
          },
          "output_type": "display_data"
        }
      ],
      "source": [
        "pc_weight = pca.fit_transform(skipgram.embedding.weight.data.cpu().numpy())\n",
        "plt.figure(figsize=(15,15))\n",
        "for word_id, (x_coordinate, y_coordinate) in enumerate(pc_weight[:200]):\n",
        "  plt.scatter(x_coordinate, y_coordinate,color=\"blue\")\n",
        "  plt.annotate(i2w[word_id], (x_coordinate+0.1, y_coordinate))"
      ]
    },
    {
      "cell_type": "code",
      "execution_count": 37,
      "metadata": {},
      "outputs": [
        {
          "name": "stderr",
          "output_type": "stream",
          "text": [
            "/home/koowater/.local/lib/python3.8/site-packages/IPython/core/pylabtools.py:151: UserWarning: Glyph 8722 (\\N{MINUS SIGN}) missing from current font.\n",
            "  fig.canvas.print_figure(bytes_io, **kw)\n"
          ]
        },
        {
          "data": {
            "image/png": "[encoded data removed]",
            "text/plain": [
              "<Figure size 1080x1080 with 1 Axes>"
            ]
          },
          "metadata": {
            "needs_background": "light"
          },
          "output_type": "display_data"
        }
      ],
      "source": [
        "pc_weight = pca.fit_transform(cbow.embedding.weight.data.cpu().numpy())\n",
        "plt.figure(figsize=(15,15))\n",
        "for word_id,(x_coordinate, y_coordinate) in enumerate(pc_weight[:200]):\n",
        "  plt.scatter(x_coordinate, y_coordinate,color=\"blue\")\n",
        "  plt.annotate(i2w[word_id], (x_coordinate+0.1, y_coordinate))"
      ]
    },
    {
      "cell_type": "code",
      "execution_count": null,
      "metadata": {
        "id": "PX4adG7B7qdV"
      },
      "outputs": [],
      "source": [
        "from gensim.models import Word2Vec\n",
        "\n",
        "model = Word2Vec(sentences=train_tokenized, vector_size=100, window=2, min_count=1, workers=4, sg=0)"
      ]
    },
    {
      "cell_type": "code",
      "execution_count": null,
      "metadata": {},
      "outputs": [
        {
          "name": "stdout",
          "output_type": "stream",
          "text": [
            "[('하다', 0.252762109041214), ('최고', 0.2012740522623062), ('는', 0.1956762671470642)]\n"
          ]
        }
      ],
      "source": [
        "print(model.wv.most_similar('너무')[:3])"
      ]
    },
    {
      "cell_type": "code",
      "execution_count": null,
      "metadata": {},
      "outputs": [
        {
          "data": {
            "text/plain": [
              "60"
            ]
          },
          "execution_count": 66,
          "metadata": {},
          "output_type": "execute_result"
        }
      ],
      "source": []
    },
    {
      "cell_type": "code",
      "execution_count": null,
      "metadata": {},
      "outputs": [],
      "source": []
    },
    {
      "cell_type": "code",
      "execution_count": null,
      "metadata": {},
      "outputs": [],
      "source": []
    }
  ],
  "metadata": {
    "accelerator": "GPU",
    "colab": {
      "collapsed_sections": [],
      "name": "[HW26_Answer]Word2Vec.ipynb의 사본",
      "provenance": []
    },
    "kernelspec": {
      "display_name": "Python 3.8.10 64-bit",
      "language": "python",
      "name": "python3"
    },
    "language_info": {
      "codemirror_mode": {
        "name": "ipython",
        "version": 3
      },
      "file_extension": ".py",
      "mimetype": "text/x-python",
      "name": "python",
      "nbconvert_exporter": "python",
      "pygments_lexer": "ipython3",
      "version": "3.8.10"
    },
    "vscode": {
      "interpreter": {
        "hash": "916dbcbb3f70747c44a77c7bcd40155683ae19c65e1c03b4aa3499c5328201f1"
      }
    }
  },
  "nbformat": 4,
  "nbformat_minor": 0
}
