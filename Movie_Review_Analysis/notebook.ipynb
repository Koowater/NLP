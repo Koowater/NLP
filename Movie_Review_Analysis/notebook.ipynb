{
 "cells": [
  {
   "cell_type": "code",
   "execution_count": 1,
   "metadata": {},
   "outputs": [],
   "source": [
    "import pandas as pd"
   ]
  },
  {
   "cell_type": "code",
   "execution_count": 2,
   "metadata": {},
   "outputs": [],
   "source": [
    "df = pd.read_csv('reviews.csv')"
   ]
  },
  {
   "cell_type": "code",
   "execution_count": 3,
   "metadata": {},
   "outputs": [
    {
     "data": {
      "text/html": [
       "<div>\n",
       "<style scoped>\n",
       "    .dataframe tbody tr th:only-of-type {\n",
       "        vertical-align: middle;\n",
       "    }\n",
       "\n",
       "    .dataframe tbody tr th {\n",
       "        vertical-align: top;\n",
       "    }\n",
       "\n",
       "    .dataframe thead th {\n",
       "        text-align: right;\n",
       "    }\n",
       "</style>\n",
       "<table border=\"1\" class=\"dataframe\">\n",
       "  <thead>\n",
       "    <tr style=\"text-align: right;\">\n",
       "      <th></th>\n",
       "      <th>movie</th>\n",
       "      <th>sentence</th>\n",
       "      <th>score</th>\n",
       "    </tr>\n",
       "  </thead>\n",
       "  <tbody>\n",
       "    <tr>\n",
       "      <th>0</th>\n",
       "      <td>플립</td>\n",
       "      <td>미국판 봄봄 재밌게 봤어요~</td>\n",
       "      <td>8</td>\n",
       "    </tr>\n",
       "    <tr>\n",
       "      <th>1</th>\n",
       "      <td>캡틴 마블</td>\n",
       "      <td>너무 재미있다어ㅓㅇ나</td>\n",
       "      <td>10</td>\n",
       "    </tr>\n",
       "    <tr>\n",
       "      <th>2</th>\n",
       "      <td>캡틴 마블</td>\n",
       "      <td>너무 재미있다어ㅓㅇ나</td>\n",
       "      <td>10</td>\n",
       "    </tr>\n",
       "    <tr>\n",
       "      <th>3</th>\n",
       "      <td>신비한 동물들과 덤블도어의 비밀</td>\n",
       "      <td>조금 더 판타지라는 장르적인 재미에 치중했다면 좋았을 듯 하다.</td>\n",
       "      <td>6</td>\n",
       "    </tr>\n",
       "    <tr>\n",
       "      <th>4</th>\n",
       "      <td>발신제한</td>\n",
       "      <td>개연성 너무 떨어지고, 범인이 듣고만 있는건지 보고도 있는건지 헷갈리고 결국엔 불쌍...</td>\n",
       "      <td>6</td>\n",
       "    </tr>\n",
       "    <tr>\n",
       "      <th>...</th>\n",
       "      <td>...</td>\n",
       "      <td>...</td>\n",
       "      <td>...</td>\n",
       "    </tr>\n",
       "    <tr>\n",
       "      <th>1867</th>\n",
       "      <td>서울괴담</td>\n",
       "      <td>마네킹 분량 넘 짧다 다 궁금했는데 ..그거 빼고는 재밌음 낫배드아이돌들 많은데 의...</td>\n",
       "      <td>10</td>\n",
       "    </tr>\n",
       "    <tr>\n",
       "      <th>1868</th>\n",
       "      <td>립반윙클의 신부</td>\n",
       "      <td>사실 본인은 시끄러운 영화를 좋아한다. 그냥 아무생각없이 볼 수 있는 그런 영화들....</td>\n",
       "      <td>9</td>\n",
       "    </tr>\n",
       "    <tr>\n",
       "      <th>1869</th>\n",
       "      <td>랜드</td>\n",
       "      <td>상처, 트라우마와 함께 살아가는 법에 대한 이야기</td>\n",
       "      <td>10</td>\n",
       "    </tr>\n",
       "    <tr>\n",
       "      <th>1870</th>\n",
       "      <td>토이 스토리 4</td>\n",
       "      <td>토이스토리 3은 완벽한 결말이었어서 이제 더이상의 아쉬움은 남지 않은 후련하고 감동...</td>\n",
       "      <td>8</td>\n",
       "    </tr>\n",
       "    <tr>\n",
       "      <th>1871</th>\n",
       "      <td>클로이</td>\n",
       "      <td>배우들 연기력이 좋다 마이클 잘생김</td>\n",
       "      <td>10</td>\n",
       "    </tr>\n",
       "  </tbody>\n",
       "</table>\n",
       "<p>1872 rows × 3 columns</p>\n",
       "</div>"
      ],
      "text/plain": [
       "                  movie                                           sentence  \\\n",
       "0                    플립                                    미국판 봄봄 재밌게 봤어요~   \n",
       "1                 캡틴 마블                                        너무 재미있다어ㅓㅇ나   \n",
       "2                 캡틴 마블                                        너무 재미있다어ㅓㅇ나   \n",
       "3     신비한 동물들과 덤블도어의 비밀                조금 더 판타지라는 장르적인 재미에 치중했다면 좋았을 듯 하다.   \n",
       "4                  발신제한  개연성 너무 떨어지고, 범인이 듣고만 있는건지 보고도 있는건지 헷갈리고 결국엔 불쌍...   \n",
       "...                 ...                                                ...   \n",
       "1867               서울괴담  마네킹 분량 넘 짧다 다 궁금했는데 ..그거 빼고는 재밌음 낫배드아이돌들 많은데 의...   \n",
       "1868           립반윙클의 신부  사실 본인은 시끄러운 영화를 좋아한다. 그냥 아무생각없이 볼 수 있는 그런 영화들....   \n",
       "1869                 랜드                        상처, 트라우마와 함께 살아가는 법에 대한 이야기   \n",
       "1870           토이 스토리 4  토이스토리 3은 완벽한 결말이었어서 이제 더이상의 아쉬움은 남지 않은 후련하고 감동...   \n",
       "1871                클로이                                배우들 연기력이 좋다 마이클 잘생김   \n",
       "\n",
       "      score  \n",
       "0         8  \n",
       "1        10  \n",
       "2        10  \n",
       "3         6  \n",
       "4         6  \n",
       "...     ...  \n",
       "1867     10  \n",
       "1868      9  \n",
       "1869     10  \n",
       "1870      8  \n",
       "1871     10  \n",
       "\n",
       "[1872 rows x 3 columns]"
      ]
     },
     "execution_count": 3,
     "metadata": {},
     "output_type": "execute_result"
    }
   ],
   "source": [
    "df"
   ]
  },
  {
   "cell_type": "code",
   "execution_count": null,
   "metadata": {},
   "outputs": [],
   "source": []
  }
 ],
 "metadata": {
  "kernelspec": {
   "display_name": "Python 3.8.10 64-bit",
   "language": "python",
   "name": "python3"
  },
  "language_info": {
   "codemirror_mode": {
    "name": "ipython",
    "version": 3
   },
   "file_extension": ".py",
   "mimetype": "text/x-python",
   "name": "python",
   "nbconvert_exporter": "python",
   "pygments_lexer": "ipython3",
   "version": "3.8.10"
  },
  "orig_nbformat": 4,
  "vscode": {
   "interpreter": {
    "hash": "916dbcbb3f70747c44a77c7bcd40155683ae19c65e1c03b4aa3499c5328201f1"
   }
  }
 },
 "nbformat": 4,
 "nbformat_minor": 2
}
